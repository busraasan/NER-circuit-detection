{
 "cells": [
  {
   "cell_type": "code",
   "execution_count": 1,
   "id": "75079463",
   "metadata": {},
   "outputs": [
    {
     "name": "stdout",
     "output_type": "stream",
     "text": [
      "Loaded pretrained model gemma-2b into HookedTransformer\n"
     ]
    }
   ],
   "source": [
    "from transformer_lens import HookedTransformer, HookedTransformerConfig, FactoredMatrix, ActivationCache\n",
    "import torch\n",
    "\n",
    "device = \"cuda:0\" if torch.cuda.is_available() else \"cpu\"\n",
    "\n",
    "model_name = \"gemma-2b\"\n",
    "model = HookedTransformer.from_pretrained(\n",
    "        model_name,\n",
    "        center_unembed=True,\n",
    "        center_writing_weights=True,\n",
    "        fold_ln=True,\n",
    "        device = device\n",
    "    )"
   ]
  },
  {
   "cell_type": "code",
   "execution_count": 2,
   "id": "4de61bb2",
   "metadata": {},
   "outputs": [],
   "source": [
    "import plotly.express as px\n",
    "import pandas as pd\n",
    "import transformer_lens.utils as utils\n",
    "\n",
    "def imshow(tensor, renderer=None, midpoint=0, **kwargs):\n",
    "    px.imshow(utils.to_numpy(tensor), color_continuous_midpoint=midpoint, color_continuous_scale=\"RdBu\", **kwargs).show(renderer)\n",
    "\n",
    "def line(tensor, renderer=None, **kwargs):\n",
    "    px.line(y=utils.to_numpy(tensor), **kwargs).show(renderer)\n",
    "\n",
    "def scatter(x, y, xaxis=\"\", yaxis=\"\", caxis=\"\", renderer=None, **kwargs):\n",
    "    x = utils.to_numpy(x)\n",
    "    y = utils.to_numpy(y)\n",
    "    px.scatter(y=y, x=x, labels={\"x\":xaxis, \"y\":yaxis, \"color\":caxis}, **kwargs).show(renderer)\n"
   ]
  },
  {
   "cell_type": "code",
   "execution_count": 3,
   "id": "3dddd731",
   "metadata": {},
   "outputs": [],
   "source": [
    "import sys, os\n",
    "sys.path.append(os.path.abspath(\"..\"))  # go up one level to the root\n",
    "\n",
    "from src.advanced_path_patching import *\n",
    "import json, random\n",
    "\n",
    "def load_json(filename):\n",
    "    with open(filename, 'r') as fp:\n",
    "        return json.load(fp)\n",
    "    \n",
    "tv_data = load_json(\"../../pos_cf_datasets/pos_gpt_mixed_50_sentences.json\")\n",
    "\n",
    "tag_set = [\"noun\", \"pronoun\", \"verb\", \"adverb\", \"adjective\", \"preposition\"]\n",
    "#tag_set = [\"noun\", \"pronoun\", \"verb\", \"adverb\", \"adjective\", \"preposition\", \"particle\", \"determiner\", \"conjunction\", \"number\"]\n",
    "\n",
    "template = \"\"\"Sentence: The cat chased the mouse.\n",
    "POS tag: noun\n",
    "Answer: cat\n",
    "\n",
    "Sentence: She went to the market.\n",
    "POS tag: pronoun\n",
    "Answer: She\n",
    "\n",
    "Sentence: Birds fly across the sky.\n",
    "POS tag: verb\n",
    "Answer: fly\n",
    "\n",
    "Sentence: He quickly closed the door.\n",
    "POS tag: adverb\n",
    "Answer: quickly\n",
    "\n",
    "Sentence: The tall man opened the door.\n",
    "POS tag: adjective\n",
    "Answer: tall\n",
    "\n",
    "Sentence: She walked under the bridge.\n",
    "POS tag: preposition\n",
    "Answer: under\n",
    "\n",
    "Sentence: {sentence}\\nPOS tag: {tag}\\nAnswer:\"\"\""
   ]
  },
  {
   "cell_type": "code",
   "execution_count": 4,
   "id": "1f449c0f",
   "metadata": {},
   "outputs": [],
   "source": [
    "receiver_nodes = [(17, None)]   # MLP at layer 13\n",
    "component = \"z\"\n",
    "position = -1\n",
    "freeze_mlps = True\n",
    "indirect_patch = False\n",
    "metric=\"tf_loss\"\n",
    "seed = 42\n",
    "null_task = True\n",
    "allow_multitoken = True"
   ]
  },
  {
   "cell_type": "code",
   "execution_count": 5,
   "id": "55651f02",
   "metadata": {},
   "outputs": [],
   "source": [
    "PTB_TO_COARSE = {\n",
    "    # Nouns\n",
    "    \"NN\":\"noun\",\"NNS\":\"noun\",\"NNP\":\"noun\",\"NNPS\":\"noun\",\n",
    "    # Verbs (incl. modals as Verb for coarse)\n",
    "    \"VB\":\"verb\",\"VBD\":\"verb\",\"VBG\":\"verb\",\"VBN\":\"verb\",\"VBP\":\"verb\",\"VBZ\":\"verb\",\"MD\":\"verb\",\n",
    "    # Adjectives\n",
    "    \"JJ\":\"adjective\",\"JJR\":\"adjective\",\"JJS\":\"adjective\",\n",
    "    # Adverbs\n",
    "    \"RB\":\"adverb\",\"RBR\":\"adverb\",\"RBS\":\"adverb\",\"WRB\":\"adverb\",\n",
    "    # Pronouns\n",
    "    \"PRP\":\"pronoun\",\"PRP$\":\"pronoun\",\"WP\":\"pronoun\",\"WP$\":\"pronoun\",\n",
    "    # Prepositions / Subordinators\n",
    "    \"IN\":\"preposition\",\"TO\":\"preposition\",\n",
    "    # Determiners\n",
    "    \"DT\":\"determiner\",\"PDT\":\"determiner\",\"WDT\":\"determiner\",\n",
    "    # Conjunctions\n",
    "    \"CC\":\"conjunction\",\n",
    "    # Numbers\n",
    "    \"CD\":\"number\",\n",
    "    # Particles\n",
    "    \"RP\":\"particle\",\n",
    "    # Everything else\n",
    "    \"EX\":\"other\",\"FW\":\"other\",\"LS\":\"other\",\"SYM\":\"other\",\"UH\":\"other\",\"POS\":\"other\",\n",
    "    \"``\":\"other\",\"''\":\"Other\",\",\":\"Other\",\".\":\"Other\",\":\":\"Other\",\"-LRB-\":\"other\",\"-RRB-\":\"other\"\n",
    "}\n"
   ]
  },
  {
   "cell_type": "code",
   "execution_count": 6,
   "id": "d7b3f030",
   "metadata": {},
   "outputs": [
    {
     "name": "stderr",
     "output_type": "stream",
     "text": [
      "/tmp/ipykernel_2227697/785667077.py:89: UserWarning: To copy construct from a tensor, it is recommended to use sourceTensor.detach().clone() or sourceTensor.detach().clone().requires_grad_(True), rather than torch.tensor(sourceTensor).\n",
      "  ans_tokens = torch.stack([torch.tensor((ans_clean))]).to(device)\n"
     ]
    },
    {
     "data": {
      "application/vnd.jupyter.widget-view+json": {
       "model_id": "12c5bd01005d45e68e95563c2ccd891d",
       "version_major": 2,
       "version_minor": 0
      },
      "text/plain": [
       "Output()"
      ]
     },
     "metadata": {},
     "output_type": "display_data"
    },
    {
     "data": {
      "text/html": [
       "<pre style=\"white-space:pre;overflow-x:auto;line-height:normal;font-family:Menlo,'DejaVu Sans Mono',consolas,'Courier New',monospace\">corr loss: 13.043818473815918 clean loss: 10.460456848144531\n",
       "</pre>\n"
      ],
      "text/plain": [
       "corr loss: 13.043818473815918 clean loss: 10.460456848144531\n"
      ]
     },
     "metadata": {},
     "output_type": "display_data"
    },
    {
     "data": {
      "text/html": [
       "<pre style=\"white-space:pre;overflow-x:auto;line-height:normal;font-family:Menlo,'DejaVu Sans Mono',consolas,'Courier New',monospace\">corr loss: 13.043818473815918 clean loss: 10.460456848144531\n",
       "</pre>\n"
      ],
      "text/plain": [
       "corr loss: 13.043818473815918 clean loss: 10.460456848144531\n"
      ]
     },
     "metadata": {},
     "output_type": "display_data"
    },
    {
     "data": {
      "text/html": [
       "<pre style=\"white-space:pre;overflow-x:auto;line-height:normal;font-family:Menlo,'DejaVu Sans Mono',consolas,'Courier New',monospace\">corr loss: 13.043818473815918 clean loss: 10.460456848144531\n",
       "</pre>\n"
      ],
      "text/plain": [
       "corr loss: 13.043818473815918 clean loss: 10.460456848144531\n"
      ]
     },
     "metadata": {},
     "output_type": "display_data"
    },
    {
     "data": {
      "text/html": [
       "<pre style=\"white-space:pre;overflow-x:auto;line-height:normal;font-family:Menlo,'DejaVu Sans Mono',consolas,'Courier New',monospace\">corr loss: 13.043818473815918 clean loss: 10.460456848144531\n",
       "</pre>\n"
      ],
      "text/plain": [
       "corr loss: 13.043818473815918 clean loss: 10.460456848144531\n"
      ]
     },
     "metadata": {},
     "output_type": "display_data"
    },
    {
     "data": {
      "text/html": [
       "<pre style=\"white-space:pre;overflow-x:auto;line-height:normal;font-family:Menlo,'DejaVu Sans Mono',consolas,'Courier New',monospace\">corr loss: 13.043818473815918 clean loss: 10.460456848144531\n",
       "</pre>\n"
      ],
      "text/plain": [
       "corr loss: 13.043818473815918 clean loss: 10.460456848144531\n"
      ]
     },
     "metadata": {},
     "output_type": "display_data"
    },
    {
     "data": {
      "text/html": [
       "<pre style=\"white-space:pre;overflow-x:auto;line-height:normal;font-family:Menlo,'DejaVu Sans Mono',consolas,'Courier New',monospace\">corr loss: 13.043818473815918 clean loss: 10.460456848144531\n",
       "</pre>\n"
      ],
      "text/plain": [
       "corr loss: 13.043818473815918 clean loss: 10.460456848144531\n"
      ]
     },
     "metadata": {},
     "output_type": "display_data"
    },
    {
     "data": {
      "text/html": [
       "<pre style=\"white-space:pre;overflow-x:auto;line-height:normal;font-family:Menlo,'DejaVu Sans Mono',consolas,'Courier New',monospace\">corr loss: 13.043818473815918 clean loss: 10.460456848144531\n",
       "</pre>\n"
      ],
      "text/plain": [
       "corr loss: 13.043818473815918 clean loss: 10.460456848144531\n"
      ]
     },
     "metadata": {},
     "output_type": "display_data"
    },
    {
     "data": {
      "text/html": [
       "<pre style=\"white-space:pre;overflow-x:auto;line-height:normal;font-family:Menlo,'DejaVu Sans Mono',consolas,'Courier New',monospace\">corr loss: 13.043818473815918 clean loss: 10.460456848144531\n",
       "</pre>\n"
      ],
      "text/plain": [
       "corr loss: 13.043818473815918 clean loss: 10.460456848144531\n"
      ]
     },
     "metadata": {},
     "output_type": "display_data"
    },
    {
     "data": {
      "text/html": [
       "<pre style=\"white-space:pre;overflow-x:auto;line-height:normal;font-family:Menlo,'DejaVu Sans Mono',consolas,'Courier New',monospace\">corr loss: 13.043818473815918 clean loss: 10.460456848144531\n",
       "</pre>\n"
      ],
      "text/plain": [
       "corr loss: 13.043818473815918 clean loss: 10.460456848144531\n"
      ]
     },
     "metadata": {},
     "output_type": "display_data"
    },
    {
     "data": {
      "text/html": [
       "<pre style=\"white-space:pre;overflow-x:auto;line-height:normal;font-family:Menlo,'DejaVu Sans Mono',consolas,'Courier New',monospace\">corr loss: 13.043818473815918 clean loss: 10.460456848144531\n",
       "</pre>\n"
      ],
      "text/plain": [
       "corr loss: 13.043818473815918 clean loss: 10.460456848144531\n"
      ]
     },
     "metadata": {},
     "output_type": "display_data"
    },
    {
     "data": {
      "text/html": [
       "<pre style=\"white-space:pre;overflow-x:auto;line-height:normal;font-family:Menlo,'DejaVu Sans Mono',consolas,'Courier New',monospace\">corr loss: 13.043818473815918 clean loss: 10.460456848144531\n",
       "</pre>\n"
      ],
      "text/plain": [
       "corr loss: 13.043818473815918 clean loss: 10.460456848144531\n"
      ]
     },
     "metadata": {},
     "output_type": "display_data"
    },
    {
     "data": {
      "text/html": [
       "<pre style=\"white-space:pre;overflow-x:auto;line-height:normal;font-family:Menlo,'DejaVu Sans Mono',consolas,'Courier New',monospace\">corr loss: 13.043818473815918 clean loss: 10.460456848144531\n",
       "</pre>\n"
      ],
      "text/plain": [
       "corr loss: 13.043818473815918 clean loss: 10.460456848144531\n"
      ]
     },
     "metadata": {},
     "output_type": "display_data"
    },
    {
     "data": {
      "text/html": [
       "<pre style=\"white-space:pre;overflow-x:auto;line-height:normal;font-family:Menlo,'DejaVu Sans Mono',consolas,'Courier New',monospace\">corr loss: 13.043818473815918 clean loss: 10.460456848144531\n",
       "</pre>\n"
      ],
      "text/plain": [
       "corr loss: 13.043818473815918 clean loss: 10.460456848144531\n"
      ]
     },
     "metadata": {},
     "output_type": "display_data"
    },
    {
     "data": {
      "text/html": [
       "<pre style=\"white-space:pre;overflow-x:auto;line-height:normal;font-family:Menlo,'DejaVu Sans Mono',consolas,'Courier New',monospace\">corr loss: 13.043818473815918 clean loss: 10.460456848144531\n",
       "</pre>\n"
      ],
      "text/plain": [
       "corr loss: 13.043818473815918 clean loss: 10.460456848144531\n"
      ]
     },
     "metadata": {},
     "output_type": "display_data"
    },
    {
     "data": {
      "text/html": [
       "<pre style=\"white-space:pre;overflow-x:auto;line-height:normal;font-family:Menlo,'DejaVu Sans Mono',consolas,'Courier New',monospace\">corr loss: 13.043818473815918 clean loss: 10.460456848144531\n",
       "</pre>\n"
      ],
      "text/plain": [
       "corr loss: 13.043818473815918 clean loss: 10.460456848144531\n"
      ]
     },
     "metadata": {},
     "output_type": "display_data"
    },
    {
     "data": {
      "text/html": [
       "<pre style=\"white-space:pre;overflow-x:auto;line-height:normal;font-family:Menlo,'DejaVu Sans Mono',consolas,'Courier New',monospace\">corr loss: 13.043818473815918 clean loss: 10.460456848144531\n",
       "</pre>\n"
      ],
      "text/plain": [
       "corr loss: 13.043818473815918 clean loss: 10.460456848144531\n"
      ]
     },
     "metadata": {},
     "output_type": "display_data"
    },
    {
     "data": {
      "text/html": [
       "<pre style=\"white-space:pre;overflow-x:auto;line-height:normal;font-family:Menlo,'DejaVu Sans Mono',consolas,'Courier New',monospace\">corr loss: 13.043818473815918 clean loss: 10.460456848144531\n",
       "</pre>\n"
      ],
      "text/plain": [
       "corr loss: 13.043818473815918 clean loss: 10.460456848144531\n"
      ]
     },
     "metadata": {},
     "output_type": "display_data"
    },
    {
     "data": {
      "text/html": [
       "<pre style=\"white-space:pre;overflow-x:auto;line-height:normal;font-family:Menlo,'DejaVu Sans Mono',consolas,'Courier New',monospace\">corr loss: 13.043818473815918 clean loss: 10.460456848144531\n",
       "</pre>\n"
      ],
      "text/plain": [
       "corr loss: 13.043818473815918 clean loss: 10.460456848144531\n"
      ]
     },
     "metadata": {},
     "output_type": "display_data"
    },
    {
     "data": {
      "text/html": [
       "<pre style=\"white-space:pre;overflow-x:auto;line-height:normal;font-family:Menlo,'DejaVu Sans Mono',consolas,'Courier New',monospace\">corr loss: 13.043818473815918 clean loss: 10.460456848144531\n",
       "</pre>\n"
      ],
      "text/plain": [
       "corr loss: 13.043818473815918 clean loss: 10.460456848144531\n"
      ]
     },
     "metadata": {},
     "output_type": "display_data"
    },
    {
     "data": {
      "text/html": [
       "<pre style=\"white-space:pre;overflow-x:auto;line-height:normal;font-family:Menlo,'DejaVu Sans Mono',consolas,'Courier New',monospace\">corr loss: 13.043818473815918 clean loss: 10.460456848144531\n",
       "</pre>\n"
      ],
      "text/plain": [
       "corr loss: 13.043818473815918 clean loss: 10.460456848144531\n"
      ]
     },
     "metadata": {},
     "output_type": "display_data"
    },
    {
     "data": {
      "text/html": [
       "<pre style=\"white-space:pre;overflow-x:auto;line-height:normal;font-family:Menlo,'DejaVu Sans Mono',consolas,'Courier New',monospace\">corr loss: 13.043818473815918 clean loss: 10.460456848144531\n",
       "</pre>\n"
      ],
      "text/plain": [
       "corr loss: 13.043818473815918 clean loss: 10.460456848144531\n"
      ]
     },
     "metadata": {},
     "output_type": "display_data"
    },
    {
     "data": {
      "text/html": [
       "<pre style=\"white-space:pre;overflow-x:auto;line-height:normal;font-family:Menlo,'DejaVu Sans Mono',consolas,'Courier New',monospace\">corr loss: 13.043818473815918 clean loss: 10.460456848144531\n",
       "</pre>\n"
      ],
      "text/plain": [
       "corr loss: 13.043818473815918 clean loss: 10.460456848144531\n"
      ]
     },
     "metadata": {},
     "output_type": "display_data"
    },
    {
     "data": {
      "text/html": [
       "<pre style=\"white-space:pre;overflow-x:auto;line-height:normal;font-family:Menlo,'DejaVu Sans Mono',consolas,'Courier New',monospace\">corr loss: 13.043818473815918 clean loss: 10.460456848144531\n",
       "</pre>\n"
      ],
      "text/plain": [
       "corr loss: 13.043818473815918 clean loss: 10.460456848144531\n"
      ]
     },
     "metadata": {},
     "output_type": "display_data"
    },
    {
     "data": {
      "text/html": [
       "<pre style=\"white-space:pre;overflow-x:auto;line-height:normal;font-family:Menlo,'DejaVu Sans Mono',consolas,'Courier New',monospace\">corr loss: 13.043818473815918 clean loss: 10.460456848144531\n",
       "</pre>\n"
      ],
      "text/plain": [
       "corr loss: 13.043818473815918 clean loss: 10.460456848144531\n"
      ]
     },
     "metadata": {},
     "output_type": "display_data"
    },
    {
     "data": {
      "text/html": [
       "<pre style=\"white-space:pre;overflow-x:auto;line-height:normal;font-family:Menlo,'DejaVu Sans Mono',consolas,'Courier New',monospace\">corr loss: 13.043818473815918 clean loss: 10.460456848144531\n",
       "</pre>\n"
      ],
      "text/plain": [
       "corr loss: 13.043818473815918 clean loss: 10.460456848144531\n"
      ]
     },
     "metadata": {},
     "output_type": "display_data"
    },
    {
     "data": {
      "text/html": [
       "<pre style=\"white-space:pre;overflow-x:auto;line-height:normal;font-family:Menlo,'DejaVu Sans Mono',consolas,'Courier New',monospace\">corr loss: 13.043818473815918 clean loss: 10.460456848144531\n",
       "</pre>\n"
      ],
      "text/plain": [
       "corr loss: 13.043818473815918 clean loss: 10.460456848144531\n"
      ]
     },
     "metadata": {},
     "output_type": "display_data"
    },
    {
     "data": {
      "text/html": [
       "<pre style=\"white-space:pre;overflow-x:auto;line-height:normal;font-family:Menlo,'DejaVu Sans Mono',consolas,'Courier New',monospace\">corr loss: 13.043818473815918 clean loss: 10.460456848144531\n",
       "</pre>\n"
      ],
      "text/plain": [
       "corr loss: 13.043818473815918 clean loss: 10.460456848144531\n"
      ]
     },
     "metadata": {},
     "output_type": "display_data"
    },
    {
     "data": {
      "text/html": [
       "<pre style=\"white-space:pre;overflow-x:auto;line-height:normal;font-family:Menlo,'DejaVu Sans Mono',consolas,'Courier New',monospace\">corr loss: 13.043818473815918 clean loss: 10.460456848144531\n",
       "</pre>\n"
      ],
      "text/plain": [
       "corr loss: 13.043818473815918 clean loss: 10.460456848144531\n"
      ]
     },
     "metadata": {},
     "output_type": "display_data"
    },
    {
     "data": {
      "text/html": [
       "<pre style=\"white-space:pre;overflow-x:auto;line-height:normal;font-family:Menlo,'DejaVu Sans Mono',consolas,'Courier New',monospace\">corr loss: 13.043818473815918 clean loss: 10.460456848144531\n",
       "</pre>\n"
      ],
      "text/plain": [
       "corr loss: 13.043818473815918 clean loss: 10.460456848144531\n"
      ]
     },
     "metadata": {},
     "output_type": "display_data"
    },
    {
     "data": {
      "text/html": [
       "<pre style=\"white-space:pre;overflow-x:auto;line-height:normal;font-family:Menlo,'DejaVu Sans Mono',consolas,'Courier New',monospace\">corr loss: 13.043818473815918 clean loss: 10.460456848144531\n",
       "</pre>\n"
      ],
      "text/plain": [
       "corr loss: 13.043818473815918 clean loss: 10.460456848144531\n"
      ]
     },
     "metadata": {},
     "output_type": "display_data"
    },
    {
     "data": {
      "text/html": [
       "<pre style=\"white-space:pre;overflow-x:auto;line-height:normal;font-family:Menlo,'DejaVu Sans Mono',consolas,'Courier New',monospace\">corr loss: 13.043818473815918 clean loss: 10.460456848144531\n",
       "</pre>\n"
      ],
      "text/plain": [
       "corr loss: 13.043818473815918 clean loss: 10.460456848144531\n"
      ]
     },
     "metadata": {},
     "output_type": "display_data"
    },
    {
     "data": {
      "text/html": [
       "<pre style=\"white-space:pre;overflow-x:auto;line-height:normal;font-family:Menlo,'DejaVu Sans Mono',consolas,'Courier New',monospace\">corr loss: 13.043818473815918 clean loss: 10.460456848144531\n",
       "</pre>\n"
      ],
      "text/plain": [
       "corr loss: 13.043818473815918 clean loss: 10.460456848144531\n"
      ]
     },
     "metadata": {},
     "output_type": "display_data"
    },
    {
     "data": {
      "text/html": [
       "<pre style=\"white-space:pre;overflow-x:auto;line-height:normal;font-family:Menlo,'DejaVu Sans Mono',consolas,'Courier New',monospace\">corr loss: 13.043818473815918 clean loss: 10.460456848144531\n",
       "</pre>\n"
      ],
      "text/plain": [
       "corr loss: 13.043818473815918 clean loss: 10.460456848144531\n"
      ]
     },
     "metadata": {},
     "output_type": "display_data"
    },
    {
     "data": {
      "text/html": [
       "<pre style=\"white-space:pre;overflow-x:auto;line-height:normal;font-family:Menlo,'DejaVu Sans Mono',consolas,'Courier New',monospace\">corr loss: 13.043818473815918 clean loss: 10.460456848144531\n",
       "</pre>\n"
      ],
      "text/plain": [
       "corr loss: 13.043818473815918 clean loss: 10.460456848144531\n"
      ]
     },
     "metadata": {},
     "output_type": "display_data"
    },
    {
     "data": {
      "text/html": [
       "<pre style=\"white-space:pre;overflow-x:auto;line-height:normal;font-family:Menlo,'DejaVu Sans Mono',consolas,'Courier New',monospace\">corr loss: 13.043818473815918 clean loss: 10.460456848144531\n",
       "</pre>\n"
      ],
      "text/plain": [
       "corr loss: 13.043818473815918 clean loss: 10.460456848144531\n"
      ]
     },
     "metadata": {},
     "output_type": "display_data"
    },
    {
     "data": {
      "text/html": [
       "<pre style=\"white-space:pre;overflow-x:auto;line-height:normal;font-family:Menlo,'DejaVu Sans Mono',consolas,'Courier New',monospace\">corr loss: 13.043818473815918 clean loss: 10.460456848144531\n",
       "</pre>\n"
      ],
      "text/plain": [
       "corr loss: 13.043818473815918 clean loss: 10.460456848144531\n"
      ]
     },
     "metadata": {},
     "output_type": "display_data"
    },
    {
     "data": {
      "text/html": [
       "<pre style=\"white-space:pre;overflow-x:auto;line-height:normal;font-family:Menlo,'DejaVu Sans Mono',consolas,'Courier New',monospace\">corr loss: 13.043818473815918 clean loss: 10.460456848144531\n",
       "</pre>\n"
      ],
      "text/plain": [
       "corr loss: 13.043818473815918 clean loss: 10.460456848144531\n"
      ]
     },
     "metadata": {},
     "output_type": "display_data"
    },
    {
     "data": {
      "text/html": [
       "<pre style=\"white-space:pre;overflow-x:auto;line-height:normal;font-family:Menlo,'DejaVu Sans Mono',consolas,'Courier New',monospace\">corr loss: 13.043818473815918 clean loss: 10.460456848144531\n",
       "</pre>\n"
      ],
      "text/plain": [
       "corr loss: 13.043818473815918 clean loss: 10.460456848144531\n"
      ]
     },
     "metadata": {},
     "output_type": "display_data"
    },
    {
     "data": {
      "text/html": [
       "<pre style=\"white-space:pre;overflow-x:auto;line-height:normal;font-family:Menlo,'DejaVu Sans Mono',consolas,'Courier New',monospace\">corr loss: 13.043818473815918 clean loss: 10.460456848144531\n",
       "</pre>\n"
      ],
      "text/plain": [
       "corr loss: 13.043818473815918 clean loss: 10.460456848144531\n"
      ]
     },
     "metadata": {},
     "output_type": "display_data"
    },
    {
     "data": {
      "text/html": [
       "<pre style=\"white-space:pre;overflow-x:auto;line-height:normal;font-family:Menlo,'DejaVu Sans Mono',consolas,'Courier New',monospace\">corr loss: 13.043818473815918 clean loss: 10.460456848144531\n",
       "</pre>\n"
      ],
      "text/plain": [
       "corr loss: 13.043818473815918 clean loss: 10.460456848144531\n"
      ]
     },
     "metadata": {},
     "output_type": "display_data"
    },
    {
     "data": {
      "text/html": [
       "<pre style=\"white-space:pre;overflow-x:auto;line-height:normal;font-family:Menlo,'DejaVu Sans Mono',consolas,'Courier New',monospace\">corr loss: 13.043818473815918 clean loss: 10.460456848144531\n",
       "</pre>\n"
      ],
      "text/plain": [
       "corr loss: 13.043818473815918 clean loss: 10.460456848144531\n"
      ]
     },
     "metadata": {},
     "output_type": "display_data"
    },
    {
     "data": {
      "text/html": [
       "<pre style=\"white-space:pre;overflow-x:auto;line-height:normal;font-family:Menlo,'DejaVu Sans Mono',consolas,'Courier New',monospace\">corr loss: 13.043818473815918 clean loss: 10.460456848144531\n",
       "</pre>\n"
      ],
      "text/plain": [
       "corr loss: 13.043818473815918 clean loss: 10.460456848144531\n"
      ]
     },
     "metadata": {},
     "output_type": "display_data"
    },
    {
     "data": {
      "text/html": [
       "<pre style=\"white-space:pre;overflow-x:auto;line-height:normal;font-family:Menlo,'DejaVu Sans Mono',consolas,'Courier New',monospace\">corr loss: 13.043818473815918 clean loss: 10.460456848144531\n",
       "</pre>\n"
      ],
      "text/plain": [
       "corr loss: 13.043818473815918 clean loss: 10.460456848144531\n"
      ]
     },
     "metadata": {},
     "output_type": "display_data"
    },
    {
     "data": {
      "text/html": [
       "<pre style=\"white-space:pre;overflow-x:auto;line-height:normal;font-family:Menlo,'DejaVu Sans Mono',consolas,'Courier New',monospace\">corr loss: 13.043818473815918 clean loss: 10.460456848144531\n",
       "</pre>\n"
      ],
      "text/plain": [
       "corr loss: 13.043818473815918 clean loss: 10.460456848144531\n"
      ]
     },
     "metadata": {},
     "output_type": "display_data"
    },
    {
     "data": {
      "text/html": [
       "<pre style=\"white-space:pre;overflow-x:auto;line-height:normal;font-family:Menlo,'DejaVu Sans Mono',consolas,'Courier New',monospace\">corr loss: 13.043818473815918 clean loss: 10.460456848144531\n",
       "</pre>\n"
      ],
      "text/plain": [
       "corr loss: 13.043818473815918 clean loss: 10.460456848144531\n"
      ]
     },
     "metadata": {},
     "output_type": "display_data"
    },
    {
     "data": {
      "text/html": [
       "<pre style=\"white-space:pre;overflow-x:auto;line-height:normal;font-family:Menlo,'DejaVu Sans Mono',consolas,'Courier New',monospace\">corr loss: 13.043818473815918 clean loss: 10.460456848144531\n",
       "</pre>\n"
      ],
      "text/plain": [
       "corr loss: 13.043818473815918 clean loss: 10.460456848144531\n"
      ]
     },
     "metadata": {},
     "output_type": "display_data"
    },
    {
     "data": {
      "text/html": [
       "<pre style=\"white-space:pre;overflow-x:auto;line-height:normal;font-family:Menlo,'DejaVu Sans Mono',consolas,'Courier New',monospace\">corr loss: 13.043818473815918 clean loss: 10.460456848144531\n",
       "</pre>\n"
      ],
      "text/plain": [
       "corr loss: 13.043818473815918 clean loss: 10.460456848144531\n"
      ]
     },
     "metadata": {},
     "output_type": "display_data"
    },
    {
     "data": {
      "text/html": [
       "<pre style=\"white-space:pre;overflow-x:auto;line-height:normal;font-family:Menlo,'DejaVu Sans Mono',consolas,'Courier New',monospace\">corr loss: 13.043818473815918 clean loss: 10.460456848144531\n",
       "</pre>\n"
      ],
      "text/plain": [
       "corr loss: 13.043818473815918 clean loss: 10.460456848144531\n"
      ]
     },
     "metadata": {},
     "output_type": "display_data"
    },
    {
     "data": {
      "text/html": [
       "<pre style=\"white-space:pre;overflow-x:auto;line-height:normal;font-family:Menlo,'DejaVu Sans Mono',consolas,'Courier New',monospace\">corr loss: 13.043818473815918 clean loss: 10.460456848144531\n",
       "</pre>\n"
      ],
      "text/plain": [
       "corr loss: 13.043818473815918 clean loss: 10.460456848144531\n"
      ]
     },
     "metadata": {},
     "output_type": "display_data"
    },
    {
     "data": {
      "text/html": [
       "<pre style=\"white-space:pre;overflow-x:auto;line-height:normal;font-family:Menlo,'DejaVu Sans Mono',consolas,'Courier New',monospace\">corr loss: 13.043818473815918 clean loss: 10.460456848144531\n",
       "</pre>\n"
      ],
      "text/plain": [
       "corr loss: 13.043818473815918 clean loss: 10.460456848144531\n"
      ]
     },
     "metadata": {},
     "output_type": "display_data"
    },
    {
     "data": {
      "text/html": [
       "<pre style=\"white-space:pre;overflow-x:auto;line-height:normal;font-family:Menlo,'DejaVu Sans Mono',consolas,'Courier New',monospace\">corr loss: 13.043818473815918 clean loss: 10.460456848144531\n",
       "</pre>\n"
      ],
      "text/plain": [
       "corr loss: 13.043818473815918 clean loss: 10.460456848144531\n"
      ]
     },
     "metadata": {},
     "output_type": "display_data"
    },
    {
     "data": {
      "text/html": [
       "<pre style=\"white-space:pre;overflow-x:auto;line-height:normal;font-family:Menlo,'DejaVu Sans Mono',consolas,'Courier New',monospace\">corr loss: 13.043818473815918 clean loss: 10.460456848144531\n",
       "</pre>\n"
      ],
      "text/plain": [
       "corr loss: 13.043818473815918 clean loss: 10.460456848144531\n"
      ]
     },
     "metadata": {},
     "output_type": "display_data"
    },
    {
     "data": {
      "text/html": [
       "<pre style=\"white-space:pre;overflow-x:auto;line-height:normal;font-family:Menlo,'DejaVu Sans Mono',consolas,'Courier New',monospace\">corr loss: 13.043818473815918 clean loss: 10.460456848144531\n",
       "</pre>\n"
      ],
      "text/plain": [
       "corr loss: 13.043818473815918 clean loss: 10.460456848144531\n"
      ]
     },
     "metadata": {},
     "output_type": "display_data"
    },
    {
     "data": {
      "text/html": [
       "<pre style=\"white-space:pre;overflow-x:auto;line-height:normal;font-family:Menlo,'DejaVu Sans Mono',consolas,'Courier New',monospace\">corr loss: 13.043818473815918 clean loss: 10.460456848144531\n",
       "</pre>\n"
      ],
      "text/plain": [
       "corr loss: 13.043818473815918 clean loss: 10.460456848144531\n"
      ]
     },
     "metadata": {},
     "output_type": "display_data"
    },
    {
     "data": {
      "text/html": [
       "<pre style=\"white-space:pre;overflow-x:auto;line-height:normal;font-family:Menlo,'DejaVu Sans Mono',consolas,'Courier New',monospace\">corr loss: 13.043818473815918 clean loss: 10.460456848144531\n",
       "</pre>\n"
      ],
      "text/plain": [
       "corr loss: 13.043818473815918 clean loss: 10.460456848144531\n"
      ]
     },
     "metadata": {},
     "output_type": "display_data"
    },
    {
     "data": {
      "text/html": [
       "<pre style=\"white-space:pre;overflow-x:auto;line-height:normal;font-family:Menlo,'DejaVu Sans Mono',consolas,'Courier New',monospace\">corr loss: 13.043818473815918 clean loss: 10.460456848144531\n",
       "</pre>\n"
      ],
      "text/plain": [
       "corr loss: 13.043818473815918 clean loss: 10.460456848144531\n"
      ]
     },
     "metadata": {},
     "output_type": "display_data"
    },
    {
     "data": {
      "text/html": [
       "<pre style=\"white-space:pre;overflow-x:auto;line-height:normal;font-family:Menlo,'DejaVu Sans Mono',consolas,'Courier New',monospace\">corr loss: 13.043818473815918 clean loss: 10.460456848144531\n",
       "</pre>\n"
      ],
      "text/plain": [
       "corr loss: 13.043818473815918 clean loss: 10.460456848144531\n"
      ]
     },
     "metadata": {},
     "output_type": "display_data"
    },
    {
     "data": {
      "text/html": [
       "<pre style=\"white-space:pre;overflow-x:auto;line-height:normal;font-family:Menlo,'DejaVu Sans Mono',consolas,'Courier New',monospace\">corr loss: 13.043818473815918 clean loss: 10.460456848144531\n",
       "</pre>\n"
      ],
      "text/plain": [
       "corr loss: 13.043818473815918 clean loss: 10.460456848144531\n"
      ]
     },
     "metadata": {},
     "output_type": "display_data"
    },
    {
     "data": {
      "text/html": [
       "<pre style=\"white-space:pre;overflow-x:auto;line-height:normal;font-family:Menlo,'DejaVu Sans Mono',consolas,'Courier New',monospace\">corr loss: 13.043818473815918 clean loss: 10.460456848144531\n",
       "</pre>\n"
      ],
      "text/plain": [
       "corr loss: 13.043818473815918 clean loss: 10.460456848144531\n"
      ]
     },
     "metadata": {},
     "output_type": "display_data"
    },
    {
     "data": {
      "text/html": [
       "<pre style=\"white-space:pre;overflow-x:auto;line-height:normal;font-family:Menlo,'DejaVu Sans Mono',consolas,'Courier New',monospace\">corr loss: 13.043818473815918 clean loss: 10.460456848144531\n",
       "</pre>\n"
      ],
      "text/plain": [
       "corr loss: 13.043818473815918 clean loss: 10.460456848144531\n"
      ]
     },
     "metadata": {},
     "output_type": "display_data"
    },
    {
     "data": {
      "text/html": [
       "<pre style=\"white-space:pre;overflow-x:auto;line-height:normal;font-family:Menlo,'DejaVu Sans Mono',consolas,'Courier New',monospace\">corr loss: 13.043818473815918 clean loss: 10.460456848144531\n",
       "</pre>\n"
      ],
      "text/plain": [
       "corr loss: 13.043818473815918 clean loss: 10.460456848144531\n"
      ]
     },
     "metadata": {},
     "output_type": "display_data"
    },
    {
     "data": {
      "text/html": [
       "<pre style=\"white-space:pre;overflow-x:auto;line-height:normal;font-family:Menlo,'DejaVu Sans Mono',consolas,'Courier New',monospace\">corr loss: 13.043818473815918 clean loss: 10.460456848144531\n",
       "</pre>\n"
      ],
      "text/plain": [
       "corr loss: 13.043818473815918 clean loss: 10.460456848144531\n"
      ]
     },
     "metadata": {},
     "output_type": "display_data"
    },
    {
     "data": {
      "text/html": [
       "<pre style=\"white-space:pre;overflow-x:auto;line-height:normal;font-family:Menlo,'DejaVu Sans Mono',consolas,'Courier New',monospace\">corr loss: 13.043818473815918 clean loss: 10.460456848144531\n",
       "</pre>\n"
      ],
      "text/plain": [
       "corr loss: 13.043818473815918 clean loss: 10.460456848144531\n"
      ]
     },
     "metadata": {},
     "output_type": "display_data"
    },
    {
     "data": {
      "text/html": [
       "<pre style=\"white-space:pre;overflow-x:auto;line-height:normal;font-family:Menlo,'DejaVu Sans Mono',consolas,'Courier New',monospace\">corr loss: 13.043818473815918 clean loss: 10.460456848144531\n",
       "</pre>\n"
      ],
      "text/plain": [
       "corr loss: 13.043818473815918 clean loss: 10.460456848144531\n"
      ]
     },
     "metadata": {},
     "output_type": "display_data"
    },
    {
     "data": {
      "text/html": [
       "<pre style=\"white-space:pre;overflow-x:auto;line-height:normal;font-family:Menlo,'DejaVu Sans Mono',consolas,'Courier New',monospace\">corr loss: 13.043818473815918 clean loss: 10.460456848144531\n",
       "</pre>\n"
      ],
      "text/plain": [
       "corr loss: 13.043818473815918 clean loss: 10.460456848144531\n"
      ]
     },
     "metadata": {},
     "output_type": "display_data"
    },
    {
     "data": {
      "text/html": [
       "<pre style=\"white-space:pre;overflow-x:auto;line-height:normal;font-family:Menlo,'DejaVu Sans Mono',consolas,'Courier New',monospace\">corr loss: 13.043818473815918 clean loss: 10.460456848144531\n",
       "</pre>\n"
      ],
      "text/plain": [
       "corr loss: 13.043818473815918 clean loss: 10.460456848144531\n"
      ]
     },
     "metadata": {},
     "output_type": "display_data"
    },
    {
     "data": {
      "text/html": [
       "<pre style=\"white-space:pre;overflow-x:auto;line-height:normal;font-family:Menlo,'DejaVu Sans Mono',consolas,'Courier New',monospace\">corr loss: 13.043818473815918 clean loss: 10.460456848144531\n",
       "</pre>\n"
      ],
      "text/plain": [
       "corr loss: 13.043818473815918 clean loss: 10.460456848144531\n"
      ]
     },
     "metadata": {},
     "output_type": "display_data"
    },
    {
     "data": {
      "text/html": [
       "<pre style=\"white-space:pre;overflow-x:auto;line-height:normal;font-family:Menlo,'DejaVu Sans Mono',consolas,'Courier New',monospace\">corr loss: 13.043818473815918 clean loss: 10.460456848144531\n",
       "</pre>\n"
      ],
      "text/plain": [
       "corr loss: 13.043818473815918 clean loss: 10.460456848144531\n"
      ]
     },
     "metadata": {},
     "output_type": "display_data"
    },
    {
     "data": {
      "text/html": [
       "<pre style=\"white-space:pre;overflow-x:auto;line-height:normal;font-family:Menlo,'DejaVu Sans Mono',consolas,'Courier New',monospace\">corr loss: 13.043818473815918 clean loss: 10.460456848144531\n",
       "</pre>\n"
      ],
      "text/plain": [
       "corr loss: 13.043818473815918 clean loss: 10.460456848144531\n"
      ]
     },
     "metadata": {},
     "output_type": "display_data"
    },
    {
     "data": {
      "text/html": [
       "<pre style=\"white-space:pre;overflow-x:auto;line-height:normal;font-family:Menlo,'DejaVu Sans Mono',consolas,'Courier New',monospace\">corr loss: 13.043818473815918 clean loss: 10.460456848144531\n",
       "</pre>\n"
      ],
      "text/plain": [
       "corr loss: 13.043818473815918 clean loss: 10.460456848144531\n"
      ]
     },
     "metadata": {},
     "output_type": "display_data"
    },
    {
     "data": {
      "text/html": [
       "<pre style=\"white-space:pre;overflow-x:auto;line-height:normal;font-family:Menlo,'DejaVu Sans Mono',consolas,'Courier New',monospace\">corr loss: 13.043818473815918 clean loss: 10.460456848144531\n",
       "</pre>\n"
      ],
      "text/plain": [
       "corr loss: 13.043818473815918 clean loss: 10.460456848144531\n"
      ]
     },
     "metadata": {},
     "output_type": "display_data"
    },
    {
     "data": {
      "text/html": [
       "<pre style=\"white-space:pre;overflow-x:auto;line-height:normal;font-family:Menlo,'DejaVu Sans Mono',consolas,'Courier New',monospace\">corr loss: 13.043818473815918 clean loss: 10.460456848144531\n",
       "</pre>\n"
      ],
      "text/plain": [
       "corr loss: 13.043818473815918 clean loss: 10.460456848144531\n"
      ]
     },
     "metadata": {},
     "output_type": "display_data"
    },
    {
     "data": {
      "text/html": [
       "<pre style=\"white-space:pre;overflow-x:auto;line-height:normal;font-family:Menlo,'DejaVu Sans Mono',consolas,'Courier New',monospace\">corr loss: 13.043818473815918 clean loss: 10.460456848144531\n",
       "</pre>\n"
      ],
      "text/plain": [
       "corr loss: 13.043818473815918 clean loss: 10.460456848144531\n"
      ]
     },
     "metadata": {},
     "output_type": "display_data"
    },
    {
     "data": {
      "text/html": [
       "<pre style=\"white-space:pre;overflow-x:auto;line-height:normal;font-family:Menlo,'DejaVu Sans Mono',consolas,'Courier New',monospace\">corr loss: 13.043818473815918 clean loss: 10.460456848144531\n",
       "</pre>\n"
      ],
      "text/plain": [
       "corr loss: 13.043818473815918 clean loss: 10.460456848144531\n"
      ]
     },
     "metadata": {},
     "output_type": "display_data"
    },
    {
     "data": {
      "text/html": [
       "<pre style=\"white-space:pre;overflow-x:auto;line-height:normal;font-family:Menlo,'DejaVu Sans Mono',consolas,'Courier New',monospace\">corr loss: 13.043818473815918 clean loss: 10.460456848144531\n",
       "</pre>\n"
      ],
      "text/plain": [
       "corr loss: 13.043818473815918 clean loss: 10.460456848144531\n"
      ]
     },
     "metadata": {},
     "output_type": "display_data"
    },
    {
     "data": {
      "text/html": [
       "<pre style=\"white-space:pre;overflow-x:auto;line-height:normal;font-family:Menlo,'DejaVu Sans Mono',consolas,'Courier New',monospace\">corr loss: 13.043818473815918 clean loss: 10.460456848144531\n",
       "</pre>\n"
      ],
      "text/plain": [
       "corr loss: 13.043818473815918 clean loss: 10.460456848144531\n"
      ]
     },
     "metadata": {},
     "output_type": "display_data"
    },
    {
     "data": {
      "text/html": [
       "<pre style=\"white-space:pre;overflow-x:auto;line-height:normal;font-family:Menlo,'DejaVu Sans Mono',consolas,'Courier New',monospace\">corr loss: 13.043818473815918 clean loss: 10.460456848144531\n",
       "</pre>\n"
      ],
      "text/plain": [
       "corr loss: 13.043818473815918 clean loss: 10.460456848144531\n"
      ]
     },
     "metadata": {},
     "output_type": "display_data"
    },
    {
     "data": {
      "text/html": [
       "<pre style=\"white-space:pre;overflow-x:auto;line-height:normal;font-family:Menlo,'DejaVu Sans Mono',consolas,'Courier New',monospace\">corr loss: 13.043818473815918 clean loss: 10.460456848144531\n",
       "</pre>\n"
      ],
      "text/plain": [
       "corr loss: 13.043818473815918 clean loss: 10.460456848144531\n"
      ]
     },
     "metadata": {},
     "output_type": "display_data"
    },
    {
     "data": {
      "text/html": [
       "<pre style=\"white-space:pre;overflow-x:auto;line-height:normal;font-family:Menlo,'DejaVu Sans Mono',consolas,'Courier New',monospace\">corr loss: 13.043818473815918 clean loss: 10.460456848144531\n",
       "</pre>\n"
      ],
      "text/plain": [
       "corr loss: 13.043818473815918 clean loss: 10.460456848144531\n"
      ]
     },
     "metadata": {},
     "output_type": "display_data"
    },
    {
     "data": {
      "text/html": [
       "<pre style=\"white-space:pre;overflow-x:auto;line-height:normal;font-family:Menlo,'DejaVu Sans Mono',consolas,'Courier New',monospace\">corr loss: 13.043818473815918 clean loss: 10.460456848144531\n",
       "</pre>\n"
      ],
      "text/plain": [
       "corr loss: 13.043818473815918 clean loss: 10.460456848144531\n"
      ]
     },
     "metadata": {},
     "output_type": "display_data"
    },
    {
     "data": {
      "text/html": [
       "<pre style=\"white-space:pre;overflow-x:auto;line-height:normal;font-family:Menlo,'DejaVu Sans Mono',consolas,'Courier New',monospace\">corr loss: 13.043818473815918 clean loss: 10.460456848144531\n",
       "</pre>\n"
      ],
      "text/plain": [
       "corr loss: 13.043818473815918 clean loss: 10.460456848144531\n"
      ]
     },
     "metadata": {},
     "output_type": "display_data"
    },
    {
     "data": {
      "text/html": [
       "<pre style=\"white-space:pre;overflow-x:auto;line-height:normal;font-family:Menlo,'DejaVu Sans Mono',consolas,'Courier New',monospace\">corr loss: 13.043818473815918 clean loss: 10.460456848144531\n",
       "</pre>\n"
      ],
      "text/plain": [
       "corr loss: 13.043818473815918 clean loss: 10.460456848144531\n"
      ]
     },
     "metadata": {},
     "output_type": "display_data"
    },
    {
     "data": {
      "text/html": [
       "<pre style=\"white-space:pre;overflow-x:auto;line-height:normal;font-family:Menlo,'DejaVu Sans Mono',consolas,'Courier New',monospace\">corr loss: 13.043818473815918 clean loss: 10.460456848144531\n",
       "</pre>\n"
      ],
      "text/plain": [
       "corr loss: 13.043818473815918 clean loss: 10.460456848144531\n"
      ]
     },
     "metadata": {},
     "output_type": "display_data"
    },
    {
     "data": {
      "text/html": [
       "<pre style=\"white-space:pre;overflow-x:auto;line-height:normal;font-family:Menlo,'DejaVu Sans Mono',consolas,'Courier New',monospace\">corr loss: 13.043818473815918 clean loss: 10.460456848144531\n",
       "</pre>\n"
      ],
      "text/plain": [
       "corr loss: 13.043818473815918 clean loss: 10.460456848144531\n"
      ]
     },
     "metadata": {},
     "output_type": "display_data"
    },
    {
     "data": {
      "text/html": [
       "<pre style=\"white-space:pre;overflow-x:auto;line-height:normal;font-family:Menlo,'DejaVu Sans Mono',consolas,'Courier New',monospace\">corr loss: 13.043818473815918 clean loss: 10.460456848144531\n",
       "</pre>\n"
      ],
      "text/plain": [
       "corr loss: 13.043818473815918 clean loss: 10.460456848144531\n"
      ]
     },
     "metadata": {},
     "output_type": "display_data"
    },
    {
     "data": {
      "text/html": [
       "<pre style=\"white-space:pre;overflow-x:auto;line-height:normal;font-family:Menlo,'DejaVu Sans Mono',consolas,'Courier New',monospace\">corr loss: 13.043818473815918 clean loss: 10.460456848144531\n",
       "</pre>\n"
      ],
      "text/plain": [
       "corr loss: 13.043818473815918 clean loss: 10.460456848144531\n"
      ]
     },
     "metadata": {},
     "output_type": "display_data"
    },
    {
     "data": {
      "text/html": [
       "<pre style=\"white-space:pre;overflow-x:auto;line-height:normal;font-family:Menlo,'DejaVu Sans Mono',consolas,'Courier New',monospace\">corr loss: 13.043818473815918 clean loss: 10.460456848144531\n",
       "</pre>\n"
      ],
      "text/plain": [
       "corr loss: 13.043818473815918 clean loss: 10.460456848144531\n"
      ]
     },
     "metadata": {},
     "output_type": "display_data"
    },
    {
     "data": {
      "text/html": [
       "<pre style=\"white-space:pre;overflow-x:auto;line-height:normal;font-family:Menlo,'DejaVu Sans Mono',consolas,'Courier New',monospace\">corr loss: 13.043818473815918 clean loss: 10.460456848144531\n",
       "</pre>\n"
      ],
      "text/plain": [
       "corr loss: 13.043818473815918 clean loss: 10.460456848144531\n"
      ]
     },
     "metadata": {},
     "output_type": "display_data"
    },
    {
     "data": {
      "text/html": [
       "<pre style=\"white-space:pre;overflow-x:auto;line-height:normal;font-family:Menlo,'DejaVu Sans Mono',consolas,'Courier New',monospace\">corr loss: 13.043818473815918 clean loss: 10.460456848144531\n",
       "</pre>\n"
      ],
      "text/plain": [
       "corr loss: 13.043818473815918 clean loss: 10.460456848144531\n"
      ]
     },
     "metadata": {},
     "output_type": "display_data"
    },
    {
     "data": {
      "text/html": [
       "<pre style=\"white-space:pre;overflow-x:auto;line-height:normal;font-family:Menlo,'DejaVu Sans Mono',consolas,'Courier New',monospace\">corr loss: 13.043818473815918 clean loss: 10.460456848144531\n",
       "</pre>\n"
      ],
      "text/plain": [
       "corr loss: 13.043818473815918 clean loss: 10.460456848144531\n"
      ]
     },
     "metadata": {},
     "output_type": "display_data"
    },
    {
     "data": {
      "text/html": [
       "<pre style=\"white-space:pre;overflow-x:auto;line-height:normal;font-family:Menlo,'DejaVu Sans Mono',consolas,'Courier New',monospace\">corr loss: 13.043818473815918 clean loss: 10.460456848144531\n",
       "</pre>\n"
      ],
      "text/plain": [
       "corr loss: 13.043818473815918 clean loss: 10.460456848144531\n"
      ]
     },
     "metadata": {},
     "output_type": "display_data"
    },
    {
     "data": {
      "text/html": [
       "<pre style=\"white-space:pre;overflow-x:auto;line-height:normal;font-family:Menlo,'DejaVu Sans Mono',consolas,'Courier New',monospace\">corr loss: 13.043818473815918 clean loss: 10.460456848144531\n",
       "</pre>\n"
      ],
      "text/plain": [
       "corr loss: 13.043818473815918 clean loss: 10.460456848144531\n"
      ]
     },
     "metadata": {},
     "output_type": "display_data"
    },
    {
     "data": {
      "text/html": [
       "<pre style=\"white-space:pre;overflow-x:auto;line-height:normal;font-family:Menlo,'DejaVu Sans Mono',consolas,'Courier New',monospace\">corr loss: 13.043818473815918 clean loss: 10.460456848144531\n",
       "</pre>\n"
      ],
      "text/plain": [
       "corr loss: 13.043818473815918 clean loss: 10.460456848144531\n"
      ]
     },
     "metadata": {},
     "output_type": "display_data"
    },
    {
     "data": {
      "text/html": [
       "<pre style=\"white-space:pre;overflow-x:auto;line-height:normal;font-family:Menlo,'DejaVu Sans Mono',consolas,'Courier New',monospace\">corr loss: 13.043818473815918 clean loss: 10.460456848144531\n",
       "</pre>\n"
      ],
      "text/plain": [
       "corr loss: 13.043818473815918 clean loss: 10.460456848144531\n"
      ]
     },
     "metadata": {},
     "output_type": "display_data"
    },
    {
     "data": {
      "text/html": [
       "<pre style=\"white-space:pre;overflow-x:auto;line-height:normal;font-family:Menlo,'DejaVu Sans Mono',consolas,'Courier New',monospace\">corr loss: 13.043818473815918 clean loss: 10.460456848144531\n",
       "</pre>\n"
      ],
      "text/plain": [
       "corr loss: 13.043818473815918 clean loss: 10.460456848144531\n"
      ]
     },
     "metadata": {},
     "output_type": "display_data"
    },
    {
     "data": {
      "text/html": [
       "<pre style=\"white-space:pre;overflow-x:auto;line-height:normal;font-family:Menlo,'DejaVu Sans Mono',consolas,'Courier New',monospace\">corr loss: 13.043818473815918 clean loss: 10.460456848144531\n",
       "</pre>\n"
      ],
      "text/plain": [
       "corr loss: 13.043818473815918 clean loss: 10.460456848144531\n"
      ]
     },
     "metadata": {},
     "output_type": "display_data"
    },
    {
     "data": {
      "text/html": [
       "<pre style=\"white-space:pre;overflow-x:auto;line-height:normal;font-family:Menlo,'DejaVu Sans Mono',consolas,'Courier New',monospace\">corr loss: 13.043818473815918 clean loss: 10.460456848144531\n",
       "</pre>\n"
      ],
      "text/plain": [
       "corr loss: 13.043818473815918 clean loss: 10.460456848144531\n"
      ]
     },
     "metadata": {},
     "output_type": "display_data"
    },
    {
     "data": {
      "text/html": [
       "<pre style=\"white-space:pre;overflow-x:auto;line-height:normal;font-family:Menlo,'DejaVu Sans Mono',consolas,'Courier New',monospace\">corr loss: 13.043818473815918 clean loss: 10.460456848144531\n",
       "</pre>\n"
      ],
      "text/plain": [
       "corr loss: 13.043818473815918 clean loss: 10.460456848144531\n"
      ]
     },
     "metadata": {},
     "output_type": "display_data"
    },
    {
     "data": {
      "text/html": [
       "<pre style=\"white-space:pre;overflow-x:auto;line-height:normal;font-family:Menlo,'DejaVu Sans Mono',consolas,'Courier New',monospace\">corr loss: 13.043818473815918 clean loss: 10.460456848144531\n",
       "</pre>\n"
      ],
      "text/plain": [
       "corr loss: 13.043818473815918 clean loss: 10.460456848144531\n"
      ]
     },
     "metadata": {},
     "output_type": "display_data"
    },
    {
     "data": {
      "text/html": [
       "<pre style=\"white-space:pre;overflow-x:auto;line-height:normal;font-family:Menlo,'DejaVu Sans Mono',consolas,'Courier New',monospace\">corr loss: 13.043818473815918 clean loss: 10.460456848144531\n",
       "</pre>\n"
      ],
      "text/plain": [
       "corr loss: 13.043818473815918 clean loss: 10.460456848144531\n"
      ]
     },
     "metadata": {},
     "output_type": "display_data"
    },
    {
     "data": {
      "text/html": [
       "<pre style=\"white-space:pre;overflow-x:auto;line-height:normal;font-family:Menlo,'DejaVu Sans Mono',consolas,'Courier New',monospace\">corr loss: 13.043818473815918 clean loss: 10.460456848144531\n",
       "</pre>\n"
      ],
      "text/plain": [
       "corr loss: 13.043818473815918 clean loss: 10.460456848144531\n"
      ]
     },
     "metadata": {},
     "output_type": "display_data"
    },
    {
     "data": {
      "text/html": [
       "<pre style=\"white-space:pre;overflow-x:auto;line-height:normal;font-family:Menlo,'DejaVu Sans Mono',consolas,'Courier New',monospace\">corr loss: 13.043818473815918 clean loss: 10.460456848144531\n",
       "</pre>\n"
      ],
      "text/plain": [
       "corr loss: 13.043818473815918 clean loss: 10.460456848144531\n"
      ]
     },
     "metadata": {},
     "output_type": "display_data"
    },
    {
     "data": {
      "text/html": [
       "<pre style=\"white-space:pre;overflow-x:auto;line-height:normal;font-family:Menlo,'DejaVu Sans Mono',consolas,'Courier New',monospace\">corr loss: 13.043818473815918 clean loss: 10.460456848144531\n",
       "</pre>\n"
      ],
      "text/plain": [
       "corr loss: 13.043818473815918 clean loss: 10.460456848144531\n"
      ]
     },
     "metadata": {},
     "output_type": "display_data"
    },
    {
     "data": {
      "text/html": [
       "<pre style=\"white-space:pre;overflow-x:auto;line-height:normal;font-family:Menlo,'DejaVu Sans Mono',consolas,'Courier New',monospace\">corr loss: 13.043818473815918 clean loss: 10.460456848144531\n",
       "</pre>\n"
      ],
      "text/plain": [
       "corr loss: 13.043818473815918 clean loss: 10.460456848144531\n"
      ]
     },
     "metadata": {},
     "output_type": "display_data"
    },
    {
     "data": {
      "text/html": [
       "<pre style=\"white-space:pre;overflow-x:auto;line-height:normal;font-family:Menlo,'DejaVu Sans Mono',consolas,'Courier New',monospace\">corr loss: 13.043818473815918 clean loss: 10.460456848144531\n",
       "</pre>\n"
      ],
      "text/plain": [
       "corr loss: 13.043818473815918 clean loss: 10.460456848144531\n"
      ]
     },
     "metadata": {},
     "output_type": "display_data"
    },
    {
     "data": {
      "text/html": [
       "<pre style=\"white-space:pre;overflow-x:auto;line-height:normal;font-family:Menlo,'DejaVu Sans Mono',consolas,'Courier New',monospace\">corr loss: 13.043818473815918 clean loss: 10.460456848144531\n",
       "</pre>\n"
      ],
      "text/plain": [
       "corr loss: 13.043818473815918 clean loss: 10.460456848144531\n"
      ]
     },
     "metadata": {},
     "output_type": "display_data"
    },
    {
     "data": {
      "text/html": [
       "<pre style=\"white-space:pre;overflow-x:auto;line-height:normal;font-family:Menlo,'DejaVu Sans Mono',consolas,'Courier New',monospace\">corr loss: 13.043818473815918 clean loss: 10.460456848144531\n",
       "</pre>\n"
      ],
      "text/plain": [
       "corr loss: 13.043818473815918 clean loss: 10.460456848144531\n"
      ]
     },
     "metadata": {},
     "output_type": "display_data"
    },
    {
     "data": {
      "text/html": [
       "<pre style=\"white-space:pre;overflow-x:auto;line-height:normal;font-family:Menlo,'DejaVu Sans Mono',consolas,'Courier New',monospace\">corr loss: 13.043818473815918 clean loss: 10.460456848144531\n",
       "</pre>\n"
      ],
      "text/plain": [
       "corr loss: 13.043818473815918 clean loss: 10.460456848144531\n"
      ]
     },
     "metadata": {},
     "output_type": "display_data"
    },
    {
     "data": {
      "text/html": [
       "<pre style=\"white-space:pre;overflow-x:auto;line-height:normal;font-family:Menlo,'DejaVu Sans Mono',consolas,'Courier New',monospace\">corr loss: 13.043818473815918 clean loss: 10.460456848144531\n",
       "</pre>\n"
      ],
      "text/plain": [
       "corr loss: 13.043818473815918 clean loss: 10.460456848144531\n"
      ]
     },
     "metadata": {},
     "output_type": "display_data"
    },
    {
     "data": {
      "text/html": [
       "<pre style=\"white-space:pre;overflow-x:auto;line-height:normal;font-family:Menlo,'DejaVu Sans Mono',consolas,'Courier New',monospace\">corr loss: 13.043818473815918 clean loss: 10.460456848144531\n",
       "</pre>\n"
      ],
      "text/plain": [
       "corr loss: 13.043818473815918 clean loss: 10.460456848144531\n"
      ]
     },
     "metadata": {},
     "output_type": "display_data"
    },
    {
     "data": {
      "text/html": [
       "<pre style=\"white-space:pre;overflow-x:auto;line-height:normal;font-family:Menlo,'DejaVu Sans Mono',consolas,'Courier New',monospace\">corr loss: 13.043818473815918 clean loss: 10.460456848144531\n",
       "</pre>\n"
      ],
      "text/plain": [
       "corr loss: 13.043818473815918 clean loss: 10.460456848144531\n"
      ]
     },
     "metadata": {},
     "output_type": "display_data"
    },
    {
     "data": {
      "text/html": [
       "<pre style=\"white-space:pre;overflow-x:auto;line-height:normal;font-family:Menlo,'DejaVu Sans Mono',consolas,'Courier New',monospace\">corr loss: 13.043818473815918 clean loss: 10.460456848144531\n",
       "</pre>\n"
      ],
      "text/plain": [
       "corr loss: 13.043818473815918 clean loss: 10.460456848144531\n"
      ]
     },
     "metadata": {},
     "output_type": "display_data"
    },
    {
     "data": {
      "text/html": [
       "<pre style=\"white-space:pre;overflow-x:auto;line-height:normal;font-family:Menlo,'DejaVu Sans Mono',consolas,'Courier New',monospace\">corr loss: 13.043818473815918 clean loss: 10.460456848144531\n",
       "</pre>\n"
      ],
      "text/plain": [
       "corr loss: 13.043818473815918 clean loss: 10.460456848144531\n"
      ]
     },
     "metadata": {},
     "output_type": "display_data"
    },
    {
     "data": {
      "text/html": [
       "<pre style=\"white-space:pre;overflow-x:auto;line-height:normal;font-family:Menlo,'DejaVu Sans Mono',consolas,'Courier New',monospace\">corr loss: 13.043818473815918 clean loss: 10.460456848144531\n",
       "</pre>\n"
      ],
      "text/plain": [
       "corr loss: 13.043818473815918 clean loss: 10.460456848144531\n"
      ]
     },
     "metadata": {},
     "output_type": "display_data"
    },
    {
     "data": {
      "text/html": [
       "<pre style=\"white-space:pre;overflow-x:auto;line-height:normal;font-family:Menlo,'DejaVu Sans Mono',consolas,'Courier New',monospace\">corr loss: 13.043818473815918 clean loss: 10.460456848144531\n",
       "</pre>\n"
      ],
      "text/plain": [
       "corr loss: 13.043818473815918 clean loss: 10.460456848144531\n"
      ]
     },
     "metadata": {},
     "output_type": "display_data"
    },
    {
     "data": {
      "text/html": [
       "<pre style=\"white-space:pre;overflow-x:auto;line-height:normal;font-family:Menlo,'DejaVu Sans Mono',consolas,'Courier New',monospace\">corr loss: 13.043818473815918 clean loss: 10.460456848144531\n",
       "</pre>\n"
      ],
      "text/plain": [
       "corr loss: 13.043818473815918 clean loss: 10.460456848144531\n"
      ]
     },
     "metadata": {},
     "output_type": "display_data"
    },
    {
     "data": {
      "text/html": [
       "<pre style=\"white-space:pre;overflow-x:auto;line-height:normal;font-family:Menlo,'DejaVu Sans Mono',consolas,'Courier New',monospace\">corr loss: 13.043818473815918 clean loss: 10.460456848144531\n",
       "</pre>\n"
      ],
      "text/plain": [
       "corr loss: 13.043818473815918 clean loss: 10.460456848144531\n"
      ]
     },
     "metadata": {},
     "output_type": "display_data"
    },
    {
     "data": {
      "text/html": [
       "<pre style=\"white-space:pre;overflow-x:auto;line-height:normal;font-family:Menlo,'DejaVu Sans Mono',consolas,'Courier New',monospace\">corr loss: 13.043818473815918 clean loss: 10.460456848144531\n",
       "</pre>\n"
      ],
      "text/plain": [
       "corr loss: 13.043818473815918 clean loss: 10.460456848144531\n"
      ]
     },
     "metadata": {},
     "output_type": "display_data"
    },
    {
     "data": {
      "text/html": [
       "<pre style=\"white-space:pre;overflow-x:auto;line-height:normal;font-family:Menlo,'DejaVu Sans Mono',consolas,'Courier New',monospace\">corr loss: 13.043818473815918 clean loss: 10.460456848144531\n",
       "</pre>\n"
      ],
      "text/plain": [
       "corr loss: 13.043818473815918 clean loss: 10.460456848144531\n"
      ]
     },
     "metadata": {},
     "output_type": "display_data"
    },
    {
     "data": {
      "text/html": [
       "<pre style=\"white-space:pre;overflow-x:auto;line-height:normal;font-family:Menlo,'DejaVu Sans Mono',consolas,'Courier New',monospace\">corr loss: 13.043818473815918 clean loss: 10.460456848144531\n",
       "</pre>\n"
      ],
      "text/plain": [
       "corr loss: 13.043818473815918 clean loss: 10.460456848144531\n"
      ]
     },
     "metadata": {},
     "output_type": "display_data"
    },
    {
     "data": {
      "text/html": [
       "<pre style=\"white-space:pre;overflow-x:auto;line-height:normal;font-family:Menlo,'DejaVu Sans Mono',consolas,'Courier New',monospace\">corr loss: 13.043818473815918 clean loss: 10.460456848144531\n",
       "</pre>\n"
      ],
      "text/plain": [
       "corr loss: 13.043818473815918 clean loss: 10.460456848144531\n"
      ]
     },
     "metadata": {},
     "output_type": "display_data"
    },
    {
     "data": {
      "text/html": [
       "<pre style=\"white-space:pre;overflow-x:auto;line-height:normal;font-family:Menlo,'DejaVu Sans Mono',consolas,'Courier New',monospace\">corr loss: 13.043818473815918 clean loss: 10.460456848144531\n",
       "</pre>\n"
      ],
      "text/plain": [
       "corr loss: 13.043818473815918 clean loss: 10.460456848144531\n"
      ]
     },
     "metadata": {},
     "output_type": "display_data"
    },
    {
     "data": {
      "text/html": [
       "<pre style=\"white-space:pre;overflow-x:auto;line-height:normal;font-family:Menlo,'DejaVu Sans Mono',consolas,'Courier New',monospace\">corr loss: 13.043818473815918 clean loss: 10.460456848144531\n",
       "</pre>\n"
      ],
      "text/plain": [
       "corr loss: 13.043818473815918 clean loss: 10.460456848144531\n"
      ]
     },
     "metadata": {},
     "output_type": "display_data"
    },
    {
     "data": {
      "text/html": [
       "<pre style=\"white-space:pre;overflow-x:auto;line-height:normal;font-family:Menlo,'DejaVu Sans Mono',consolas,'Courier New',monospace\">corr loss: 13.043818473815918 clean loss: 10.460456848144531\n",
       "</pre>\n"
      ],
      "text/plain": [
       "corr loss: 13.043818473815918 clean loss: 10.460456848144531\n"
      ]
     },
     "metadata": {},
     "output_type": "display_data"
    },
    {
     "data": {
      "text/html": [
       "<pre style=\"white-space:pre;overflow-x:auto;line-height:normal;font-family:Menlo,'DejaVu Sans Mono',consolas,'Courier New',monospace\">corr loss: 13.043818473815918 clean loss: 10.460456848144531\n",
       "</pre>\n"
      ],
      "text/plain": [
       "corr loss: 13.043818473815918 clean loss: 10.460456848144531\n"
      ]
     },
     "metadata": {},
     "output_type": "display_data"
    },
    {
     "data": {
      "text/html": [
       "<pre style=\"white-space:pre;overflow-x:auto;line-height:normal;font-family:Menlo,'DejaVu Sans Mono',consolas,'Courier New',monospace\">corr loss: 13.043818473815918 clean loss: 10.460456848144531\n",
       "</pre>\n"
      ],
      "text/plain": [
       "corr loss: 13.043818473815918 clean loss: 10.460456848144531\n"
      ]
     },
     "metadata": {},
     "output_type": "display_data"
    },
    {
     "data": {
      "text/html": [
       "<pre style=\"white-space:pre;overflow-x:auto;line-height:normal;font-family:Menlo,'DejaVu Sans Mono',consolas,'Courier New',monospace\">corr loss: 13.043818473815918 clean loss: 10.460456848144531\n",
       "</pre>\n"
      ],
      "text/plain": [
       "corr loss: 13.043818473815918 clean loss: 10.460456848144531\n"
      ]
     },
     "metadata": {},
     "output_type": "display_data"
    },
    {
     "data": {
      "text/html": [
       "<pre style=\"white-space:pre;overflow-x:auto;line-height:normal;font-family:Menlo,'DejaVu Sans Mono',consolas,'Courier New',monospace\">corr loss: 13.043818473815918 clean loss: 10.460456848144531\n",
       "</pre>\n"
      ],
      "text/plain": [
       "corr loss: 13.043818473815918 clean loss: 10.460456848144531\n"
      ]
     },
     "metadata": {},
     "output_type": "display_data"
    },
    {
     "data": {
      "text/html": [
       "<pre style=\"white-space:pre;overflow-x:auto;line-height:normal;font-family:Menlo,'DejaVu Sans Mono',consolas,'Courier New',monospace\">corr loss: 13.043818473815918 clean loss: 10.460456848144531\n",
       "</pre>\n"
      ],
      "text/plain": [
       "corr loss: 13.043818473815918 clean loss: 10.460456848144531\n"
      ]
     },
     "metadata": {},
     "output_type": "display_data"
    },
    {
     "data": {
      "text/html": [
       "<pre style=\"white-space:pre;overflow-x:auto;line-height:normal;font-family:Menlo,'DejaVu Sans Mono',consolas,'Courier New',monospace\">corr loss: 13.043818473815918 clean loss: 10.460456848144531\n",
       "</pre>\n"
      ],
      "text/plain": [
       "corr loss: 13.043818473815918 clean loss: 10.460456848144531\n"
      ]
     },
     "metadata": {},
     "output_type": "display_data"
    },
    {
     "data": {
      "text/html": [
       "<pre style=\"white-space:pre;overflow-x:auto;line-height:normal;font-family:Menlo,'DejaVu Sans Mono',consolas,'Courier New',monospace\">corr loss: 13.043818473815918 clean loss: 10.460456848144531\n",
       "</pre>\n"
      ],
      "text/plain": [
       "corr loss: 13.043818473815918 clean loss: 10.460456848144531\n"
      ]
     },
     "metadata": {},
     "output_type": "display_data"
    },
    {
     "data": {
      "text/html": [
       "<pre style=\"white-space:pre;overflow-x:auto;line-height:normal;font-family:Menlo,'DejaVu Sans Mono',consolas,'Courier New',monospace\">corr loss: 13.043818473815918 clean loss: 10.460456848144531\n",
       "</pre>\n"
      ],
      "text/plain": [
       "corr loss: 13.043818473815918 clean loss: 10.460456848144531\n"
      ]
     },
     "metadata": {},
     "output_type": "display_data"
    },
    {
     "data": {
      "text/html": [
       "<pre style=\"white-space:pre;overflow-x:auto;line-height:normal;font-family:Menlo,'DejaVu Sans Mono',consolas,'Courier New',monospace\">corr loss: 13.043818473815918 clean loss: 10.460456848144531\n",
       "</pre>\n"
      ],
      "text/plain": [
       "corr loss: 13.043818473815918 clean loss: 10.460456848144531\n"
      ]
     },
     "metadata": {},
     "output_type": "display_data"
    },
    {
     "data": {
      "text/html": [
       "<pre style=\"white-space:pre;overflow-x:auto;line-height:normal;font-family:Menlo,'DejaVu Sans Mono',consolas,'Courier New',monospace\">corr loss: 13.043818473815918 clean loss: 10.460456848144531\n",
       "</pre>\n"
      ],
      "text/plain": [
       "corr loss: 13.043818473815918 clean loss: 10.460456848144531\n"
      ]
     },
     "metadata": {},
     "output_type": "display_data"
    },
    {
     "data": {
      "text/html": [
       "<pre style=\"white-space:pre;overflow-x:auto;line-height:normal;font-family:Menlo,'DejaVu Sans Mono',consolas,'Courier New',monospace\">corr loss: 13.043818473815918 clean loss: 10.460456848144531\n",
       "</pre>\n"
      ],
      "text/plain": [
       "corr loss: 13.043818473815918 clean loss: 10.460456848144531\n"
      ]
     },
     "metadata": {},
     "output_type": "display_data"
    },
    {
     "data": {
      "text/html": [
       "<pre style=\"white-space:pre;overflow-x:auto;line-height:normal;font-family:Menlo,'DejaVu Sans Mono',consolas,'Courier New',monospace\">corr loss: 13.043818473815918 clean loss: 10.460456848144531\n",
       "</pre>\n"
      ],
      "text/plain": [
       "corr loss: 13.043818473815918 clean loss: 10.460456848144531\n"
      ]
     },
     "metadata": {},
     "output_type": "display_data"
    },
    {
     "data": {
      "text/html": [
       "<pre style=\"white-space:pre;overflow-x:auto;line-height:normal;font-family:Menlo,'DejaVu Sans Mono',consolas,'Courier New',monospace\">corr loss: 13.043818473815918 clean loss: 10.460456848144531\n",
       "</pre>\n"
      ],
      "text/plain": [
       "corr loss: 13.043818473815918 clean loss: 10.460456848144531\n"
      ]
     },
     "metadata": {},
     "output_type": "display_data"
    },
    {
     "data": {
      "text/html": [
       "<pre style=\"white-space:pre;overflow-x:auto;line-height:normal;font-family:Menlo,'DejaVu Sans Mono',consolas,'Courier New',monospace\">corr loss: 13.043818473815918 clean loss: 10.460456848144531\n",
       "</pre>\n"
      ],
      "text/plain": [
       "corr loss: 13.043818473815918 clean loss: 10.460456848144531\n"
      ]
     },
     "metadata": {},
     "output_type": "display_data"
    },
    {
     "data": {
      "text/html": [
       "<pre style=\"white-space:pre;overflow-x:auto;line-height:normal;font-family:Menlo,'DejaVu Sans Mono',consolas,'Courier New',monospace\">corr loss: 13.043818473815918 clean loss: 10.460456848144531\n",
       "</pre>\n"
      ],
      "text/plain": [
       "corr loss: 13.043818473815918 clean loss: 10.460456848144531\n"
      ]
     },
     "metadata": {},
     "output_type": "display_data"
    },
    {
     "data": {
      "text/html": [
       "<pre style=\"white-space:pre;overflow-x:auto;line-height:normal;font-family:Menlo,'DejaVu Sans Mono',consolas,'Courier New',monospace\">corr loss: 13.043818473815918 clean loss: 10.460456848144531\n",
       "</pre>\n"
      ],
      "text/plain": [
       "corr loss: 13.043818473815918 clean loss: 10.460456848144531\n"
      ]
     },
     "metadata": {},
     "output_type": "display_data"
    },
    {
     "data": {
      "text/html": [
       "<pre style=\"white-space:pre;overflow-x:auto;line-height:normal;font-family:Menlo,'DejaVu Sans Mono',consolas,'Courier New',monospace\">corr loss: 13.043818473815918 clean loss: 10.460456848144531\n",
       "</pre>\n"
      ],
      "text/plain": [
       "corr loss: 13.043818473815918 clean loss: 10.460456848144531\n"
      ]
     },
     "metadata": {},
     "output_type": "display_data"
    },
    {
     "data": {
      "text/html": [
       "<pre style=\"white-space:pre;overflow-x:auto;line-height:normal;font-family:Menlo,'DejaVu Sans Mono',consolas,'Courier New',monospace\">corr loss: 13.043818473815918 clean loss: 10.460456848144531\n",
       "</pre>\n"
      ],
      "text/plain": [
       "corr loss: 13.043818473815918 clean loss: 10.460456848144531\n"
      ]
     },
     "metadata": {},
     "output_type": "display_data"
    },
    {
     "data": {
      "text/html": [
       "<pre style=\"white-space:pre;overflow-x:auto;line-height:normal;font-family:Menlo,'DejaVu Sans Mono',consolas,'Courier New',monospace\">corr loss: 13.043818473815918 clean loss: 10.460456848144531\n",
       "</pre>\n"
      ],
      "text/plain": [
       "corr loss: 13.043818473815918 clean loss: 10.460456848144531\n"
      ]
     },
     "metadata": {},
     "output_type": "display_data"
    },
    {
     "data": {
      "text/html": [
       "<pre style=\"white-space:pre;overflow-x:auto;line-height:normal;font-family:Menlo,'DejaVu Sans Mono',consolas,'Courier New',monospace\">corr loss: 13.043818473815918 clean loss: 10.460456848144531\n",
       "</pre>\n"
      ],
      "text/plain": [
       "corr loss: 13.043818473815918 clean loss: 10.460456848144531\n"
      ]
     },
     "metadata": {},
     "output_type": "display_data"
    },
    {
     "data": {
      "text/html": [
       "<pre style=\"white-space:pre;overflow-x:auto;line-height:normal;font-family:Menlo,'DejaVu Sans Mono',consolas,'Courier New',monospace\"></pre>\n"
      ],
      "text/plain": []
     },
     "metadata": {},
     "output_type": "display_data"
    },
    {
     "data": {
      "application/vnd.jupyter.widget-view+json": {
       "model_id": "cd62a2278f2649f1a03e403198f07937",
       "version_major": 2,
       "version_minor": 0
      },
      "text/plain": [
       "Output()"
      ]
     },
     "metadata": {},
     "output_type": "display_data"
    },
    {
     "data": {
      "text/html": [
       "<pre style=\"white-space:pre;overflow-x:auto;line-height:normal;font-family:Menlo,'DejaVu Sans Mono',consolas,'Courier New',monospace\">corr loss: 12.666068077087402 clean loss: 10.20290756225586\n",
       "</pre>\n"
      ],
      "text/plain": [
       "corr loss: 12.666068077087402 clean loss: 10.20290756225586\n"
      ]
     },
     "metadata": {},
     "output_type": "display_data"
    },
    {
     "data": {
      "text/html": [
       "<pre style=\"white-space:pre;overflow-x:auto;line-height:normal;font-family:Menlo,'DejaVu Sans Mono',consolas,'Courier New',monospace\">corr loss: 12.666068077087402 clean loss: 10.20290756225586\n",
       "</pre>\n"
      ],
      "text/plain": [
       "corr loss: 12.666068077087402 clean loss: 10.20290756225586\n"
      ]
     },
     "metadata": {},
     "output_type": "display_data"
    },
    {
     "data": {
      "text/html": [
       "<pre style=\"white-space:pre;overflow-x:auto;line-height:normal;font-family:Menlo,'DejaVu Sans Mono',consolas,'Courier New',monospace\">corr loss: 12.666068077087402 clean loss: 10.20290756225586\n",
       "</pre>\n"
      ],
      "text/plain": [
       "corr loss: 12.666068077087402 clean loss: 10.20290756225586\n"
      ]
     },
     "metadata": {},
     "output_type": "display_data"
    },
    {
     "data": {
      "text/html": [
       "<pre style=\"white-space:pre;overflow-x:auto;line-height:normal;font-family:Menlo,'DejaVu Sans Mono',consolas,'Courier New',monospace\">corr loss: 12.666068077087402 clean loss: 10.20290756225586\n",
       "</pre>\n"
      ],
      "text/plain": [
       "corr loss: 12.666068077087402 clean loss: 10.20290756225586\n"
      ]
     },
     "metadata": {},
     "output_type": "display_data"
    },
    {
     "data": {
      "text/html": [
       "<pre style=\"white-space:pre;overflow-x:auto;line-height:normal;font-family:Menlo,'DejaVu Sans Mono',consolas,'Courier New',monospace\">corr loss: 12.666068077087402 clean loss: 10.20290756225586\n",
       "</pre>\n"
      ],
      "text/plain": [
       "corr loss: 12.666068077087402 clean loss: 10.20290756225586\n"
      ]
     },
     "metadata": {},
     "output_type": "display_data"
    },
    {
     "data": {
      "text/html": [
       "<pre style=\"white-space:pre;overflow-x:auto;line-height:normal;font-family:Menlo,'DejaVu Sans Mono',consolas,'Courier New',monospace\">corr loss: 12.666068077087402 clean loss: 10.20290756225586\n",
       "</pre>\n"
      ],
      "text/plain": [
       "corr loss: 12.666068077087402 clean loss: 10.20290756225586\n"
      ]
     },
     "metadata": {},
     "output_type": "display_data"
    },
    {
     "data": {
      "text/html": [
       "<pre style=\"white-space:pre;overflow-x:auto;line-height:normal;font-family:Menlo,'DejaVu Sans Mono',consolas,'Courier New',monospace\">corr loss: 12.666068077087402 clean loss: 10.20290756225586\n",
       "</pre>\n"
      ],
      "text/plain": [
       "corr loss: 12.666068077087402 clean loss: 10.20290756225586\n"
      ]
     },
     "metadata": {},
     "output_type": "display_data"
    },
    {
     "data": {
      "text/html": [
       "<pre style=\"white-space:pre;overflow-x:auto;line-height:normal;font-family:Menlo,'DejaVu Sans Mono',consolas,'Courier New',monospace\">corr loss: 12.666068077087402 clean loss: 10.20290756225586\n",
       "</pre>\n"
      ],
      "text/plain": [
       "corr loss: 12.666068077087402 clean loss: 10.20290756225586\n"
      ]
     },
     "metadata": {},
     "output_type": "display_data"
    },
    {
     "data": {
      "text/html": [
       "<pre style=\"white-space:pre;overflow-x:auto;line-height:normal;font-family:Menlo,'DejaVu Sans Mono',consolas,'Courier New',monospace\">corr loss: 12.666068077087402 clean loss: 10.20290756225586\n",
       "</pre>\n"
      ],
      "text/plain": [
       "corr loss: 12.666068077087402 clean loss: 10.20290756225586\n"
      ]
     },
     "metadata": {},
     "output_type": "display_data"
    },
    {
     "data": {
      "text/html": [
       "<pre style=\"white-space:pre;overflow-x:auto;line-height:normal;font-family:Menlo,'DejaVu Sans Mono',consolas,'Courier New',monospace\">corr loss: 12.666068077087402 clean loss: 10.20290756225586\n",
       "</pre>\n"
      ],
      "text/plain": [
       "corr loss: 12.666068077087402 clean loss: 10.20290756225586\n"
      ]
     },
     "metadata": {},
     "output_type": "display_data"
    },
    {
     "data": {
      "text/html": [
       "<pre style=\"white-space:pre;overflow-x:auto;line-height:normal;font-family:Menlo,'DejaVu Sans Mono',consolas,'Courier New',monospace\">corr loss: 12.666068077087402 clean loss: 10.20290756225586\n",
       "</pre>\n"
      ],
      "text/plain": [
       "corr loss: 12.666068077087402 clean loss: 10.20290756225586\n"
      ]
     },
     "metadata": {},
     "output_type": "display_data"
    },
    {
     "data": {
      "text/html": [
       "<pre style=\"white-space:pre;overflow-x:auto;line-height:normal;font-family:Menlo,'DejaVu Sans Mono',consolas,'Courier New',monospace\">corr loss: 12.666068077087402 clean loss: 10.20290756225586\n",
       "</pre>\n"
      ],
      "text/plain": [
       "corr loss: 12.666068077087402 clean loss: 10.20290756225586\n"
      ]
     },
     "metadata": {},
     "output_type": "display_data"
    },
    {
     "data": {
      "text/html": [
       "<pre style=\"white-space:pre;overflow-x:auto;line-height:normal;font-family:Menlo,'DejaVu Sans Mono',consolas,'Courier New',monospace\">corr loss: 12.666068077087402 clean loss: 10.20290756225586\n",
       "</pre>\n"
      ],
      "text/plain": [
       "corr loss: 12.666068077087402 clean loss: 10.20290756225586\n"
      ]
     },
     "metadata": {},
     "output_type": "display_data"
    },
    {
     "data": {
      "text/html": [
       "<pre style=\"white-space:pre;overflow-x:auto;line-height:normal;font-family:Menlo,'DejaVu Sans Mono',consolas,'Courier New',monospace\">corr loss: 12.666068077087402 clean loss: 10.20290756225586\n",
       "</pre>\n"
      ],
      "text/plain": [
       "corr loss: 12.666068077087402 clean loss: 10.20290756225586\n"
      ]
     },
     "metadata": {},
     "output_type": "display_data"
    },
    {
     "data": {
      "text/html": [
       "<pre style=\"white-space:pre;overflow-x:auto;line-height:normal;font-family:Menlo,'DejaVu Sans Mono',consolas,'Courier New',monospace\">corr loss: 12.666068077087402 clean loss: 10.20290756225586\n",
       "</pre>\n"
      ],
      "text/plain": [
       "corr loss: 12.666068077087402 clean loss: 10.20290756225586\n"
      ]
     },
     "metadata": {},
     "output_type": "display_data"
    },
    {
     "data": {
      "text/html": [
       "<pre style=\"white-space:pre;overflow-x:auto;line-height:normal;font-family:Menlo,'DejaVu Sans Mono',consolas,'Courier New',monospace\">corr loss: 12.666068077087402 clean loss: 10.20290756225586\n",
       "</pre>\n"
      ],
      "text/plain": [
       "corr loss: 12.666068077087402 clean loss: 10.20290756225586\n"
      ]
     },
     "metadata": {},
     "output_type": "display_data"
    },
    {
     "data": {
      "text/html": [
       "<pre style=\"white-space:pre;overflow-x:auto;line-height:normal;font-family:Menlo,'DejaVu Sans Mono',consolas,'Courier New',monospace\">corr loss: 12.666068077087402 clean loss: 10.20290756225586\n",
       "</pre>\n"
      ],
      "text/plain": [
       "corr loss: 12.666068077087402 clean loss: 10.20290756225586\n"
      ]
     },
     "metadata": {},
     "output_type": "display_data"
    },
    {
     "data": {
      "text/html": [
       "<pre style=\"white-space:pre;overflow-x:auto;line-height:normal;font-family:Menlo,'DejaVu Sans Mono',consolas,'Courier New',monospace\">corr loss: 12.666068077087402 clean loss: 10.20290756225586\n",
       "</pre>\n"
      ],
      "text/plain": [
       "corr loss: 12.666068077087402 clean loss: 10.20290756225586\n"
      ]
     },
     "metadata": {},
     "output_type": "display_data"
    },
    {
     "data": {
      "text/html": [
       "<pre style=\"white-space:pre;overflow-x:auto;line-height:normal;font-family:Menlo,'DejaVu Sans Mono',consolas,'Courier New',monospace\">corr loss: 12.666068077087402 clean loss: 10.20290756225586\n",
       "</pre>\n"
      ],
      "text/plain": [
       "corr loss: 12.666068077087402 clean loss: 10.20290756225586\n"
      ]
     },
     "metadata": {},
     "output_type": "display_data"
    },
    {
     "data": {
      "text/html": [
       "<pre style=\"white-space:pre;overflow-x:auto;line-height:normal;font-family:Menlo,'DejaVu Sans Mono',consolas,'Courier New',monospace\">corr loss: 12.666068077087402 clean loss: 10.20290756225586\n",
       "</pre>\n"
      ],
      "text/plain": [
       "corr loss: 12.666068077087402 clean loss: 10.20290756225586\n"
      ]
     },
     "metadata": {},
     "output_type": "display_data"
    },
    {
     "data": {
      "text/html": [
       "<pre style=\"white-space:pre;overflow-x:auto;line-height:normal;font-family:Menlo,'DejaVu Sans Mono',consolas,'Courier New',monospace\">corr loss: 12.666068077087402 clean loss: 10.20290756225586\n",
       "</pre>\n"
      ],
      "text/plain": [
       "corr loss: 12.666068077087402 clean loss: 10.20290756225586\n"
      ]
     },
     "metadata": {},
     "output_type": "display_data"
    },
    {
     "data": {
      "text/html": [
       "<pre style=\"white-space:pre;overflow-x:auto;line-height:normal;font-family:Menlo,'DejaVu Sans Mono',consolas,'Courier New',monospace\">corr loss: 12.666068077087402 clean loss: 10.20290756225586\n",
       "</pre>\n"
      ],
      "text/plain": [
       "corr loss: 12.666068077087402 clean loss: 10.20290756225586\n"
      ]
     },
     "metadata": {},
     "output_type": "display_data"
    },
    {
     "data": {
      "text/html": [
       "<pre style=\"white-space:pre;overflow-x:auto;line-height:normal;font-family:Menlo,'DejaVu Sans Mono',consolas,'Courier New',monospace\">corr loss: 12.666068077087402 clean loss: 10.20290756225586\n",
       "</pre>\n"
      ],
      "text/plain": [
       "corr loss: 12.666068077087402 clean loss: 10.20290756225586\n"
      ]
     },
     "metadata": {},
     "output_type": "display_data"
    },
    {
     "data": {
      "text/html": [
       "<pre style=\"white-space:pre;overflow-x:auto;line-height:normal;font-family:Menlo,'DejaVu Sans Mono',consolas,'Courier New',monospace\">corr loss: 12.666068077087402 clean loss: 10.20290756225586\n",
       "</pre>\n"
      ],
      "text/plain": [
       "corr loss: 12.666068077087402 clean loss: 10.20290756225586\n"
      ]
     },
     "metadata": {},
     "output_type": "display_data"
    },
    {
     "data": {
      "text/html": [
       "<pre style=\"white-space:pre;overflow-x:auto;line-height:normal;font-family:Menlo,'DejaVu Sans Mono',consolas,'Courier New',monospace\">corr loss: 12.666068077087402 clean loss: 10.20290756225586\n",
       "</pre>\n"
      ],
      "text/plain": [
       "corr loss: 12.666068077087402 clean loss: 10.20290756225586\n"
      ]
     },
     "metadata": {},
     "output_type": "display_data"
    },
    {
     "data": {
      "text/html": [
       "<pre style=\"white-space:pre;overflow-x:auto;line-height:normal;font-family:Menlo,'DejaVu Sans Mono',consolas,'Courier New',monospace\">corr loss: 12.666068077087402 clean loss: 10.20290756225586\n",
       "</pre>\n"
      ],
      "text/plain": [
       "corr loss: 12.666068077087402 clean loss: 10.20290756225586\n"
      ]
     },
     "metadata": {},
     "output_type": "display_data"
    },
    {
     "data": {
      "text/html": [
       "<pre style=\"white-space:pre;overflow-x:auto;line-height:normal;font-family:Menlo,'DejaVu Sans Mono',consolas,'Courier New',monospace\">corr loss: 12.666068077087402 clean loss: 10.20290756225586\n",
       "</pre>\n"
      ],
      "text/plain": [
       "corr loss: 12.666068077087402 clean loss: 10.20290756225586\n"
      ]
     },
     "metadata": {},
     "output_type": "display_data"
    },
    {
     "data": {
      "text/html": [
       "<pre style=\"white-space:pre;overflow-x:auto;line-height:normal;font-family:Menlo,'DejaVu Sans Mono',consolas,'Courier New',monospace\">corr loss: 12.666068077087402 clean loss: 10.20290756225586\n",
       "</pre>\n"
      ],
      "text/plain": [
       "corr loss: 12.666068077087402 clean loss: 10.20290756225586\n"
      ]
     },
     "metadata": {},
     "output_type": "display_data"
    },
    {
     "data": {
      "text/html": [
       "<pre style=\"white-space:pre;overflow-x:auto;line-height:normal;font-family:Menlo,'DejaVu Sans Mono',consolas,'Courier New',monospace\">corr loss: 12.666068077087402 clean loss: 10.20290756225586\n",
       "</pre>\n"
      ],
      "text/plain": [
       "corr loss: 12.666068077087402 clean loss: 10.20290756225586\n"
      ]
     },
     "metadata": {},
     "output_type": "display_data"
    },
    {
     "data": {
      "text/html": [
       "<pre style=\"white-space:pre;overflow-x:auto;line-height:normal;font-family:Menlo,'DejaVu Sans Mono',consolas,'Courier New',monospace\">corr loss: 12.666068077087402 clean loss: 10.20290756225586\n",
       "</pre>\n"
      ],
      "text/plain": [
       "corr loss: 12.666068077087402 clean loss: 10.20290756225586\n"
      ]
     },
     "metadata": {},
     "output_type": "display_data"
    },
    {
     "data": {
      "text/html": [
       "<pre style=\"white-space:pre;overflow-x:auto;line-height:normal;font-family:Menlo,'DejaVu Sans Mono',consolas,'Courier New',monospace\">corr loss: 12.666068077087402 clean loss: 10.20290756225586\n",
       "</pre>\n"
      ],
      "text/plain": [
       "corr loss: 12.666068077087402 clean loss: 10.20290756225586\n"
      ]
     },
     "metadata": {},
     "output_type": "display_data"
    },
    {
     "data": {
      "text/html": [
       "<pre style=\"white-space:pre;overflow-x:auto;line-height:normal;font-family:Menlo,'DejaVu Sans Mono',consolas,'Courier New',monospace\">corr loss: 12.666068077087402 clean loss: 10.20290756225586\n",
       "</pre>\n"
      ],
      "text/plain": [
       "corr loss: 12.666068077087402 clean loss: 10.20290756225586\n"
      ]
     },
     "metadata": {},
     "output_type": "display_data"
    },
    {
     "data": {
      "text/html": [
       "<pre style=\"white-space:pre;overflow-x:auto;line-height:normal;font-family:Menlo,'DejaVu Sans Mono',consolas,'Courier New',monospace\">corr loss: 12.666068077087402 clean loss: 10.20290756225586\n",
       "</pre>\n"
      ],
      "text/plain": [
       "corr loss: 12.666068077087402 clean loss: 10.20290756225586\n"
      ]
     },
     "metadata": {},
     "output_type": "display_data"
    },
    {
     "data": {
      "text/html": [
       "<pre style=\"white-space:pre;overflow-x:auto;line-height:normal;font-family:Menlo,'DejaVu Sans Mono',consolas,'Courier New',monospace\">corr loss: 12.666068077087402 clean loss: 10.20290756225586\n",
       "</pre>\n"
      ],
      "text/plain": [
       "corr loss: 12.666068077087402 clean loss: 10.20290756225586\n"
      ]
     },
     "metadata": {},
     "output_type": "display_data"
    },
    {
     "data": {
      "text/html": [
       "<pre style=\"white-space:pre;overflow-x:auto;line-height:normal;font-family:Menlo,'DejaVu Sans Mono',consolas,'Courier New',monospace\">corr loss: 12.666068077087402 clean loss: 10.20290756225586\n",
       "</pre>\n"
      ],
      "text/plain": [
       "corr loss: 12.666068077087402 clean loss: 10.20290756225586\n"
      ]
     },
     "metadata": {},
     "output_type": "display_data"
    },
    {
     "data": {
      "text/html": [
       "<pre style=\"white-space:pre;overflow-x:auto;line-height:normal;font-family:Menlo,'DejaVu Sans Mono',consolas,'Courier New',monospace\">corr loss: 12.666068077087402 clean loss: 10.20290756225586\n",
       "</pre>\n"
      ],
      "text/plain": [
       "corr loss: 12.666068077087402 clean loss: 10.20290756225586\n"
      ]
     },
     "metadata": {},
     "output_type": "display_data"
    },
    {
     "data": {
      "text/html": [
       "<pre style=\"white-space:pre;overflow-x:auto;line-height:normal;font-family:Menlo,'DejaVu Sans Mono',consolas,'Courier New',monospace\">corr loss: 12.666068077087402 clean loss: 10.20290756225586\n",
       "</pre>\n"
      ],
      "text/plain": [
       "corr loss: 12.666068077087402 clean loss: 10.20290756225586\n"
      ]
     },
     "metadata": {},
     "output_type": "display_data"
    },
    {
     "data": {
      "text/html": [
       "<pre style=\"white-space:pre;overflow-x:auto;line-height:normal;font-family:Menlo,'DejaVu Sans Mono',consolas,'Courier New',monospace\">corr loss: 12.666068077087402 clean loss: 10.20290756225586\n",
       "</pre>\n"
      ],
      "text/plain": [
       "corr loss: 12.666068077087402 clean loss: 10.20290756225586\n"
      ]
     },
     "metadata": {},
     "output_type": "display_data"
    },
    {
     "data": {
      "text/html": [
       "<pre style=\"white-space:pre;overflow-x:auto;line-height:normal;font-family:Menlo,'DejaVu Sans Mono',consolas,'Courier New',monospace\">corr loss: 12.666068077087402 clean loss: 10.20290756225586\n",
       "</pre>\n"
      ],
      "text/plain": [
       "corr loss: 12.666068077087402 clean loss: 10.20290756225586\n"
      ]
     },
     "metadata": {},
     "output_type": "display_data"
    },
    {
     "data": {
      "text/html": [
       "<pre style=\"white-space:pre;overflow-x:auto;line-height:normal;font-family:Menlo,'DejaVu Sans Mono',consolas,'Courier New',monospace\">corr loss: 12.666068077087402 clean loss: 10.20290756225586\n",
       "</pre>\n"
      ],
      "text/plain": [
       "corr loss: 12.666068077087402 clean loss: 10.20290756225586\n"
      ]
     },
     "metadata": {},
     "output_type": "display_data"
    },
    {
     "data": {
      "text/html": [
       "<pre style=\"white-space:pre;overflow-x:auto;line-height:normal;font-family:Menlo,'DejaVu Sans Mono',consolas,'Courier New',monospace\">corr loss: 12.666068077087402 clean loss: 10.20290756225586\n",
       "</pre>\n"
      ],
      "text/plain": [
       "corr loss: 12.666068077087402 clean loss: 10.20290756225586\n"
      ]
     },
     "metadata": {},
     "output_type": "display_data"
    },
    {
     "data": {
      "text/html": [
       "<pre style=\"white-space:pre;overflow-x:auto;line-height:normal;font-family:Menlo,'DejaVu Sans Mono',consolas,'Courier New',monospace\">corr loss: 12.666068077087402 clean loss: 10.20290756225586\n",
       "</pre>\n"
      ],
      "text/plain": [
       "corr loss: 12.666068077087402 clean loss: 10.20290756225586\n"
      ]
     },
     "metadata": {},
     "output_type": "display_data"
    },
    {
     "data": {
      "text/html": [
       "<pre style=\"white-space:pre;overflow-x:auto;line-height:normal;font-family:Menlo,'DejaVu Sans Mono',consolas,'Courier New',monospace\">corr loss: 12.666068077087402 clean loss: 10.20290756225586\n",
       "</pre>\n"
      ],
      "text/plain": [
       "corr loss: 12.666068077087402 clean loss: 10.20290756225586\n"
      ]
     },
     "metadata": {},
     "output_type": "display_data"
    },
    {
     "data": {
      "text/html": [
       "<pre style=\"white-space:pre;overflow-x:auto;line-height:normal;font-family:Menlo,'DejaVu Sans Mono',consolas,'Courier New',monospace\">corr loss: 12.666068077087402 clean loss: 10.20290756225586\n",
       "</pre>\n"
      ],
      "text/plain": [
       "corr loss: 12.666068077087402 clean loss: 10.20290756225586\n"
      ]
     },
     "metadata": {},
     "output_type": "display_data"
    },
    {
     "data": {
      "text/html": [
       "<pre style=\"white-space:pre;overflow-x:auto;line-height:normal;font-family:Menlo,'DejaVu Sans Mono',consolas,'Courier New',monospace\">corr loss: 12.666068077087402 clean loss: 10.20290756225586\n",
       "</pre>\n"
      ],
      "text/plain": [
       "corr loss: 12.666068077087402 clean loss: 10.20290756225586\n"
      ]
     },
     "metadata": {},
     "output_type": "display_data"
    },
    {
     "data": {
      "text/html": [
       "<pre style=\"white-space:pre;overflow-x:auto;line-height:normal;font-family:Menlo,'DejaVu Sans Mono',consolas,'Courier New',monospace\">corr loss: 12.666068077087402 clean loss: 10.20290756225586\n",
       "</pre>\n"
      ],
      "text/plain": [
       "corr loss: 12.666068077087402 clean loss: 10.20290756225586\n"
      ]
     },
     "metadata": {},
     "output_type": "display_data"
    },
    {
     "data": {
      "text/html": [
       "<pre style=\"white-space:pre;overflow-x:auto;line-height:normal;font-family:Menlo,'DejaVu Sans Mono',consolas,'Courier New',monospace\">corr loss: 12.666068077087402 clean loss: 10.20290756225586\n",
       "</pre>\n"
      ],
      "text/plain": [
       "corr loss: 12.666068077087402 clean loss: 10.20290756225586\n"
      ]
     },
     "metadata": {},
     "output_type": "display_data"
    },
    {
     "data": {
      "text/html": [
       "<pre style=\"white-space:pre;overflow-x:auto;line-height:normal;font-family:Menlo,'DejaVu Sans Mono',consolas,'Courier New',monospace\">corr loss: 12.666068077087402 clean loss: 10.20290756225586\n",
       "</pre>\n"
      ],
      "text/plain": [
       "corr loss: 12.666068077087402 clean loss: 10.20290756225586\n"
      ]
     },
     "metadata": {},
     "output_type": "display_data"
    },
    {
     "data": {
      "text/html": [
       "<pre style=\"white-space:pre;overflow-x:auto;line-height:normal;font-family:Menlo,'DejaVu Sans Mono',consolas,'Courier New',monospace\">corr loss: 12.666068077087402 clean loss: 10.20290756225586\n",
       "</pre>\n"
      ],
      "text/plain": [
       "corr loss: 12.666068077087402 clean loss: 10.20290756225586\n"
      ]
     },
     "metadata": {},
     "output_type": "display_data"
    },
    {
     "data": {
      "text/html": [
       "<pre style=\"white-space:pre;overflow-x:auto;line-height:normal;font-family:Menlo,'DejaVu Sans Mono',consolas,'Courier New',monospace\">corr loss: 12.666068077087402 clean loss: 10.20290756225586\n",
       "</pre>\n"
      ],
      "text/plain": [
       "corr loss: 12.666068077087402 clean loss: 10.20290756225586\n"
      ]
     },
     "metadata": {},
     "output_type": "display_data"
    },
    {
     "data": {
      "text/html": [
       "<pre style=\"white-space:pre;overflow-x:auto;line-height:normal;font-family:Menlo,'DejaVu Sans Mono',consolas,'Courier New',monospace\">corr loss: 12.666068077087402 clean loss: 10.20290756225586\n",
       "</pre>\n"
      ],
      "text/plain": [
       "corr loss: 12.666068077087402 clean loss: 10.20290756225586\n"
      ]
     },
     "metadata": {},
     "output_type": "display_data"
    },
    {
     "data": {
      "text/html": [
       "<pre style=\"white-space:pre;overflow-x:auto;line-height:normal;font-family:Menlo,'DejaVu Sans Mono',consolas,'Courier New',monospace\">corr loss: 12.666068077087402 clean loss: 10.20290756225586\n",
       "</pre>\n"
      ],
      "text/plain": [
       "corr loss: 12.666068077087402 clean loss: 10.20290756225586\n"
      ]
     },
     "metadata": {},
     "output_type": "display_data"
    },
    {
     "data": {
      "text/html": [
       "<pre style=\"white-space:pre;overflow-x:auto;line-height:normal;font-family:Menlo,'DejaVu Sans Mono',consolas,'Courier New',monospace\">corr loss: 12.666068077087402 clean loss: 10.20290756225586\n",
       "</pre>\n"
      ],
      "text/plain": [
       "corr loss: 12.666068077087402 clean loss: 10.20290756225586\n"
      ]
     },
     "metadata": {},
     "output_type": "display_data"
    },
    {
     "data": {
      "text/html": [
       "<pre style=\"white-space:pre;overflow-x:auto;line-height:normal;font-family:Menlo,'DejaVu Sans Mono',consolas,'Courier New',monospace\">corr loss: 12.666068077087402 clean loss: 10.20290756225586\n",
       "</pre>\n"
      ],
      "text/plain": [
       "corr loss: 12.666068077087402 clean loss: 10.20290756225586\n"
      ]
     },
     "metadata": {},
     "output_type": "display_data"
    },
    {
     "data": {
      "text/html": [
       "<pre style=\"white-space:pre;overflow-x:auto;line-height:normal;font-family:Menlo,'DejaVu Sans Mono',consolas,'Courier New',monospace\">corr loss: 12.666068077087402 clean loss: 10.20290756225586\n",
       "</pre>\n"
      ],
      "text/plain": [
       "corr loss: 12.666068077087402 clean loss: 10.20290756225586\n"
      ]
     },
     "metadata": {},
     "output_type": "display_data"
    },
    {
     "data": {
      "text/html": [
       "<pre style=\"white-space:pre;overflow-x:auto;line-height:normal;font-family:Menlo,'DejaVu Sans Mono',consolas,'Courier New',monospace\">corr loss: 12.666068077087402 clean loss: 10.20290756225586\n",
       "</pre>\n"
      ],
      "text/plain": [
       "corr loss: 12.666068077087402 clean loss: 10.20290756225586\n"
      ]
     },
     "metadata": {},
     "output_type": "display_data"
    },
    {
     "data": {
      "text/html": [
       "<pre style=\"white-space:pre;overflow-x:auto;line-height:normal;font-family:Menlo,'DejaVu Sans Mono',consolas,'Courier New',monospace\">corr loss: 12.666068077087402 clean loss: 10.20290756225586\n",
       "</pre>\n"
      ],
      "text/plain": [
       "corr loss: 12.666068077087402 clean loss: 10.20290756225586\n"
      ]
     },
     "metadata": {},
     "output_type": "display_data"
    },
    {
     "data": {
      "text/html": [
       "<pre style=\"white-space:pre;overflow-x:auto;line-height:normal;font-family:Menlo,'DejaVu Sans Mono',consolas,'Courier New',monospace\">corr loss: 12.666068077087402 clean loss: 10.20290756225586\n",
       "</pre>\n"
      ],
      "text/plain": [
       "corr loss: 12.666068077087402 clean loss: 10.20290756225586\n"
      ]
     },
     "metadata": {},
     "output_type": "display_data"
    },
    {
     "data": {
      "text/html": [
       "<pre style=\"white-space:pre;overflow-x:auto;line-height:normal;font-family:Menlo,'DejaVu Sans Mono',consolas,'Courier New',monospace\">corr loss: 12.666068077087402 clean loss: 10.20290756225586\n",
       "</pre>\n"
      ],
      "text/plain": [
       "corr loss: 12.666068077087402 clean loss: 10.20290756225586\n"
      ]
     },
     "metadata": {},
     "output_type": "display_data"
    },
    {
     "data": {
      "text/html": [
       "<pre style=\"white-space:pre;overflow-x:auto;line-height:normal;font-family:Menlo,'DejaVu Sans Mono',consolas,'Courier New',monospace\">corr loss: 12.666068077087402 clean loss: 10.20290756225586\n",
       "</pre>\n"
      ],
      "text/plain": [
       "corr loss: 12.666068077087402 clean loss: 10.20290756225586\n"
      ]
     },
     "metadata": {},
     "output_type": "display_data"
    },
    {
     "data": {
      "text/html": [
       "<pre style=\"white-space:pre;overflow-x:auto;line-height:normal;font-family:Menlo,'DejaVu Sans Mono',consolas,'Courier New',monospace\">corr loss: 12.666068077087402 clean loss: 10.20290756225586\n",
       "</pre>\n"
      ],
      "text/plain": [
       "corr loss: 12.666068077087402 clean loss: 10.20290756225586\n"
      ]
     },
     "metadata": {},
     "output_type": "display_data"
    },
    {
     "data": {
      "text/html": [
       "<pre style=\"white-space:pre;overflow-x:auto;line-height:normal;font-family:Menlo,'DejaVu Sans Mono',consolas,'Courier New',monospace\">corr loss: 12.666068077087402 clean loss: 10.20290756225586\n",
       "</pre>\n"
      ],
      "text/plain": [
       "corr loss: 12.666068077087402 clean loss: 10.20290756225586\n"
      ]
     },
     "metadata": {},
     "output_type": "display_data"
    },
    {
     "data": {
      "text/html": [
       "<pre style=\"white-space:pre;overflow-x:auto;line-height:normal;font-family:Menlo,'DejaVu Sans Mono',consolas,'Courier New',monospace\">corr loss: 12.666068077087402 clean loss: 10.20290756225586\n",
       "</pre>\n"
      ],
      "text/plain": [
       "corr loss: 12.666068077087402 clean loss: 10.20290756225586\n"
      ]
     },
     "metadata": {},
     "output_type": "display_data"
    },
    {
     "data": {
      "text/html": [
       "<pre style=\"white-space:pre;overflow-x:auto;line-height:normal;font-family:Menlo,'DejaVu Sans Mono',consolas,'Courier New',monospace\">corr loss: 12.666068077087402 clean loss: 10.20290756225586\n",
       "</pre>\n"
      ],
      "text/plain": [
       "corr loss: 12.666068077087402 clean loss: 10.20290756225586\n"
      ]
     },
     "metadata": {},
     "output_type": "display_data"
    },
    {
     "data": {
      "text/html": [
       "<pre style=\"white-space:pre;overflow-x:auto;line-height:normal;font-family:Menlo,'DejaVu Sans Mono',consolas,'Courier New',monospace\">corr loss: 12.666068077087402 clean loss: 10.20290756225586\n",
       "</pre>\n"
      ],
      "text/plain": [
       "corr loss: 12.666068077087402 clean loss: 10.20290756225586\n"
      ]
     },
     "metadata": {},
     "output_type": "display_data"
    },
    {
     "data": {
      "text/html": [
       "<pre style=\"white-space:pre;overflow-x:auto;line-height:normal;font-family:Menlo,'DejaVu Sans Mono',consolas,'Courier New',monospace\">corr loss: 12.666068077087402 clean loss: 10.20290756225586\n",
       "</pre>\n"
      ],
      "text/plain": [
       "corr loss: 12.666068077087402 clean loss: 10.20290756225586\n"
      ]
     },
     "metadata": {},
     "output_type": "display_data"
    },
    {
     "data": {
      "text/html": [
       "<pre style=\"white-space:pre;overflow-x:auto;line-height:normal;font-family:Menlo,'DejaVu Sans Mono',consolas,'Courier New',monospace\">corr loss: 12.666068077087402 clean loss: 10.20290756225586\n",
       "</pre>\n"
      ],
      "text/plain": [
       "corr loss: 12.666068077087402 clean loss: 10.20290756225586\n"
      ]
     },
     "metadata": {},
     "output_type": "display_data"
    },
    {
     "data": {
      "text/html": [
       "<pre style=\"white-space:pre;overflow-x:auto;line-height:normal;font-family:Menlo,'DejaVu Sans Mono',consolas,'Courier New',monospace\">corr loss: 12.666068077087402 clean loss: 10.20290756225586\n",
       "</pre>\n"
      ],
      "text/plain": [
       "corr loss: 12.666068077087402 clean loss: 10.20290756225586\n"
      ]
     },
     "metadata": {},
     "output_type": "display_data"
    },
    {
     "data": {
      "text/html": [
       "<pre style=\"white-space:pre;overflow-x:auto;line-height:normal;font-family:Menlo,'DejaVu Sans Mono',consolas,'Courier New',monospace\">corr loss: 12.666068077087402 clean loss: 10.20290756225586\n",
       "</pre>\n"
      ],
      "text/plain": [
       "corr loss: 12.666068077087402 clean loss: 10.20290756225586\n"
      ]
     },
     "metadata": {},
     "output_type": "display_data"
    },
    {
     "data": {
      "text/html": [
       "<pre style=\"white-space:pre;overflow-x:auto;line-height:normal;font-family:Menlo,'DejaVu Sans Mono',consolas,'Courier New',monospace\">corr loss: 12.666068077087402 clean loss: 10.20290756225586\n",
       "</pre>\n"
      ],
      "text/plain": [
       "corr loss: 12.666068077087402 clean loss: 10.20290756225586\n"
      ]
     },
     "metadata": {},
     "output_type": "display_data"
    },
    {
     "data": {
      "text/html": [
       "<pre style=\"white-space:pre;overflow-x:auto;line-height:normal;font-family:Menlo,'DejaVu Sans Mono',consolas,'Courier New',monospace\">corr loss: 12.666068077087402 clean loss: 10.20290756225586\n",
       "</pre>\n"
      ],
      "text/plain": [
       "corr loss: 12.666068077087402 clean loss: 10.20290756225586\n"
      ]
     },
     "metadata": {},
     "output_type": "display_data"
    },
    {
     "data": {
      "text/html": [
       "<pre style=\"white-space:pre;overflow-x:auto;line-height:normal;font-family:Menlo,'DejaVu Sans Mono',consolas,'Courier New',monospace\">corr loss: 12.666068077087402 clean loss: 10.20290756225586\n",
       "</pre>\n"
      ],
      "text/plain": [
       "corr loss: 12.666068077087402 clean loss: 10.20290756225586\n"
      ]
     },
     "metadata": {},
     "output_type": "display_data"
    },
    {
     "data": {
      "text/html": [
       "<pre style=\"white-space:pre;overflow-x:auto;line-height:normal;font-family:Menlo,'DejaVu Sans Mono',consolas,'Courier New',monospace\">corr loss: 12.666068077087402 clean loss: 10.20290756225586\n",
       "</pre>\n"
      ],
      "text/plain": [
       "corr loss: 12.666068077087402 clean loss: 10.20290756225586\n"
      ]
     },
     "metadata": {},
     "output_type": "display_data"
    },
    {
     "data": {
      "text/html": [
       "<pre style=\"white-space:pre;overflow-x:auto;line-height:normal;font-family:Menlo,'DejaVu Sans Mono',consolas,'Courier New',monospace\">corr loss: 12.666068077087402 clean loss: 10.20290756225586\n",
       "</pre>\n"
      ],
      "text/plain": [
       "corr loss: 12.666068077087402 clean loss: 10.20290756225586\n"
      ]
     },
     "metadata": {},
     "output_type": "display_data"
    },
    {
     "data": {
      "text/html": [
       "<pre style=\"white-space:pre;overflow-x:auto;line-height:normal;font-family:Menlo,'DejaVu Sans Mono',consolas,'Courier New',monospace\">corr loss: 12.666068077087402 clean loss: 10.20290756225586\n",
       "</pre>\n"
      ],
      "text/plain": [
       "corr loss: 12.666068077087402 clean loss: 10.20290756225586\n"
      ]
     },
     "metadata": {},
     "output_type": "display_data"
    },
    {
     "data": {
      "text/html": [
       "<pre style=\"white-space:pre;overflow-x:auto;line-height:normal;font-family:Menlo,'DejaVu Sans Mono',consolas,'Courier New',monospace\">corr loss: 12.666068077087402 clean loss: 10.20290756225586\n",
       "</pre>\n"
      ],
      "text/plain": [
       "corr loss: 12.666068077087402 clean loss: 10.20290756225586\n"
      ]
     },
     "metadata": {},
     "output_type": "display_data"
    },
    {
     "data": {
      "text/html": [
       "<pre style=\"white-space:pre;overflow-x:auto;line-height:normal;font-family:Menlo,'DejaVu Sans Mono',consolas,'Courier New',monospace\">corr loss: 12.666068077087402 clean loss: 10.20290756225586\n",
       "</pre>\n"
      ],
      "text/plain": [
       "corr loss: 12.666068077087402 clean loss: 10.20290756225586\n"
      ]
     },
     "metadata": {},
     "output_type": "display_data"
    },
    {
     "data": {
      "text/html": [
       "<pre style=\"white-space:pre;overflow-x:auto;line-height:normal;font-family:Menlo,'DejaVu Sans Mono',consolas,'Courier New',monospace\">corr loss: 12.666068077087402 clean loss: 10.20290756225586\n",
       "</pre>\n"
      ],
      "text/plain": [
       "corr loss: 12.666068077087402 clean loss: 10.20290756225586\n"
      ]
     },
     "metadata": {},
     "output_type": "display_data"
    },
    {
     "data": {
      "text/html": [
       "<pre style=\"white-space:pre;overflow-x:auto;line-height:normal;font-family:Menlo,'DejaVu Sans Mono',consolas,'Courier New',monospace\">corr loss: 12.666068077087402 clean loss: 10.20290756225586\n",
       "</pre>\n"
      ],
      "text/plain": [
       "corr loss: 12.666068077087402 clean loss: 10.20290756225586\n"
      ]
     },
     "metadata": {},
     "output_type": "display_data"
    },
    {
     "data": {
      "text/html": [
       "<pre style=\"white-space:pre;overflow-x:auto;line-height:normal;font-family:Menlo,'DejaVu Sans Mono',consolas,'Courier New',monospace\">corr loss: 12.666068077087402 clean loss: 10.20290756225586\n",
       "</pre>\n"
      ],
      "text/plain": [
       "corr loss: 12.666068077087402 clean loss: 10.20290756225586\n"
      ]
     },
     "metadata": {},
     "output_type": "display_data"
    },
    {
     "data": {
      "text/html": [
       "<pre style=\"white-space:pre;overflow-x:auto;line-height:normal;font-family:Menlo,'DejaVu Sans Mono',consolas,'Courier New',monospace\">corr loss: 12.666068077087402 clean loss: 10.20290756225586\n",
       "</pre>\n"
      ],
      "text/plain": [
       "corr loss: 12.666068077087402 clean loss: 10.20290756225586\n"
      ]
     },
     "metadata": {},
     "output_type": "display_data"
    },
    {
     "data": {
      "text/html": [
       "<pre style=\"white-space:pre;overflow-x:auto;line-height:normal;font-family:Menlo,'DejaVu Sans Mono',consolas,'Courier New',monospace\">corr loss: 12.666068077087402 clean loss: 10.20290756225586\n",
       "</pre>\n"
      ],
      "text/plain": [
       "corr loss: 12.666068077087402 clean loss: 10.20290756225586\n"
      ]
     },
     "metadata": {},
     "output_type": "display_data"
    },
    {
     "data": {
      "text/html": [
       "<pre style=\"white-space:pre;overflow-x:auto;line-height:normal;font-family:Menlo,'DejaVu Sans Mono',consolas,'Courier New',monospace\">corr loss: 12.666068077087402 clean loss: 10.20290756225586\n",
       "</pre>\n"
      ],
      "text/plain": [
       "corr loss: 12.666068077087402 clean loss: 10.20290756225586\n"
      ]
     },
     "metadata": {},
     "output_type": "display_data"
    },
    {
     "data": {
      "text/html": [
       "<pre style=\"white-space:pre;overflow-x:auto;line-height:normal;font-family:Menlo,'DejaVu Sans Mono',consolas,'Courier New',monospace\">corr loss: 12.666068077087402 clean loss: 10.20290756225586\n",
       "</pre>\n"
      ],
      "text/plain": [
       "corr loss: 12.666068077087402 clean loss: 10.20290756225586\n"
      ]
     },
     "metadata": {},
     "output_type": "display_data"
    },
    {
     "data": {
      "text/html": [
       "<pre style=\"white-space:pre;overflow-x:auto;line-height:normal;font-family:Menlo,'DejaVu Sans Mono',consolas,'Courier New',monospace\">corr loss: 12.666068077087402 clean loss: 10.20290756225586\n",
       "</pre>\n"
      ],
      "text/plain": [
       "corr loss: 12.666068077087402 clean loss: 10.20290756225586\n"
      ]
     },
     "metadata": {},
     "output_type": "display_data"
    },
    {
     "data": {
      "text/html": [
       "<pre style=\"white-space:pre;overflow-x:auto;line-height:normal;font-family:Menlo,'DejaVu Sans Mono',consolas,'Courier New',monospace\">corr loss: 12.666068077087402 clean loss: 10.20290756225586\n",
       "</pre>\n"
      ],
      "text/plain": [
       "corr loss: 12.666068077087402 clean loss: 10.20290756225586\n"
      ]
     },
     "metadata": {},
     "output_type": "display_data"
    },
    {
     "data": {
      "text/html": [
       "<pre style=\"white-space:pre;overflow-x:auto;line-height:normal;font-family:Menlo,'DejaVu Sans Mono',consolas,'Courier New',monospace\">corr loss: 12.666068077087402 clean loss: 10.20290756225586\n",
       "</pre>\n"
      ],
      "text/plain": [
       "corr loss: 12.666068077087402 clean loss: 10.20290756225586\n"
      ]
     },
     "metadata": {},
     "output_type": "display_data"
    },
    {
     "data": {
      "text/html": [
       "<pre style=\"white-space:pre;overflow-x:auto;line-height:normal;font-family:Menlo,'DejaVu Sans Mono',consolas,'Courier New',monospace\">corr loss: 12.666068077087402 clean loss: 10.20290756225586\n",
       "</pre>\n"
      ],
      "text/plain": [
       "corr loss: 12.666068077087402 clean loss: 10.20290756225586\n"
      ]
     },
     "metadata": {},
     "output_type": "display_data"
    },
    {
     "data": {
      "text/html": [
       "<pre style=\"white-space:pre;overflow-x:auto;line-height:normal;font-family:Menlo,'DejaVu Sans Mono',consolas,'Courier New',monospace\">corr loss: 12.666068077087402 clean loss: 10.20290756225586\n",
       "</pre>\n"
      ],
      "text/plain": [
       "corr loss: 12.666068077087402 clean loss: 10.20290756225586\n"
      ]
     },
     "metadata": {},
     "output_type": "display_data"
    },
    {
     "data": {
      "text/html": [
       "<pre style=\"white-space:pre;overflow-x:auto;line-height:normal;font-family:Menlo,'DejaVu Sans Mono',consolas,'Courier New',monospace\">corr loss: 12.666068077087402 clean loss: 10.20290756225586\n",
       "</pre>\n"
      ],
      "text/plain": [
       "corr loss: 12.666068077087402 clean loss: 10.20290756225586\n"
      ]
     },
     "metadata": {},
     "output_type": "display_data"
    },
    {
     "data": {
      "text/html": [
       "<pre style=\"white-space:pre;overflow-x:auto;line-height:normal;font-family:Menlo,'DejaVu Sans Mono',consolas,'Courier New',monospace\">corr loss: 12.666068077087402 clean loss: 10.20290756225586\n",
       "</pre>\n"
      ],
      "text/plain": [
       "corr loss: 12.666068077087402 clean loss: 10.20290756225586\n"
      ]
     },
     "metadata": {},
     "output_type": "display_data"
    },
    {
     "data": {
      "text/html": [
       "<pre style=\"white-space:pre;overflow-x:auto;line-height:normal;font-family:Menlo,'DejaVu Sans Mono',consolas,'Courier New',monospace\">corr loss: 12.666068077087402 clean loss: 10.20290756225586\n",
       "</pre>\n"
      ],
      "text/plain": [
       "corr loss: 12.666068077087402 clean loss: 10.20290756225586\n"
      ]
     },
     "metadata": {},
     "output_type": "display_data"
    },
    {
     "data": {
      "text/html": [
       "<pre style=\"white-space:pre;overflow-x:auto;line-height:normal;font-family:Menlo,'DejaVu Sans Mono',consolas,'Courier New',monospace\">corr loss: 12.666068077087402 clean loss: 10.20290756225586\n",
       "</pre>\n"
      ],
      "text/plain": [
       "corr loss: 12.666068077087402 clean loss: 10.20290756225586\n"
      ]
     },
     "metadata": {},
     "output_type": "display_data"
    },
    {
     "data": {
      "text/html": [
       "<pre style=\"white-space:pre;overflow-x:auto;line-height:normal;font-family:Menlo,'DejaVu Sans Mono',consolas,'Courier New',monospace\">corr loss: 12.666068077087402 clean loss: 10.20290756225586\n",
       "</pre>\n"
      ],
      "text/plain": [
       "corr loss: 12.666068077087402 clean loss: 10.20290756225586\n"
      ]
     },
     "metadata": {},
     "output_type": "display_data"
    },
    {
     "data": {
      "text/html": [
       "<pre style=\"white-space:pre;overflow-x:auto;line-height:normal;font-family:Menlo,'DejaVu Sans Mono',consolas,'Courier New',monospace\">corr loss: 12.666068077087402 clean loss: 10.20290756225586\n",
       "</pre>\n"
      ],
      "text/plain": [
       "corr loss: 12.666068077087402 clean loss: 10.20290756225586\n"
      ]
     },
     "metadata": {},
     "output_type": "display_data"
    },
    {
     "data": {
      "text/html": [
       "<pre style=\"white-space:pre;overflow-x:auto;line-height:normal;font-family:Menlo,'DejaVu Sans Mono',consolas,'Courier New',monospace\">corr loss: 12.666068077087402 clean loss: 10.20290756225586\n",
       "</pre>\n"
      ],
      "text/plain": [
       "corr loss: 12.666068077087402 clean loss: 10.20290756225586\n"
      ]
     },
     "metadata": {},
     "output_type": "display_data"
    },
    {
     "data": {
      "text/html": [
       "<pre style=\"white-space:pre;overflow-x:auto;line-height:normal;font-family:Menlo,'DejaVu Sans Mono',consolas,'Courier New',monospace\">corr loss: 12.666068077087402 clean loss: 10.20290756225586\n",
       "</pre>\n"
      ],
      "text/plain": [
       "corr loss: 12.666068077087402 clean loss: 10.20290756225586\n"
      ]
     },
     "metadata": {},
     "output_type": "display_data"
    },
    {
     "data": {
      "text/html": [
       "<pre style=\"white-space:pre;overflow-x:auto;line-height:normal;font-family:Menlo,'DejaVu Sans Mono',consolas,'Courier New',monospace\">corr loss: 12.666068077087402 clean loss: 10.20290756225586\n",
       "</pre>\n"
      ],
      "text/plain": [
       "corr loss: 12.666068077087402 clean loss: 10.20290756225586\n"
      ]
     },
     "metadata": {},
     "output_type": "display_data"
    },
    {
     "data": {
      "text/html": [
       "<pre style=\"white-space:pre;overflow-x:auto;line-height:normal;font-family:Menlo,'DejaVu Sans Mono',consolas,'Courier New',monospace\">corr loss: 12.666068077087402 clean loss: 10.20290756225586\n",
       "</pre>\n"
      ],
      "text/plain": [
       "corr loss: 12.666068077087402 clean loss: 10.20290756225586\n"
      ]
     },
     "metadata": {},
     "output_type": "display_data"
    },
    {
     "data": {
      "text/html": [
       "<pre style=\"white-space:pre;overflow-x:auto;line-height:normal;font-family:Menlo,'DejaVu Sans Mono',consolas,'Courier New',monospace\">corr loss: 12.666068077087402 clean loss: 10.20290756225586\n",
       "</pre>\n"
      ],
      "text/plain": [
       "corr loss: 12.666068077087402 clean loss: 10.20290756225586\n"
      ]
     },
     "metadata": {},
     "output_type": "display_data"
    },
    {
     "data": {
      "text/html": [
       "<pre style=\"white-space:pre;overflow-x:auto;line-height:normal;font-family:Menlo,'DejaVu Sans Mono',consolas,'Courier New',monospace\">corr loss: 12.666068077087402 clean loss: 10.20290756225586\n",
       "</pre>\n"
      ],
      "text/plain": [
       "corr loss: 12.666068077087402 clean loss: 10.20290756225586\n"
      ]
     },
     "metadata": {},
     "output_type": "display_data"
    },
    {
     "data": {
      "text/html": [
       "<pre style=\"white-space:pre;overflow-x:auto;line-height:normal;font-family:Menlo,'DejaVu Sans Mono',consolas,'Courier New',monospace\">corr loss: 12.666068077087402 clean loss: 10.20290756225586\n",
       "</pre>\n"
      ],
      "text/plain": [
       "corr loss: 12.666068077087402 clean loss: 10.20290756225586\n"
      ]
     },
     "metadata": {},
     "output_type": "display_data"
    },
    {
     "data": {
      "text/html": [
       "<pre style=\"white-space:pre;overflow-x:auto;line-height:normal;font-family:Menlo,'DejaVu Sans Mono',consolas,'Courier New',monospace\">corr loss: 12.666068077087402 clean loss: 10.20290756225586\n",
       "</pre>\n"
      ],
      "text/plain": [
       "corr loss: 12.666068077087402 clean loss: 10.20290756225586\n"
      ]
     },
     "metadata": {},
     "output_type": "display_data"
    },
    {
     "data": {
      "text/html": [
       "<pre style=\"white-space:pre;overflow-x:auto;line-height:normal;font-family:Menlo,'DejaVu Sans Mono',consolas,'Courier New',monospace\">corr loss: 12.666068077087402 clean loss: 10.20290756225586\n",
       "</pre>\n"
      ],
      "text/plain": [
       "corr loss: 12.666068077087402 clean loss: 10.20290756225586\n"
      ]
     },
     "metadata": {},
     "output_type": "display_data"
    },
    {
     "data": {
      "text/html": [
       "<pre style=\"white-space:pre;overflow-x:auto;line-height:normal;font-family:Menlo,'DejaVu Sans Mono',consolas,'Courier New',monospace\">corr loss: 12.666068077087402 clean loss: 10.20290756225586\n",
       "</pre>\n"
      ],
      "text/plain": [
       "corr loss: 12.666068077087402 clean loss: 10.20290756225586\n"
      ]
     },
     "metadata": {},
     "output_type": "display_data"
    },
    {
     "data": {
      "text/html": [
       "<pre style=\"white-space:pre;overflow-x:auto;line-height:normal;font-family:Menlo,'DejaVu Sans Mono',consolas,'Courier New',monospace\">corr loss: 12.666068077087402 clean loss: 10.20290756225586\n",
       "</pre>\n"
      ],
      "text/plain": [
       "corr loss: 12.666068077087402 clean loss: 10.20290756225586\n"
      ]
     },
     "metadata": {},
     "output_type": "display_data"
    },
    {
     "data": {
      "text/html": [
       "<pre style=\"white-space:pre;overflow-x:auto;line-height:normal;font-family:Menlo,'DejaVu Sans Mono',consolas,'Courier New',monospace\">corr loss: 12.666068077087402 clean loss: 10.20290756225586\n",
       "</pre>\n"
      ],
      "text/plain": [
       "corr loss: 12.666068077087402 clean loss: 10.20290756225586\n"
      ]
     },
     "metadata": {},
     "output_type": "display_data"
    },
    {
     "data": {
      "text/html": [
       "<pre style=\"white-space:pre;overflow-x:auto;line-height:normal;font-family:Menlo,'DejaVu Sans Mono',consolas,'Courier New',monospace\">corr loss: 12.666068077087402 clean loss: 10.20290756225586\n",
       "</pre>\n"
      ],
      "text/plain": [
       "corr loss: 12.666068077087402 clean loss: 10.20290756225586\n"
      ]
     },
     "metadata": {},
     "output_type": "display_data"
    },
    {
     "data": {
      "text/html": [
       "<pre style=\"white-space:pre;overflow-x:auto;line-height:normal;font-family:Menlo,'DejaVu Sans Mono',consolas,'Courier New',monospace\">corr loss: 12.666068077087402 clean loss: 10.20290756225586\n",
       "</pre>\n"
      ],
      "text/plain": [
       "corr loss: 12.666068077087402 clean loss: 10.20290756225586\n"
      ]
     },
     "metadata": {},
     "output_type": "display_data"
    },
    {
     "data": {
      "text/html": [
       "<pre style=\"white-space:pre;overflow-x:auto;line-height:normal;font-family:Menlo,'DejaVu Sans Mono',consolas,'Courier New',monospace\">corr loss: 12.666068077087402 clean loss: 10.20290756225586\n",
       "</pre>\n"
      ],
      "text/plain": [
       "corr loss: 12.666068077087402 clean loss: 10.20290756225586\n"
      ]
     },
     "metadata": {},
     "output_type": "display_data"
    },
    {
     "data": {
      "text/html": [
       "<pre style=\"white-space:pre;overflow-x:auto;line-height:normal;font-family:Menlo,'DejaVu Sans Mono',consolas,'Courier New',monospace\">corr loss: 12.666068077087402 clean loss: 10.20290756225586\n",
       "</pre>\n"
      ],
      "text/plain": [
       "corr loss: 12.666068077087402 clean loss: 10.20290756225586\n"
      ]
     },
     "metadata": {},
     "output_type": "display_data"
    },
    {
     "data": {
      "text/html": [
       "<pre style=\"white-space:pre;overflow-x:auto;line-height:normal;font-family:Menlo,'DejaVu Sans Mono',consolas,'Courier New',monospace\">corr loss: 12.666068077087402 clean loss: 10.20290756225586\n",
       "</pre>\n"
      ],
      "text/plain": [
       "corr loss: 12.666068077087402 clean loss: 10.20290756225586\n"
      ]
     },
     "metadata": {},
     "output_type": "display_data"
    },
    {
     "data": {
      "text/html": [
       "<pre style=\"white-space:pre;overflow-x:auto;line-height:normal;font-family:Menlo,'DejaVu Sans Mono',consolas,'Courier New',monospace\">corr loss: 12.666068077087402 clean loss: 10.20290756225586\n",
       "</pre>\n"
      ],
      "text/plain": [
       "corr loss: 12.666068077087402 clean loss: 10.20290756225586\n"
      ]
     },
     "metadata": {},
     "output_type": "display_data"
    },
    {
     "data": {
      "text/html": [
       "<pre style=\"white-space:pre;overflow-x:auto;line-height:normal;font-family:Menlo,'DejaVu Sans Mono',consolas,'Courier New',monospace\">corr loss: 12.666068077087402 clean loss: 10.20290756225586\n",
       "</pre>\n"
      ],
      "text/plain": [
       "corr loss: 12.666068077087402 clean loss: 10.20290756225586\n"
      ]
     },
     "metadata": {},
     "output_type": "display_data"
    },
    {
     "data": {
      "text/html": [
       "<pre style=\"white-space:pre;overflow-x:auto;line-height:normal;font-family:Menlo,'DejaVu Sans Mono',consolas,'Courier New',monospace\">corr loss: 12.666068077087402 clean loss: 10.20290756225586\n",
       "</pre>\n"
      ],
      "text/plain": [
       "corr loss: 12.666068077087402 clean loss: 10.20290756225586\n"
      ]
     },
     "metadata": {},
     "output_type": "display_data"
    },
    {
     "data": {
      "text/html": [
       "<pre style=\"white-space:pre;overflow-x:auto;line-height:normal;font-family:Menlo,'DejaVu Sans Mono',consolas,'Courier New',monospace\">corr loss: 12.666068077087402 clean loss: 10.20290756225586\n",
       "</pre>\n"
      ],
      "text/plain": [
       "corr loss: 12.666068077087402 clean loss: 10.20290756225586\n"
      ]
     },
     "metadata": {},
     "output_type": "display_data"
    },
    {
     "data": {
      "text/html": [
       "<pre style=\"white-space:pre;overflow-x:auto;line-height:normal;font-family:Menlo,'DejaVu Sans Mono',consolas,'Courier New',monospace\">corr loss: 12.666068077087402 clean loss: 10.20290756225586\n",
       "</pre>\n"
      ],
      "text/plain": [
       "corr loss: 12.666068077087402 clean loss: 10.20290756225586\n"
      ]
     },
     "metadata": {},
     "output_type": "display_data"
    },
    {
     "data": {
      "text/html": [
       "<pre style=\"white-space:pre;overflow-x:auto;line-height:normal;font-family:Menlo,'DejaVu Sans Mono',consolas,'Courier New',monospace\">corr loss: 12.666068077087402 clean loss: 10.20290756225586\n",
       "</pre>\n"
      ],
      "text/plain": [
       "corr loss: 12.666068077087402 clean loss: 10.20290756225586\n"
      ]
     },
     "metadata": {},
     "output_type": "display_data"
    },
    {
     "data": {
      "text/html": [
       "<pre style=\"white-space:pre;overflow-x:auto;line-height:normal;font-family:Menlo,'DejaVu Sans Mono',consolas,'Courier New',monospace\">corr loss: 12.666068077087402 clean loss: 10.20290756225586\n",
       "</pre>\n"
      ],
      "text/plain": [
       "corr loss: 12.666068077087402 clean loss: 10.20290756225586\n"
      ]
     },
     "metadata": {},
     "output_type": "display_data"
    },
    {
     "data": {
      "text/html": [
       "<pre style=\"white-space:pre;overflow-x:auto;line-height:normal;font-family:Menlo,'DejaVu Sans Mono',consolas,'Courier New',monospace\">corr loss: 12.666068077087402 clean loss: 10.20290756225586\n",
       "</pre>\n"
      ],
      "text/plain": [
       "corr loss: 12.666068077087402 clean loss: 10.20290756225586\n"
      ]
     },
     "metadata": {},
     "output_type": "display_data"
    },
    {
     "data": {
      "text/html": [
       "<pre style=\"white-space:pre;overflow-x:auto;line-height:normal;font-family:Menlo,'DejaVu Sans Mono',consolas,'Courier New',monospace\">corr loss: 12.666068077087402 clean loss: 10.20290756225586\n",
       "</pre>\n"
      ],
      "text/plain": [
       "corr loss: 12.666068077087402 clean loss: 10.20290756225586\n"
      ]
     },
     "metadata": {},
     "output_type": "display_data"
    },
    {
     "data": {
      "text/html": [
       "<pre style=\"white-space:pre;overflow-x:auto;line-height:normal;font-family:Menlo,'DejaVu Sans Mono',consolas,'Courier New',monospace\">corr loss: 12.666068077087402 clean loss: 10.20290756225586\n",
       "</pre>\n"
      ],
      "text/plain": [
       "corr loss: 12.666068077087402 clean loss: 10.20290756225586\n"
      ]
     },
     "metadata": {},
     "output_type": "display_data"
    },
    {
     "data": {
      "text/html": [
       "<pre style=\"white-space:pre;overflow-x:auto;line-height:normal;font-family:Menlo,'DejaVu Sans Mono',consolas,'Courier New',monospace\">corr loss: 12.666068077087402 clean loss: 10.20290756225586\n",
       "</pre>\n"
      ],
      "text/plain": [
       "corr loss: 12.666068077087402 clean loss: 10.20290756225586\n"
      ]
     },
     "metadata": {},
     "output_type": "display_data"
    },
    {
     "data": {
      "text/html": [
       "<pre style=\"white-space:pre;overflow-x:auto;line-height:normal;font-family:Menlo,'DejaVu Sans Mono',consolas,'Courier New',monospace\">corr loss: 12.666068077087402 clean loss: 10.20290756225586\n",
       "</pre>\n"
      ],
      "text/plain": [
       "corr loss: 12.666068077087402 clean loss: 10.20290756225586\n"
      ]
     },
     "metadata": {},
     "output_type": "display_data"
    },
    {
     "data": {
      "text/html": [
       "<pre style=\"white-space:pre;overflow-x:auto;line-height:normal;font-family:Menlo,'DejaVu Sans Mono',consolas,'Courier New',monospace\">corr loss: 12.666068077087402 clean loss: 10.20290756225586\n",
       "</pre>\n"
      ],
      "text/plain": [
       "corr loss: 12.666068077087402 clean loss: 10.20290756225586\n"
      ]
     },
     "metadata": {},
     "output_type": "display_data"
    },
    {
     "data": {
      "text/html": [
       "<pre style=\"white-space:pre;overflow-x:auto;line-height:normal;font-family:Menlo,'DejaVu Sans Mono',consolas,'Courier New',monospace\">corr loss: 12.666068077087402 clean loss: 10.20290756225586\n",
       "</pre>\n"
      ],
      "text/plain": [
       "corr loss: 12.666068077087402 clean loss: 10.20290756225586\n"
      ]
     },
     "metadata": {},
     "output_type": "display_data"
    },
    {
     "data": {
      "text/html": [
       "<pre style=\"white-space:pre;overflow-x:auto;line-height:normal;font-family:Menlo,'DejaVu Sans Mono',consolas,'Courier New',monospace\">corr loss: 12.666068077087402 clean loss: 10.20290756225586\n",
       "</pre>\n"
      ],
      "text/plain": [
       "corr loss: 12.666068077087402 clean loss: 10.20290756225586\n"
      ]
     },
     "metadata": {},
     "output_type": "display_data"
    },
    {
     "data": {
      "text/html": [
       "<pre style=\"white-space:pre;overflow-x:auto;line-height:normal;font-family:Menlo,'DejaVu Sans Mono',consolas,'Courier New',monospace\">corr loss: 12.666068077087402 clean loss: 10.20290756225586\n",
       "</pre>\n"
      ],
      "text/plain": [
       "corr loss: 12.666068077087402 clean loss: 10.20290756225586\n"
      ]
     },
     "metadata": {},
     "output_type": "display_data"
    },
    {
     "data": {
      "text/html": [
       "<pre style=\"white-space:pre;overflow-x:auto;line-height:normal;font-family:Menlo,'DejaVu Sans Mono',consolas,'Courier New',monospace\">corr loss: 12.666068077087402 clean loss: 10.20290756225586\n",
       "</pre>\n"
      ],
      "text/plain": [
       "corr loss: 12.666068077087402 clean loss: 10.20290756225586\n"
      ]
     },
     "metadata": {},
     "output_type": "display_data"
    },
    {
     "data": {
      "text/html": [
       "<pre style=\"white-space:pre;overflow-x:auto;line-height:normal;font-family:Menlo,'DejaVu Sans Mono',consolas,'Courier New',monospace\">corr loss: 12.666068077087402 clean loss: 10.20290756225586\n",
       "</pre>\n"
      ],
      "text/plain": [
       "corr loss: 12.666068077087402 clean loss: 10.20290756225586\n"
      ]
     },
     "metadata": {},
     "output_type": "display_data"
    },
    {
     "data": {
      "text/html": [
       "<pre style=\"white-space:pre;overflow-x:auto;line-height:normal;font-family:Menlo,'DejaVu Sans Mono',consolas,'Courier New',monospace\">corr loss: 12.666068077087402 clean loss: 10.20290756225586\n",
       "</pre>\n"
      ],
      "text/plain": [
       "corr loss: 12.666068077087402 clean loss: 10.20290756225586\n"
      ]
     },
     "metadata": {},
     "output_type": "display_data"
    },
    {
     "data": {
      "text/html": [
       "<pre style=\"white-space:pre;overflow-x:auto;line-height:normal;font-family:Menlo,'DejaVu Sans Mono',consolas,'Courier New',monospace\">corr loss: 12.666068077087402 clean loss: 10.20290756225586\n",
       "</pre>\n"
      ],
      "text/plain": [
       "corr loss: 12.666068077087402 clean loss: 10.20290756225586\n"
      ]
     },
     "metadata": {},
     "output_type": "display_data"
    },
    {
     "data": {
      "text/html": [
       "<pre style=\"white-space:pre;overflow-x:auto;line-height:normal;font-family:Menlo,'DejaVu Sans Mono',consolas,'Courier New',monospace\">corr loss: 12.666068077087402 clean loss: 10.20290756225586\n",
       "</pre>\n"
      ],
      "text/plain": [
       "corr loss: 12.666068077087402 clean loss: 10.20290756225586\n"
      ]
     },
     "metadata": {},
     "output_type": "display_data"
    },
    {
     "data": {
      "text/html": [
       "<pre style=\"white-space:pre;overflow-x:auto;line-height:normal;font-family:Menlo,'DejaVu Sans Mono',consolas,'Courier New',monospace\">corr loss: 12.666068077087402 clean loss: 10.20290756225586\n",
       "</pre>\n"
      ],
      "text/plain": [
       "corr loss: 12.666068077087402 clean loss: 10.20290756225586\n"
      ]
     },
     "metadata": {},
     "output_type": "display_data"
    },
    {
     "data": {
      "text/html": [
       "<pre style=\"white-space:pre;overflow-x:auto;line-height:normal;font-family:Menlo,'DejaVu Sans Mono',consolas,'Courier New',monospace\">corr loss: 12.666068077087402 clean loss: 10.20290756225586\n",
       "</pre>\n"
      ],
      "text/plain": [
       "corr loss: 12.666068077087402 clean loss: 10.20290756225586\n"
      ]
     },
     "metadata": {},
     "output_type": "display_data"
    },
    {
     "data": {
      "text/html": [
       "<pre style=\"white-space:pre;overflow-x:auto;line-height:normal;font-family:Menlo,'DejaVu Sans Mono',consolas,'Courier New',monospace\">corr loss: 12.666068077087402 clean loss: 10.20290756225586\n",
       "</pre>\n"
      ],
      "text/plain": [
       "corr loss: 12.666068077087402 clean loss: 10.20290756225586\n"
      ]
     },
     "metadata": {},
     "output_type": "display_data"
    },
    {
     "data": {
      "text/html": [
       "<pre style=\"white-space:pre;overflow-x:auto;line-height:normal;font-family:Menlo,'DejaVu Sans Mono',consolas,'Courier New',monospace\">corr loss: 12.666068077087402 clean loss: 10.20290756225586\n",
       "</pre>\n"
      ],
      "text/plain": [
       "corr loss: 12.666068077087402 clean loss: 10.20290756225586\n"
      ]
     },
     "metadata": {},
     "output_type": "display_data"
    },
    {
     "data": {
      "text/html": [
       "<pre style=\"white-space:pre;overflow-x:auto;line-height:normal;font-family:Menlo,'DejaVu Sans Mono',consolas,'Courier New',monospace\">corr loss: 12.666068077087402 clean loss: 10.20290756225586\n",
       "</pre>\n"
      ],
      "text/plain": [
       "corr loss: 12.666068077087402 clean loss: 10.20290756225586\n"
      ]
     },
     "metadata": {},
     "output_type": "display_data"
    },
    {
     "data": {
      "text/html": [
       "<pre style=\"white-space:pre;overflow-x:auto;line-height:normal;font-family:Menlo,'DejaVu Sans Mono',consolas,'Courier New',monospace\">corr loss: 12.666068077087402 clean loss: 10.20290756225586\n",
       "</pre>\n"
      ],
      "text/plain": [
       "corr loss: 12.666068077087402 clean loss: 10.20290756225586\n"
      ]
     },
     "metadata": {},
     "output_type": "display_data"
    },
    {
     "data": {
      "text/html": [
       "<pre style=\"white-space:pre;overflow-x:auto;line-height:normal;font-family:Menlo,'DejaVu Sans Mono',consolas,'Courier New',monospace\">corr loss: 12.666068077087402 clean loss: 10.20290756225586\n",
       "</pre>\n"
      ],
      "text/plain": [
       "corr loss: 12.666068077087402 clean loss: 10.20290756225586\n"
      ]
     },
     "metadata": {},
     "output_type": "display_data"
    },
    {
     "data": {
      "text/html": [
       "<pre style=\"white-space:pre;overflow-x:auto;line-height:normal;font-family:Menlo,'DejaVu Sans Mono',consolas,'Courier New',monospace\">corr loss: 12.666068077087402 clean loss: 10.20290756225586\n",
       "</pre>\n"
      ],
      "text/plain": [
       "corr loss: 12.666068077087402 clean loss: 10.20290756225586\n"
      ]
     },
     "metadata": {},
     "output_type": "display_data"
    },
    {
     "data": {
      "text/html": [
       "<pre style=\"white-space:pre;overflow-x:auto;line-height:normal;font-family:Menlo,'DejaVu Sans Mono',consolas,'Courier New',monospace\">corr loss: 12.666068077087402 clean loss: 10.20290756225586\n",
       "</pre>\n"
      ],
      "text/plain": [
       "corr loss: 12.666068077087402 clean loss: 10.20290756225586\n"
      ]
     },
     "metadata": {},
     "output_type": "display_data"
    },
    {
     "data": {
      "text/html": [
       "<pre style=\"white-space:pre;overflow-x:auto;line-height:normal;font-family:Menlo,'DejaVu Sans Mono',consolas,'Courier New',monospace\">corr loss: 12.666068077087402 clean loss: 10.20290756225586\n",
       "</pre>\n"
      ],
      "text/plain": [
       "corr loss: 12.666068077087402 clean loss: 10.20290756225586\n"
      ]
     },
     "metadata": {},
     "output_type": "display_data"
    },
    {
     "data": {
      "text/html": [
       "<pre style=\"white-space:pre;overflow-x:auto;line-height:normal;font-family:Menlo,'DejaVu Sans Mono',consolas,'Courier New',monospace\">corr loss: 12.666068077087402 clean loss: 10.20290756225586\n",
       "</pre>\n"
      ],
      "text/plain": [
       "corr loss: 12.666068077087402 clean loss: 10.20290756225586\n"
      ]
     },
     "metadata": {},
     "output_type": "display_data"
    },
    {
     "data": {
      "text/html": [
       "<pre style=\"white-space:pre;overflow-x:auto;line-height:normal;font-family:Menlo,'DejaVu Sans Mono',consolas,'Courier New',monospace\"></pre>\n"
      ],
      "text/plain": []
     },
     "metadata": {},
     "output_type": "display_data"
    },
    {
     "name": "stdout",
     "output_type": "stream",
     "text": [
      "OUTPUT tensor([[ 8.9253e+00, -2.5550e+01,  6.1805e+01, -1.0101e+01, -2.0218e+00,\n",
      "          3.6309e+02,  1.8482e+01, -2.2424e+01],\n",
      "        [ 1.4490e+00, -3.6384e+00,  5.9469e+01,  3.4043e-01,  2.7038e+00,\n",
      "         -1.8947e+00,  7.0553e-01,  3.7753e-01],\n",
      "        [-1.0921e+00, -5.1475e+00,  2.8852e+01,  1.0091e-01,  5.8605e-01,\n",
      "          7.4108e-01,  8.2020e+00, -3.6612e+00],\n",
      "        [-5.3889e-01,  3.4455e+00,  2.7165e-01, -2.7986e+00, -1.9149e-01,\n",
      "         -1.2316e+00,  8.9380e+00,  3.8713e+00],\n",
      "        [-1.1971e+00, -6.0589e-01, -9.5178e-01,  2.2131e+00,  1.9897e+00,\n",
      "         -4.9678e-01,  1.6811e+00, -9.3175e-01],\n",
      "        [ 5.5858e+00, -1.5422e+00,  8.9790e-01, -1.2504e+00, -1.9105e+00,\n",
      "          5.0825e+00, -3.9657e+00, -7.5077e-01],\n",
      "        [-9.4810e-01, -2.8184e+00,  1.4395e+00,  1.2538e+00, -1.0688e+00,\n",
      "         -4.9134e-01,  1.1479e+00,  5.0941e-01],\n",
      "        [-4.2892e-02, -6.3253e-01, -1.3447e+00,  9.9329e-01, -7.6332e-01,\n",
      "         -1.3452e+00,  3.0724e-01, -4.7600e-01],\n",
      "        [-7.0701e-01, -2.0045e-01,  3.4940e+00, -1.3542e+00, -7.7714e-01,\n",
      "          4.3025e-02, -4.8508e+00,  2.9497e-01],\n",
      "        [ 5.5087e-01,  8.7448e-01, -2.3730e+00,  4.8484e-01,  4.1077e+00,\n",
      "         -1.5226e+00, -6.3885e-01, -2.4694e+00],\n",
      "        [ 3.5958e+00, -8.3148e-01, -1.6073e+00, -1.1428e+00, -1.9845e+00,\n",
      "          3.4180e+00, -7.5481e-01, -2.6730e+00],\n",
      "        [-8.1077e-01,  6.7280e+00, -1.7532e+00,  9.0164e-01, -1.6982e+01,\n",
      "          9.3225e-01,  2.3833e+01,  7.0980e-01],\n",
      "        [-1.0107e+00,  2.7213e+00,  2.5137e-01, -6.1584e-01,  9.0785e-01,\n",
      "          1.5202e+00, -4.1534e-01, -2.0759e+00],\n",
      "        [-6.7857e-01,  2.1511e-01, -4.1838e+00, -1.8813e+00, -3.4050e+00,\n",
      "          2.5070e+00,  3.9857e+00,  2.4433e-01],\n",
      "        [ 9.6065e+01,  5.4314e+00,  1.9852e+02,  5.4291e+01,  6.4107e+01,\n",
      "          1.9635e+00,  3.1133e+01,  1.8558e+00],\n",
      "        [-1.7305e+01, -9.3203e+00,  7.1110e+00,  2.1454e+01, -1.6805e-01,\n",
      "         -2.4570e+00,  9.4634e-01, -3.4813e+00],\n",
      "        [ 1.1614e+02, -3.1965e+01,  4.0352e+00,  1.3318e+00,  4.7285e+01,\n",
      "          6.4542e-01, -4.8643e+00,  4.0753e+00],\n",
      "        [-6.0411e+00, -3.5187e-01, -4.5055e-01, -1.9678e+00,  9.1533e+00,\n",
      "         -1.0226e+00,  4.3377e+00,  7.9275e+00]])\n"
     ]
    }
   ],
   "source": [
    "output = torch.zeros(model.cfg.n_layers, model.cfg.n_heads)\n",
    "import spacy, random\n",
    "import numpy as np\n",
    "\n",
    "random.seed(seed)\n",
    "\n",
    "# load English model with Penn Treebank tags\n",
    "nlp = spacy.load(\"en_core_web_sm\")\n",
    "\n",
    "def first_occurrence(sentence: str, coarse_tag: str, ptb_map: dict):\n",
    "    doc = nlp(sentence)\n",
    "    for tok in doc:\n",
    "        ptb = tok.tag_              # Penn Treebank POS\n",
    "        coarse = ptb_map.get(ptb, \"other\")\n",
    "        if coarse == coarse_tag:\n",
    "            return tok.text\n",
    "    return None\n",
    "\n",
    "num_samples = 0\n",
    "for i, item in enumerate(tv_data):\n",
    "\n",
    "    item[\"Sentence\"] = item[\"Sentence\"].replace(\"\\\"\",\"\") + \".\"\n",
    "    item[\"Answer\"] = item[\"Answer\"].replace(\"\\\"\",\"\").lower()\n",
    "    item[\"POS tag\"] = item[\"POS tag\"].replace(\"\\\"\",\"\")\n",
    "\n",
    "    clean_prompt = template.format(sentence=item[\"Sentence\"], tag=item[\"POS tag\"])\n",
    "    ans_corr = None\n",
    "    ans_clean = model.to_tokens(item[\"Answer\"], prepend_bos=False).squeeze(-1)\n",
    "\n",
    "    if null_task and metric == \"kl_divergence\":\n",
    "        random_tag = \"null\"\n",
    "        ans_corr = item[\"Answer\"]\n",
    "\n",
    "        ans_corr = model.to_tokens(ans_corr, prepend_bos=False).squeeze(-1)\n",
    "\n",
    "    elif null_task and metric == \"logit_diff\":\n",
    "        corrupted_answers_list = []\n",
    "        for t in tag_set:\n",
    "            if t != item[\"POS tag\"]:\n",
    "                random_tag = t\n",
    "                ans_corr = first_occurrence(item[\"Sentence\"], random_tag, PTB_TO_COARSE)\n",
    "                if ans_corr is not None:\n",
    "                    ans_corr = model.to_tokens(ans_corr, prepend_bos=False).squeeze(-1)\n",
    "                    if ans_corr.shape == torch.Size([1]):\n",
    "                        corrupted_answers_list.append((random_tag, ans_corr))\n",
    "        random_tag = \"null\"\n",
    "\n",
    "    else:\n",
    "        while ans_corr == None:\n",
    "            random_tag = random.choice([t for t in tag_set if t != item[\"POS tag\"]])\n",
    "            ans_corr = first_occurrence(item[\"Sentence\"], random_tag, PTB_TO_COARSE)\n",
    "        ans_corr = model.to_tokens(ans_corr, prepend_bos=False).squeeze(-1)\n",
    "\n",
    "    corrupted_prompt = template.format(\n",
    "        sentence=item[\"Sentence\"],\n",
    "        tag=random_tag\n",
    "    )\n",
    "\n",
    "    if metric == \"logit_diff\" and null_task == False:\n",
    "        if ans_clean.shape != torch.Size([1]) or ans_corr.shape != torch.Size([1]):\n",
    "            continue\n",
    "\n",
    "        # Per-example tokenization (no growing lists)\n",
    "        source_toks = model.to_tokens(clean_prompt, prepend_bos=False).squeeze(-1)\n",
    "        corr_toks = model.to_tokens(corrupted_prompt, prepend_bos=False).squeeze(-1)\n",
    "\n",
    "    elif null_task and metric == \"logit_diff\":\n",
    "\n",
    "        if ans_clean.shape != torch.Size([1]):\n",
    "            continue\n",
    "\n",
    "        if corrupted_answers_list == []:\n",
    "            continue\n",
    "\n",
    "        source_toks = model.to_tokens(clean_prompt, prepend_bos=False).squeeze(-1)\n",
    "        corr_toks = model.to_tokens(corrupted_prompt, prepend_bos=False).squeeze(-1)\n",
    "\n",
    "    else:\n",
    "        if null_task and allow_multitoken:\n",
    "            source_toks = model.to_tokens(clean_prompt+item[\"Answer\"], prepend_bos=False).squeeze(-1)\n",
    "            corr_toks = model.to_tokens(corrupted_prompt+item[\"Answer\"], prepend_bos=False).squeeze(-1)\n",
    "        else:\n",
    "            if ans_clean.shape != torch.Size([1]) or ans_corr.shape != torch.Size([1]):\n",
    "                continue\n",
    "            source_toks = model.to_tokens(clean_prompt, prepend_bos=False).squeeze(-1)\n",
    "            corr_toks = model.to_tokens(corrupted_prompt, prepend_bos=False).squeeze(-1)\n",
    "\n",
    "    if metric == \"kl_divergence\" or metric == \"tf_loss\":\n",
    "        ans_tokens = torch.stack([torch.tensor((ans_clean))]).to(device)\n",
    "\n",
    "    elif metric == \"logit_diff\" and null_task == True:\n",
    "        ans_tokens_list = []\n",
    "        for corr in corrupted_answers_list:\n",
    "            ans_tokens = torch.stack([torch.tensor((ans_clean, corr[1]))]).to(device)\n",
    "            ans_tokens_list.append(ans_tokens)\n",
    "\n",
    "        ans_tokens = ans_tokens_list\n",
    "    else:\n",
    "        ans_tokens = torch.stack([torch.tensor((ans_clean, ans_corr))]).to(device)\n",
    "    \n",
    "    output+=path_patching(model, receiver_nodes, source_toks, corr_toks, ans_tokens, component, position, freeze_mlps, indirect_patch, metric=metric, is_multitoken=allow_multitoken, device=device)\n",
    "\n",
    "    num_samples += 1\n",
    "    if num_samples == 2:\n",
    "        break\n",
    "    \n",
    "output/=num_samples\n",
    "print(\"OUTPUT\", output)"
   ]
  },
  {
   "cell_type": "code",
   "execution_count": 7,
   "id": "7eb6db71",
   "metadata": {},
   "outputs": [
    {
     "name": "stdout",
     "output_type": "stream",
     "text": [
      "Saving to deneme.npy\n"
     ]
    }
   ],
   "source": [
    "recv_str = '_'.join(['-'.join([str(si) for si in s if si is not None]) for s in receiver_nodes])\n",
    "print(\"Saving to\", f'{\"deneme\".strip(\".json\") }.npy')\n",
    "np.save(f'{\"deneme\".strip(\".json\") }.npy', output.numpy())"
   ]
  },
  {
   "cell_type": "markdown",
   "id": "a4f2cf2e",
   "metadata": {},
   "source": []
  },
  {
   "cell_type": "code",
   "execution_count": 8,
   "id": "a4498244",
   "metadata": {},
   "outputs": [
    {
     "data": {
      "application/vnd.plotly.v1+json": {
       "config": {
        "plotlyServerURL": "https://plot.ly"
       },
       "data": [
        {
         "coloraxis": "coloraxis",
         "hovertemplate": "x: %{x}<br>y: %{y}<br>% path-patch score: %{z}<extra></extra>",
         "name": "0",
         "type": "heatmap",
         "xaxis": "x",
         "yaxis": "y",
         "z": {
          "bdata": "/s0OQWxlzMFsOHdCdJwhwctkAcAkjLVDh9uTQVxjs8EAerk/qNtowMrfbUIlTa4+4AstQJ2E8r9enTQ/FkzBPtbIi78BuKTAttDmQeqozj2eBxY/orc9P5Y7A0G2UWrAq/QJv4uCXEAWFYs+eBszwGkVRL5MpZ2/7AEPQYPDd0DKOpm/TBsbvwSoc7+1og1AjK/+P1ZZ/r66Ldc/IYduv6K+skBGZcW/9NxlP58NoL9+ivS/8KOiQDbOfcAlMkC/krZyv1VgNMA5Qrg/Qn2gP67NiL+6kPu+5OySP4doAj+Kry+9au0hv7AdrL91SH4/NmlDv9svrL9DTp0+prbzvln+NL/OQU2+aZ1fQH1Wrb9f8ka//DowPd45m8CJBpc+CgYNPxreXz8e3xfAaj34PuZxg0BC48K/yosjv2kLHsBCImZA9ttUv8a8zb+6RpK/xgP+v07AWkAyO0G/DhMrwKyOT7+ZS9dA2Gngv9bRZj9Q24fBnKduP5ipvkFEtTU/ol2Bv0wpLkDCs4A+eKcdv/9oaD9tlcI/R6fUvs7bBMB4ti2/pEZcPvThhcBXzfC/OOxZwHVyIEAAFn9AeDF6PlQhwEK2za1ABoRGQ1EqWULdNoBCZFP7P0QQ+UGviu0/YnGKweYfFcFujeNA3KCrQcoULL4gPx3AWkNyP/DNXsCyRuhCnrj/wZcggUAieKo/IiQ9QmQ6JT8qqJvAeWiCQOJQwcAIKLS+eq7mvgHh+7/DcxJBjOWCv2TOikB5rv1A",
          "dtype": "f4",
          "shape": "18, 8"
         }
        }
       ],
       "layout": {
        "coloraxis": {
         "cmax": 363.0948486328125,
         "cmid": 0,
         "cmin": -363.0948486328125,
         "colorbar": {
          "title": {
           "text": "% path-patch score"
          }
         },
         "colorscale": [
          [
           0,
           "rgb(103,0,31)"
          ],
          [
           0.1,
           "rgb(178,24,43)"
          ],
          [
           0.2,
           "rgb(214,96,77)"
          ],
          [
           0.3,
           "rgb(244,165,130)"
          ],
          [
           0.4,
           "rgb(253,219,199)"
          ],
          [
           0.5,
           "rgb(247,247,247)"
          ],
          [
           0.6,
           "rgb(209,229,240)"
          ],
          [
           0.7,
           "rgb(146,197,222)"
          ],
          [
           0.8,
           "rgb(67,147,195)"
          ],
          [
           0.9,
           "rgb(33,102,172)"
          ],
          [
           1,
           "rgb(5,48,97)"
          ]
         ]
        },
        "height": 600,
        "margin": {
         "t": 60
        },
        "template": {
         "data": {
          "bar": [
           {
            "error_x": {
             "color": "#2a3f5f"
            },
            "error_y": {
             "color": "#2a3f5f"
            },
            "marker": {
             "line": {
              "color": "#E5ECF6",
              "width": 0.5
             },
             "pattern": {
              "fillmode": "overlay",
              "size": 10,
              "solidity": 0.2
             }
            },
            "type": "bar"
           }
          ],
          "barpolar": [
           {
            "marker": {
             "line": {
              "color": "#E5ECF6",
              "width": 0.5
             },
             "pattern": {
              "fillmode": "overlay",
              "size": 10,
              "solidity": 0.2
             }
            },
            "type": "barpolar"
           }
          ],
          "carpet": [
           {
            "aaxis": {
             "endlinecolor": "#2a3f5f",
             "gridcolor": "white",
             "linecolor": "white",
             "minorgridcolor": "white",
             "startlinecolor": "#2a3f5f"
            },
            "baxis": {
             "endlinecolor": "#2a3f5f",
             "gridcolor": "white",
             "linecolor": "white",
             "minorgridcolor": "white",
             "startlinecolor": "#2a3f5f"
            },
            "type": "carpet"
           }
          ],
          "choropleth": [
           {
            "colorbar": {
             "outlinewidth": 0,
             "ticks": ""
            },
            "type": "choropleth"
           }
          ],
          "contour": [
           {
            "colorbar": {
             "outlinewidth": 0,
             "ticks": ""
            },
            "colorscale": [
             [
              0,
              "#0d0887"
             ],
             [
              0.1111111111111111,
              "#46039f"
             ],
             [
              0.2222222222222222,
              "#7201a8"
             ],
             [
              0.3333333333333333,
              "#9c179e"
             ],
             [
              0.4444444444444444,
              "#bd3786"
             ],
             [
              0.5555555555555556,
              "#d8576b"
             ],
             [
              0.6666666666666666,
              "#ed7953"
             ],
             [
              0.7777777777777778,
              "#fb9f3a"
             ],
             [
              0.8888888888888888,
              "#fdca26"
             ],
             [
              1,
              "#f0f921"
             ]
            ],
            "type": "contour"
           }
          ],
          "contourcarpet": [
           {
            "colorbar": {
             "outlinewidth": 0,
             "ticks": ""
            },
            "type": "contourcarpet"
           }
          ],
          "heatmap": [
           {
            "colorbar": {
             "outlinewidth": 0,
             "ticks": ""
            },
            "colorscale": [
             [
              0,
              "#0d0887"
             ],
             [
              0.1111111111111111,
              "#46039f"
             ],
             [
              0.2222222222222222,
              "#7201a8"
             ],
             [
              0.3333333333333333,
              "#9c179e"
             ],
             [
              0.4444444444444444,
              "#bd3786"
             ],
             [
              0.5555555555555556,
              "#d8576b"
             ],
             [
              0.6666666666666666,
              "#ed7953"
             ],
             [
              0.7777777777777778,
              "#fb9f3a"
             ],
             [
              0.8888888888888888,
              "#fdca26"
             ],
             [
              1,
              "#f0f921"
             ]
            ],
            "type": "heatmap"
           }
          ],
          "histogram": [
           {
            "marker": {
             "pattern": {
              "fillmode": "overlay",
              "size": 10,
              "solidity": 0.2
             }
            },
            "type": "histogram"
           }
          ],
          "histogram2d": [
           {
            "colorbar": {
             "outlinewidth": 0,
             "ticks": ""
            },
            "colorscale": [
             [
              0,
              "#0d0887"
             ],
             [
              0.1111111111111111,
              "#46039f"
             ],
             [
              0.2222222222222222,
              "#7201a8"
             ],
             [
              0.3333333333333333,
              "#9c179e"
             ],
             [
              0.4444444444444444,
              "#bd3786"
             ],
             [
              0.5555555555555556,
              "#d8576b"
             ],
             [
              0.6666666666666666,
              "#ed7953"
             ],
             [
              0.7777777777777778,
              "#fb9f3a"
             ],
             [
              0.8888888888888888,
              "#fdca26"
             ],
             [
              1,
              "#f0f921"
             ]
            ],
            "type": "histogram2d"
           }
          ],
          "histogram2dcontour": [
           {
            "colorbar": {
             "outlinewidth": 0,
             "ticks": ""
            },
            "colorscale": [
             [
              0,
              "#0d0887"
             ],
             [
              0.1111111111111111,
              "#46039f"
             ],
             [
              0.2222222222222222,
              "#7201a8"
             ],
             [
              0.3333333333333333,
              "#9c179e"
             ],
             [
              0.4444444444444444,
              "#bd3786"
             ],
             [
              0.5555555555555556,
              "#d8576b"
             ],
             [
              0.6666666666666666,
              "#ed7953"
             ],
             [
              0.7777777777777778,
              "#fb9f3a"
             ],
             [
              0.8888888888888888,
              "#fdca26"
             ],
             [
              1,
              "#f0f921"
             ]
            ],
            "type": "histogram2dcontour"
           }
          ],
          "mesh3d": [
           {
            "colorbar": {
             "outlinewidth": 0,
             "ticks": ""
            },
            "type": "mesh3d"
           }
          ],
          "parcoords": [
           {
            "line": {
             "colorbar": {
              "outlinewidth": 0,
              "ticks": ""
             }
            },
            "type": "parcoords"
           }
          ],
          "pie": [
           {
            "automargin": true,
            "type": "pie"
           }
          ],
          "scatter": [
           {
            "fillpattern": {
             "fillmode": "overlay",
             "size": 10,
             "solidity": 0.2
            },
            "type": "scatter"
           }
          ],
          "scatter3d": [
           {
            "line": {
             "colorbar": {
              "outlinewidth": 0,
              "ticks": ""
             }
            },
            "marker": {
             "colorbar": {
              "outlinewidth": 0,
              "ticks": ""
             }
            },
            "type": "scatter3d"
           }
          ],
          "scattercarpet": [
           {
            "marker": {
             "colorbar": {
              "outlinewidth": 0,
              "ticks": ""
             }
            },
            "type": "scattercarpet"
           }
          ],
          "scattergeo": [
           {
            "marker": {
             "colorbar": {
              "outlinewidth": 0,
              "ticks": ""
             }
            },
            "type": "scattergeo"
           }
          ],
          "scattergl": [
           {
            "marker": {
             "colorbar": {
              "outlinewidth": 0,
              "ticks": ""
             }
            },
            "type": "scattergl"
           }
          ],
          "scattermap": [
           {
            "marker": {
             "colorbar": {
              "outlinewidth": 0,
              "ticks": ""
             }
            },
            "type": "scattermap"
           }
          ],
          "scattermapbox": [
           {
            "marker": {
             "colorbar": {
              "outlinewidth": 0,
              "ticks": ""
             }
            },
            "type": "scattermapbox"
           }
          ],
          "scatterpolar": [
           {
            "marker": {
             "colorbar": {
              "outlinewidth": 0,
              "ticks": ""
             }
            },
            "type": "scatterpolar"
           }
          ],
          "scatterpolargl": [
           {
            "marker": {
             "colorbar": {
              "outlinewidth": 0,
              "ticks": ""
             }
            },
            "type": "scatterpolargl"
           }
          ],
          "scatterternary": [
           {
            "marker": {
             "colorbar": {
              "outlinewidth": 0,
              "ticks": ""
             }
            },
            "type": "scatterternary"
           }
          ],
          "surface": [
           {
            "colorbar": {
             "outlinewidth": 0,
             "ticks": ""
            },
            "colorscale": [
             [
              0,
              "#0d0887"
             ],
             [
              0.1111111111111111,
              "#46039f"
             ],
             [
              0.2222222222222222,
              "#7201a8"
             ],
             [
              0.3333333333333333,
              "#9c179e"
             ],
             [
              0.4444444444444444,
              "#bd3786"
             ],
             [
              0.5555555555555556,
              "#d8576b"
             ],
             [
              0.6666666666666666,
              "#ed7953"
             ],
             [
              0.7777777777777778,
              "#fb9f3a"
             ],
             [
              0.8888888888888888,
              "#fdca26"
             ],
             [
              1,
              "#f0f921"
             ]
            ],
            "type": "surface"
           }
          ],
          "table": [
           {
            "cells": {
             "fill": {
              "color": "#EBF0F8"
             },
             "line": {
              "color": "white"
             }
            },
            "header": {
             "fill": {
              "color": "#C8D4E3"
             },
             "line": {
              "color": "white"
             }
            },
            "type": "table"
           }
          ]
         },
         "layout": {
          "annotationdefaults": {
           "arrowcolor": "#2a3f5f",
           "arrowhead": 0,
           "arrowwidth": 1
          },
          "autotypenumbers": "strict",
          "coloraxis": {
           "colorbar": {
            "outlinewidth": 0,
            "ticks": ""
           }
          },
          "colorscale": {
           "diverging": [
            [
             0,
             "#8e0152"
            ],
            [
             0.1,
             "#c51b7d"
            ],
            [
             0.2,
             "#de77ae"
            ],
            [
             0.3,
             "#f1b6da"
            ],
            [
             0.4,
             "#fde0ef"
            ],
            [
             0.5,
             "#f7f7f7"
            ],
            [
             0.6,
             "#e6f5d0"
            ],
            [
             0.7,
             "#b8e186"
            ],
            [
             0.8,
             "#7fbc41"
            ],
            [
             0.9,
             "#4d9221"
            ],
            [
             1,
             "#276419"
            ]
           ],
           "sequential": [
            [
             0,
             "#0d0887"
            ],
            [
             0.1111111111111111,
             "#46039f"
            ],
            [
             0.2222222222222222,
             "#7201a8"
            ],
            [
             0.3333333333333333,
             "#9c179e"
            ],
            [
             0.4444444444444444,
             "#bd3786"
            ],
            [
             0.5555555555555556,
             "#d8576b"
            ],
            [
             0.6666666666666666,
             "#ed7953"
            ],
            [
             0.7777777777777778,
             "#fb9f3a"
            ],
            [
             0.8888888888888888,
             "#fdca26"
            ],
            [
             1,
             "#f0f921"
            ]
           ],
           "sequentialminus": [
            [
             0,
             "#0d0887"
            ],
            [
             0.1111111111111111,
             "#46039f"
            ],
            [
             0.2222222222222222,
             "#7201a8"
            ],
            [
             0.3333333333333333,
             "#9c179e"
            ],
            [
             0.4444444444444444,
             "#bd3786"
            ],
            [
             0.5555555555555556,
             "#d8576b"
            ],
            [
             0.6666666666666666,
             "#ed7953"
            ],
            [
             0.7777777777777778,
             "#fb9f3a"
            ],
            [
             0.8888888888888888,
             "#fdca26"
            ],
            [
             1,
             "#f0f921"
            ]
           ]
          },
          "colorway": [
           "#636efa",
           "#EF553B",
           "#00cc96",
           "#ab63fa",
           "#FFA15A",
           "#19d3f3",
           "#FF6692",
           "#B6E880",
           "#FF97FF",
           "#FECB52"
          ],
          "font": {
           "color": "#2a3f5f"
          },
          "geo": {
           "bgcolor": "white",
           "lakecolor": "white",
           "landcolor": "#E5ECF6",
           "showlakes": true,
           "showland": true,
           "subunitcolor": "white"
          },
          "hoverlabel": {
           "align": "left"
          },
          "hovermode": "closest",
          "mapbox": {
           "style": "light"
          },
          "paper_bgcolor": "white",
          "plot_bgcolor": "#E5ECF6",
          "polar": {
           "angularaxis": {
            "gridcolor": "white",
            "linecolor": "white",
            "ticks": ""
           },
           "bgcolor": "#E5ECF6",
           "radialaxis": {
            "gridcolor": "white",
            "linecolor": "white",
            "ticks": ""
           }
          },
          "scene": {
           "xaxis": {
            "backgroundcolor": "#E5ECF6",
            "gridcolor": "white",
            "gridwidth": 2,
            "linecolor": "white",
            "showbackground": true,
            "ticks": "",
            "zerolinecolor": "white"
           },
           "yaxis": {
            "backgroundcolor": "#E5ECF6",
            "gridcolor": "white",
            "gridwidth": 2,
            "linecolor": "white",
            "showbackground": true,
            "ticks": "",
            "zerolinecolor": "white"
           },
           "zaxis": {
            "backgroundcolor": "#E5ECF6",
            "gridcolor": "white",
            "gridwidth": 2,
            "linecolor": "white",
            "showbackground": true,
            "ticks": "",
            "zerolinecolor": "white"
           }
          },
          "shapedefaults": {
           "line": {
            "color": "#2a3f5f"
           }
          },
          "ternary": {
           "aaxis": {
            "gridcolor": "white",
            "linecolor": "white",
            "ticks": ""
           },
           "baxis": {
            "gridcolor": "white",
            "linecolor": "white",
            "ticks": ""
           },
           "bgcolor": "#E5ECF6",
           "caxis": {
            "gridcolor": "white",
            "linecolor": "white",
            "ticks": ""
           }
          },
          "title": {
           "x": 0.05
          },
          "xaxis": {
           "automargin": true,
           "gridcolor": "white",
           "linecolor": "white",
           "ticks": "",
           "title": {
            "standoff": 15
           },
           "zerolinecolor": "white",
           "zerolinewidth": 2
          },
          "yaxis": {
           "automargin": true,
           "gridcolor": "white",
           "linecolor": "white",
           "ticks": "",
           "title": {
            "standoff": 15
           },
           "zerolinecolor": "white",
           "zerolinewidth": 2
          }
         }
        },
        "title": {
         "text": "Path patching (%) – 17"
        },
        "width": 400,
        "xaxis": {
         "anchor": "y",
         "constrain": "domain",
         "domain": [
          0,
          1
         ],
         "scaleanchor": "y",
         "tickmode": "array",
         "tickvals": [
          0,
          1,
          2,
          3,
          4,
          5,
          6,
          7
         ],
         "title": {
          "text": "Head"
         }
        },
        "yaxis": {
         "anchor": "x",
         "autorange": "reversed",
         "constrain": "domain",
         "domain": [
          0,
          1
         ],
         "tickmode": "array",
         "tickvals": [
          0,
          1,
          2,
          3,
          4,
          5,
          6,
          7,
          8,
          9,
          10,
          11,
          12,
          13,
          14,
          15,
          16,
          17
         ],
         "title": {
          "text": "Layer"
         }
        }
       }
      }
     },
     "metadata": {},
     "output_type": "display_data"
    }
   ],
   "source": [
    "import numpy as np\n",
    "import plotly.express as px\n",
    "from pathlib import Path\n",
    "\n",
    "def show_path_patching_heatmap(arr_or_path, title=None, renderer=None,\n",
    "                               midpoint=0.0, symmetric=True, zmax=None,\n",
    "                               origin=\"upper\", annotate=False, fmt=\".2f\"):\n",
    "    \"\"\"\n",
    "    arr_or_path: np.ndarray of shape (n_layers, n_heads) or path to .npy\n",
    "    origin: \"upper\" puts layer 0 at top; use \"lower\" to put it at bottom\n",
    "    \"\"\"\n",
    "    A = np.load(arr_or_path) if isinstance(arr_or_path, (str, Path)) else np.asarray(arr_or_path)\n",
    "    assert A.ndim == 2, \"Expected (layers, heads) array\"\n",
    "\n",
    "    n_layers, n_heads = A.shape\n",
    "    if symmetric:\n",
    "        vmax = float(np.nanmax(np.abs(A))) if zmax is None else float(zmax)\n",
    "        zmin, zmax = -vmax, vmax\n",
    "    else:\n",
    "        zmin = None\n",
    "\n",
    "    fig = px.imshow(\n",
    "        A,\n",
    "        color_continuous_scale=\"RdBu\",\n",
    "        color_continuous_midpoint=midpoint,\n",
    "        zmin=zmin, zmax=zmax,\n",
    "        origin=origin,\n",
    "        labels=dict(color=\"% path-patch score\")\n",
    "    )\n",
    "    fig.update_xaxes(title=\"Head\", tickmode=\"array\", tickvals=list(range(n_heads)))\n",
    "    fig.update_yaxes(title=\"Layer\", tickmode=\"array\", tickvals=list(range(n_layers)))\n",
    "    fig.update_layout(title=title,\n",
    "                      height=600,                     # keep same vertical size\n",
    "                    width=n_heads * 50)\n",
    "\n",
    "    if annotate:\n",
    "        text = np.vectorize(lambda x: f\"{x:{fmt}}\")(A)\n",
    "        fig.update_traces(text=text, texttemplate=\"%{text}\", textfont_size=10)\n",
    "\n",
    "    fig.show(renderer)\n",
    "\n",
    "# Example use:\n",
    "arr = np.load(\"deneme.npy\")  # you saved output*100\n",
    "# show_path_patching_heatmap(arr, title=f\"Path patching (%) – {recv_str}\", symmetric=True, origin=\"upper\")\n",
    "# or directly:\n",
    "show_path_patching_heatmap(\"deneme.npy\", title=f\"Path patching (%) – {recv_str}\")\n"
   ]
  }
 ],
 "metadata": {
  "kernelspec": {
   "display_name": "fmvalid (3.11.2)",
   "language": "python",
   "name": "python3"
  },
  "language_info": {
   "codemirror_mode": {
    "name": "ipython",
    "version": 3
   },
   "file_extension": ".py",
   "mimetype": "text/x-python",
   "name": "python",
   "nbconvert_exporter": "python",
   "pygments_lexer": "ipython3",
   "version": "3.11.2"
  }
 },
 "nbformat": 4,
 "nbformat_minor": 5
}
