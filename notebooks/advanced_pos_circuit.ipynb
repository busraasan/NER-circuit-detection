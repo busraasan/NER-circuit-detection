{
 "cells": [
  {
   "cell_type": "code",
   "execution_count": 1,
   "id": "75079463",
   "metadata": {},
   "outputs": [
    {
     "name": "stderr",
     "output_type": "stream",
     "text": [
      "/home/basan/fmvalid/lib/python3.11/site-packages/transformers/utils/hub.py:111: FutureWarning: Using `TRANSFORMERS_CACHE` is deprecated and will be removed in v5 of Transformers. Use `HF_HOME` instead.\n",
      "  warnings.warn(\n"
     ]
    },
    {
     "data": {
      "application/vnd.jupyter.widget-view+json": {
       "model_id": "b347668d2bda4aff8c7afca10d05c01f",
       "version_major": 2,
       "version_minor": 0
      },
      "text/plain": [
       "Loading checkpoint shards:   0%|          | 0/2 [00:00<?, ?it/s]"
      ]
     },
     "metadata": {},
     "output_type": "display_data"
    },
    {
     "name": "stderr",
     "output_type": "stream",
     "text": [
      "WARNING:root:You are not using LayerNorm, so the writing weights can't be centered! Skipping\n"
     ]
    },
    {
     "name": "stdout",
     "output_type": "stream",
     "text": [
      "Loaded pretrained model gemma-2b into HookedTransformer\n"
     ]
    }
   ],
   "source": [
    "from transformer_lens import HookedTransformer\n",
    "import torch\n",
    "\n",
    "device = \"cuda:0\" if torch.cuda.is_available() else \"cpu\"\n",
    "\n",
    "model_name = \"gemma-2b\"\n",
    "model = HookedTransformer.from_pretrained(\n",
    "        model_name,\n",
    "        center_unembed=True,\n",
    "        center_writing_weights=True,\n",
    "        fold_ln=True,\n",
    "        device = device\n",
    "    )"
   ]
  },
  {
   "cell_type": "code",
   "execution_count": 2,
   "id": "4de61bb2",
   "metadata": {},
   "outputs": [],
   "source": [
    "import plotly.express as px\n",
    "import pandas as pd\n",
    "import transformer_lens.utils as utils\n",
    "\n",
    "def imshow(tensor, renderer=None, midpoint=0, **kwargs):\n",
    "    px.imshow(utils.to_numpy(tensor), color_continuous_midpoint=midpoint, color_continuous_scale=\"RdBu\", **kwargs).show(renderer)\n",
    "\n",
    "def line(tensor, renderer=None, **kwargs):\n",
    "    px.line(y=utils.to_numpy(tensor), **kwargs).show(renderer)\n",
    "\n",
    "def scatter(x, y, xaxis=\"\", yaxis=\"\", caxis=\"\", renderer=None, **kwargs):\n",
    "    x = utils.to_numpy(x)\n",
    "    y = utils.to_numpy(y)\n",
    "    px.scatter(y=y, x=x, labels={\"x\":xaxis, \"y\":yaxis, \"color\":caxis}, **kwargs).show(renderer)\n"
   ]
  },
  {
   "cell_type": "code",
   "execution_count": 3,
   "id": "3dddd731",
   "metadata": {},
   "outputs": [],
   "source": [
    "import sys\n",
    "import os\n",
    "\n",
    "# Add the parent directory to sys.path\n",
    "sys.path.append(os.path.abspath(\"..\"))  # go up one level to the root\n",
    "\n",
    "from src.advanced_path_patching import *\n",
    "import json, random\n",
    "import pandas as pd\n",
    "\n",
    "def load_json(filename):\n",
    "    with open(filename, 'r') as fp:\n",
    "        return json.load(fp)\n",
    "    \n",
    "tv_data = pd.read_csv(\"../data/penn_pos_dataset_all.csv\")\n",
    "\n",
    "#tag_set = [\"noun\", \"pronoun\", \"verb\", \"adverb\", \"adjective\", \"preposition\"]\n",
    "tag_set = [\"noun\", \"pronoun\", \"verb\", \"adverb\", \"adjective\", \"preposition\", \"particle\", \"determiner\", \"conjunction\", \"number\"]\n",
    "\n",
    "template = \"\"\"Sentence: The cat chased the mouse.\n",
    "POS tag: noun\n",
    "Answer: cat\n",
    "\n",
    "Sentence: She went to the market.\n",
    "POS tag: pronoun\n",
    "Answer: She\n",
    "\n",
    "Sentence: Birds fly across the sky.\n",
    "POS tag: verb\n",
    "Answer: fly\n",
    "\n",
    "Sentence: He quickly closed the door.\n",
    "POS tag: adverb\n",
    "Answer: quickly\n",
    "\n",
    "Sentence: The tall man opened the door.\n",
    "POS tag: adjective\n",
    "Answer: tall\n",
    "\n",
    "Sentence: She walked under the bridge.\n",
    "POS tag: preposition\n",
    "Answer: under\n",
    "\n",
    "Sentence: {sentence}\\nPOS tag: {tag}\\nAnswer:\"\"\""
   ]
  },
  {
   "cell_type": "code",
   "execution_count": 4,
   "id": "1f449c0f",
   "metadata": {},
   "outputs": [],
   "source": [
    "receiver_nodes = [(17, None)]   # MLP at layer 13\n",
    "component = \"z\"\n",
    "position = -1\n",
    "freeze_mlps = True\n",
    "indirect_patch = False\n",
    "metric=\"logit_diff\"\n",
    "seed = 42\n",
    "null_task = True\n",
    "allow_multitoken = False"
   ]
  },
  {
   "cell_type": "code",
   "execution_count": 5,
   "id": "55651f02",
   "metadata": {},
   "outputs": [],
   "source": [
    "PTB_TO_COARSE = {\n",
    "    # Nouns\n",
    "    \"NN\":\"noun\",\"NNS\":\"noun\",\"NNP\":\"noun\",\"NNPS\":\"noun\",\n",
    "    # Verbs (incl. modals as Verb for coarse)\n",
    "    \"VB\":\"verb\",\"VBD\":\"verb\",\"VBG\":\"verb\",\"VBN\":\"verb\",\"VBP\":\"verb\",\"VBZ\":\"verb\",\"MD\":\"verb\",\n",
    "    # Adjectives\n",
    "    \"JJ\":\"adjective\",\"JJR\":\"adjective\",\"JJS\":\"adjective\",\n",
    "    # Adverbs\n",
    "    \"RB\":\"adverb\",\"RBR\":\"adverb\",\"RBS\":\"adverb\",\"WRB\":\"adverb\",\n",
    "    # Pronouns\n",
    "    \"PRP\":\"pronoun\",\"PRP$\":\"pronoun\",\"WP\":\"pronoun\",\"WP$\":\"pronoun\",\n",
    "    # Prepositions / Subordinators\n",
    "    \"IN\":\"preposition\",\"TO\":\"preposition\",\n",
    "    # Determiners\n",
    "    \"DT\":\"determiner\",\"PDT\":\"determiner\",\"WDT\":\"determiner\",\n",
    "    # Conjunctions\n",
    "    \"CC\":\"conjunction\",\n",
    "    # Numbers\n",
    "    \"CD\":\"number\",\n",
    "    # Particles\n",
    "    \"RP\":\"particle\",\n",
    "    # Everything else\n",
    "    \"EX\":\"other\",\"FW\":\"other\",\"LS\":\"other\",\"SYM\":\"other\",\"UH\":\"other\",\"POS\":\"other\",\n",
    "    \"``\":\"other\",\"''\":\"Other\",\",\":\"Other\",\".\":\"Other\",\":\":\"Other\",\"-LRB-\":\"other\",\"-RRB-\":\"other\"\n",
    "}"
   ]
  },
  {
   "cell_type": "code",
   "execution_count": null,
   "id": "d7b3f030",
   "metadata": {},
   "outputs": [
    {
     "data": {
      "application/vnd.jupyter.widget-view+json": {
       "model_id": "4912fa8005c348d0b62babcb6e7baaf2",
       "version_major": 2,
       "version_minor": 0
      },
      "text/plain": [
       "Output()"
      ]
     },
     "metadata": {},
     "output_type": "display_data"
    },
    {
     "data": {
      "text/html": [
       "<pre style=\"white-space:pre;overflow-x:auto;line-height:normal;font-family:Menlo,'DejaVu Sans Mono',consolas,'Courier New',monospace\"></pre>\n"
      ],
      "text/plain": []
     },
     "metadata": {},
     "output_type": "display_data"
    },
    {
     "data": {
      "application/vnd.jupyter.widget-view+json": {
       "model_id": "c768d171d10a49af89db29d94b2931d8",
       "version_major": 2,
       "version_minor": 0
      },
      "text/plain": [
       "Output()"
      ]
     },
     "metadata": {},
     "output_type": "display_data"
    },
    {
     "data": {
      "text/html": [
       "<pre style=\"white-space:pre;overflow-x:auto;line-height:normal;font-family:Menlo,'DejaVu Sans Mono',consolas,'Courier New',monospace\"></pre>\n"
      ],
      "text/plain": []
     },
     "metadata": {},
     "output_type": "display_data"
    },
    {
     "data": {
      "application/vnd.jupyter.widget-view+json": {
       "model_id": "43cdaa16904f4b45a43afcf1a323295f",
       "version_major": 2,
       "version_minor": 0
      },
      "text/plain": [
       "Output()"
      ]
     },
     "metadata": {},
     "output_type": "display_data"
    },
    {
     "data": {
      "text/html": [
       "<pre style=\"white-space:pre;overflow-x:auto;line-height:normal;font-family:Menlo,'DejaVu Sans Mono',consolas,'Courier New',monospace\"></pre>\n"
      ],
      "text/plain": []
     },
     "metadata": {},
     "output_type": "display_data"
    },
    {
     "data": {
      "application/vnd.jupyter.widget-view+json": {
       "model_id": "959ad4c2cdd8449ca9c041050705c4f9",
       "version_major": 2,
       "version_minor": 0
      },
      "text/plain": [
       "Output()"
      ]
     },
     "metadata": {},
     "output_type": "display_data"
    },
    {
     "data": {
      "text/html": [
       "<pre style=\"white-space:pre;overflow-x:auto;line-height:normal;font-family:Menlo,'DejaVu Sans Mono',consolas,'Courier New',monospace\"></pre>\n"
      ],
      "text/plain": []
     },
     "metadata": {},
     "output_type": "display_data"
    },
    {
     "data": {
      "application/vnd.jupyter.widget-view+json": {
       "model_id": "75289e1c88774780ba5de9796e8c19f7",
       "version_major": 2,
       "version_minor": 0
      },
      "text/plain": [
       "Output()"
      ]
     },
     "metadata": {},
     "output_type": "display_data"
    },
    {
     "data": {
      "text/html": [
       "<pre style=\"white-space:pre;overflow-x:auto;line-height:normal;font-family:Menlo,'DejaVu Sans Mono',consolas,'Courier New',monospace\"></pre>\n"
      ],
      "text/plain": []
     },
     "metadata": {},
     "output_type": "display_data"
    },
    {
     "data": {
      "application/vnd.jupyter.widget-view+json": {
       "model_id": "35dcb71f9d19436793dd4f57717ed36c",
       "version_major": 2,
       "version_minor": 0
      },
      "text/plain": [
       "Output()"
      ]
     },
     "metadata": {},
     "output_type": "display_data"
    },
    {
     "data": {
      "text/html": [
       "<pre style=\"white-space:pre;overflow-x:auto;line-height:normal;font-family:Menlo,'DejaVu Sans Mono',consolas,'Courier New',monospace\"></pre>\n"
      ],
      "text/plain": []
     },
     "metadata": {},
     "output_type": "display_data"
    },
    {
     "data": {
      "application/vnd.jupyter.widget-view+json": {
       "model_id": "05a4b8c2bacc40368a0168c588fa28d2",
       "version_major": 2,
       "version_minor": 0
      },
      "text/plain": [
       "Output()"
      ]
     },
     "metadata": {},
     "output_type": "display_data"
    },
    {
     "data": {
      "text/html": [
       "<pre style=\"white-space:pre;overflow-x:auto;line-height:normal;font-family:Menlo,'DejaVu Sans Mono',consolas,'Courier New',monospace\"></pre>\n"
      ],
      "text/plain": []
     },
     "metadata": {},
     "output_type": "display_data"
    },
    {
     "data": {
      "application/vnd.jupyter.widget-view+json": {
       "model_id": "ccfce202288943c18fbcb138da78d5ef",
       "version_major": 2,
       "version_minor": 0
      },
      "text/plain": [
       "Output()"
      ]
     },
     "metadata": {},
     "output_type": "display_data"
    },
    {
     "data": {
      "text/html": [
       "<pre style=\"white-space:pre;overflow-x:auto;line-height:normal;font-family:Menlo,'DejaVu Sans Mono',consolas,'Courier New',monospace\"></pre>\n"
      ],
      "text/plain": []
     },
     "metadata": {},
     "output_type": "display_data"
    },
    {
     "data": {
      "application/vnd.jupyter.widget-view+json": {
       "model_id": "37128f13888e43bcb77db8ae73417c4c",
       "version_major": 2,
       "version_minor": 0
      },
      "text/plain": [
       "Output()"
      ]
     },
     "metadata": {},
     "output_type": "display_data"
    },
    {
     "data": {
      "text/html": [
       "<pre style=\"white-space:pre;overflow-x:auto;line-height:normal;font-family:Menlo,'DejaVu Sans Mono',consolas,'Courier New',monospace\"></pre>\n"
      ],
      "text/plain": []
     },
     "metadata": {},
     "output_type": "display_data"
    },
    {
     "data": {
      "application/vnd.jupyter.widget-view+json": {
       "model_id": "f1c4586d50274a449dfbec77dd621564",
       "version_major": 2,
       "version_minor": 0
      },
      "text/plain": [
       "Output()"
      ]
     },
     "metadata": {},
     "output_type": "display_data"
    },
    {
     "data": {
      "text/html": [
       "<pre style=\"white-space:pre;overflow-x:auto;line-height:normal;font-family:Menlo,'DejaVu Sans Mono',consolas,'Courier New',monospace\"></pre>\n"
      ],
      "text/plain": []
     },
     "metadata": {},
     "output_type": "display_data"
    },
    {
     "data": {
      "application/vnd.jupyter.widget-view+json": {
       "model_id": "9e04de5192b94c2bb1d2a46ed5654d5f",
       "version_major": 2,
       "version_minor": 0
      },
      "text/plain": [
       "Output()"
      ]
     },
     "metadata": {},
     "output_type": "display_data"
    },
    {
     "data": {
      "text/html": [
       "<pre style=\"white-space:pre;overflow-x:auto;line-height:normal;font-family:Menlo,'DejaVu Sans Mono',consolas,'Courier New',monospace\"></pre>\n"
      ],
      "text/plain": []
     },
     "metadata": {},
     "output_type": "display_data"
    },
    {
     "data": {
      "application/vnd.jupyter.widget-view+json": {
       "model_id": "c6c8686f686e44be8379c7849774dd9d",
       "version_major": 2,
       "version_minor": 0
      },
      "text/plain": [
       "Output()"
      ]
     },
     "metadata": {},
     "output_type": "display_data"
    },
    {
     "data": {
      "text/html": [
       "<pre style=\"white-space:pre;overflow-x:auto;line-height:normal;font-family:Menlo,'DejaVu Sans Mono',consolas,'Courier New',monospace\"></pre>\n"
      ],
      "text/plain": []
     },
     "metadata": {},
     "output_type": "display_data"
    },
    {
     "data": {
      "application/vnd.jupyter.widget-view+json": {
       "model_id": "00150ced7e6048cd8af71c66a61cfced",
       "version_major": 2,
       "version_minor": 0
      },
      "text/plain": [
       "Output()"
      ]
     },
     "metadata": {},
     "output_type": "display_data"
    },
    {
     "data": {
      "text/html": [
       "<pre style=\"white-space:pre;overflow-x:auto;line-height:normal;font-family:Menlo,'DejaVu Sans Mono',consolas,'Courier New',monospace\"></pre>\n"
      ],
      "text/plain": []
     },
     "metadata": {},
     "output_type": "display_data"
    },
    {
     "data": {
      "application/vnd.jupyter.widget-view+json": {
       "model_id": "b51c32a1a85a4bf08804ec076ebcd954",
       "version_major": 2,
       "version_minor": 0
      },
      "text/plain": [
       "Output()"
      ]
     },
     "metadata": {},
     "output_type": "display_data"
    },
    {
     "data": {
      "text/html": [
       "<pre style=\"white-space:pre;overflow-x:auto;line-height:normal;font-family:Menlo,'DejaVu Sans Mono',consolas,'Courier New',monospace\"></pre>\n"
      ],
      "text/plain": []
     },
     "metadata": {},
     "output_type": "display_data"
    },
    {
     "data": {
      "application/vnd.jupyter.widget-view+json": {
       "model_id": "7e02a71575c8434a93d56dc34adc0730",
       "version_major": 2,
       "version_minor": 0
      },
      "text/plain": [
       "Output()"
      ]
     },
     "metadata": {},
     "output_type": "display_data"
    },
    {
     "data": {
      "text/html": [
       "<pre style=\"white-space:pre;overflow-x:auto;line-height:normal;font-family:Menlo,'DejaVu Sans Mono',consolas,'Courier New',monospace\"></pre>\n"
      ],
      "text/plain": []
     },
     "metadata": {},
     "output_type": "display_data"
    },
    {
     "data": {
      "application/vnd.jupyter.widget-view+json": {
       "model_id": "63cc87ca9b564114aee6c3ee6f9fe371",
       "version_major": 2,
       "version_minor": 0
      },
      "text/plain": [
       "Output()"
      ]
     },
     "metadata": {},
     "output_type": "display_data"
    },
    {
     "data": {
      "text/html": [
       "<pre style=\"white-space:pre;overflow-x:auto;line-height:normal;font-family:Menlo,'DejaVu Sans Mono',consolas,'Courier New',monospace\"></pre>\n"
      ],
      "text/plain": []
     },
     "metadata": {},
     "output_type": "display_data"
    },
    {
     "data": {
      "application/vnd.jupyter.widget-view+json": {
       "model_id": "d67fb8aa54c94a24804709cb7868aafd",
       "version_major": 2,
       "version_minor": 0
      },
      "text/plain": [
       "Output()"
      ]
     },
     "metadata": {},
     "output_type": "display_data"
    },
    {
     "data": {
      "text/html": [
       "<pre style=\"white-space:pre;overflow-x:auto;line-height:normal;font-family:Menlo,'DejaVu Sans Mono',consolas,'Courier New',monospace\"></pre>\n"
      ],
      "text/plain": []
     },
     "metadata": {},
     "output_type": "display_data"
    },
    {
     "data": {
      "application/vnd.jupyter.widget-view+json": {
       "model_id": "9db11f331a77495dacea95d12c0904e3",
       "version_major": 2,
       "version_minor": 0
      },
      "text/plain": [
       "Output()"
      ]
     },
     "metadata": {},
     "output_type": "display_data"
    },
    {
     "data": {
      "text/html": [
       "<pre style=\"white-space:pre;overflow-x:auto;line-height:normal;font-family:Menlo,'DejaVu Sans Mono',consolas,'Courier New',monospace\"></pre>\n"
      ],
      "text/plain": []
     },
     "metadata": {},
     "output_type": "display_data"
    },
    {
     "data": {
      "application/vnd.jupyter.widget-view+json": {
       "model_id": "b77eec73ebb54c94a0589b886df2ea43",
       "version_major": 2,
       "version_minor": 0
      },
      "text/plain": [
       "Output()"
      ]
     },
     "metadata": {},
     "output_type": "display_data"
    },
    {
     "data": {
      "text/html": [
       "<pre style=\"white-space:pre;overflow-x:auto;line-height:normal;font-family:Menlo,'DejaVu Sans Mono',consolas,'Courier New',monospace\"></pre>\n"
      ],
      "text/plain": []
     },
     "metadata": {},
     "output_type": "display_data"
    },
    {
     "data": {
      "application/vnd.jupyter.widget-view+json": {
       "model_id": "11ca9d06741343a9ae6c09a00c79a6e2",
       "version_major": 2,
       "version_minor": 0
      },
      "text/plain": [
       "Output()"
      ]
     },
     "metadata": {},
     "output_type": "display_data"
    },
    {
     "data": {
      "text/html": [
       "<pre style=\"white-space:pre;overflow-x:auto;line-height:normal;font-family:Menlo,'DejaVu Sans Mono',consolas,'Courier New',monospace\"></pre>\n"
      ],
      "text/plain": []
     },
     "metadata": {},
     "output_type": "display_data"
    },
    {
     "name": "stdout",
     "output_type": "stream",
     "text": [
      "OUTPUT tensor([[-3.3769e-02, -2.3966e-03, -4.4788e-03,  1.7158e-01,  4.4039e-01,\n",
      "          5.2668e-03,  3.4098e-01, -4.9217e-03],\n",
      "        [ 2.4000e-01, -9.7070e-01,  1.4912e-01,  1.4112e-01,  6.7331e-01,\n",
      "         -3.9168e-01, -2.8782e+00,  3.1060e+00],\n",
      "        [ 2.0666e-01,  3.4737e-01, -5.2504e-01,  7.2348e-01, -2.7794e-01,\n",
      "         -4.4331e-01, -4.4078e-02,  9.0643e-01],\n",
      "        [ 2.8956e-01,  1.1862e+00,  1.1918e+00, -7.8435e-01,  4.0478e-01,\n",
      "          5.3864e-01,  3.2520e-01,  3.5325e-02],\n",
      "        [-1.4930e-01,  3.2431e+00,  9.4370e-02, -1.6488e+00,  1.8274e+00,\n",
      "          7.3616e-01,  3.5569e-01, -5.6934e-01],\n",
      "        [ 2.0919e+00,  1.7133e+00, -6.3456e-01, -1.2103e+00,  3.2145e-02,\n",
      "         -3.9980e-01, -7.8119e-01, -9.1423e-02],\n",
      "        [-6.5875e-01,  1.4945e-01,  2.5342e+00, -2.0832e+00, -2.0797e-01,\n",
      "         -1.8818e+00,  7.1947e-01,  4.4496e-02],\n",
      "        [-1.3595e+00, -5.0600e-01,  4.7712e+00,  7.0954e-01, -1.1720e+00,\n",
      "          1.7017e+00, -9.5223e-01,  2.6551e-01],\n",
      "        [ 3.1183e-01, -1.1281e+00,  1.1034e+00, -1.9742e+00, -2.5869e+00,\n",
      "          2.9267e+00,  2.0390e+00,  8.9689e-02],\n",
      "        [ 7.1575e-01,  2.7136e+00, -2.4789e-01,  3.8091e+00,  6.1651e+00,\n",
      "         -6.4932e+00,  4.6128e+00, -1.5571e+00],\n",
      "        [ 8.0552e+00,  3.8968e+00,  1.6762e-01,  1.6716e+00,  4.6703e+00,\n",
      "         -6.7794e+00, -2.5925e+00,  3.3884e-01],\n",
      "        [ 1.9980e+00, -5.2281e+00,  3.2086e+00,  4.9977e-01, -3.8201e+00,\n",
      "         -6.3734e-01, -8.6150e+00,  7.3471e+00],\n",
      "        [ 2.5222e+00,  5.1530e+00, -4.1442e+00, -9.6931e-01,  9.0926e+00,\n",
      "          1.0257e+01,  1.0340e+00,  3.8811e+00],\n",
      "        [-5.2781e+00, -5.2728e+00,  3.3790e+00, -3.1163e-02, -7.8855e-01,\n",
      "          3.8161e+00, -6.5169e-01, -5.9734e+00],\n",
      "        [ 1.1875e+01, -2.4352e+00, -1.6545e+00, -1.4165e+01,  1.1564e+01,\n",
      "          1.1951e+00,  2.4914e+01,  1.6079e+01],\n",
      "        [ 6.8276e+00,  3.8984e+00, -2.3559e+01,  1.5383e+01, -3.7986e+00,\n",
      "         -2.3902e+00,  3.1702e+00, -6.8729e+00],\n",
      "        [ 1.6031e+01,  4.4890e+00, -4.6010e+00, -5.8193e+00, -3.5600e+00,\n",
      "         -4.2548e+00,  4.7781e+01, -9.3678e+00],\n",
      "        [ 1.7709e+01,  2.8809e+00, -9.6071e-01,  2.0648e+00,  1.5588e+01,\n",
      "         -4.6960e+00,  2.3479e+01, -2.7036e+01]])\n"
     ]
    }
   ],
   "source": [
    "output = torch.zeros(model.cfg.n_layers, model.cfg.n_heads)\n",
    "import spacy, random\n",
    "import numpy as np\n",
    "import ast\n",
    "\n",
    "random.seed(seed)\n",
    "coarse_tags = [\"adjective\",\"noun\",\"verb\",\"adverb\",\"preposition\",\"particle\",\n",
    "               \"determiner\",\"conjunction\",\"number\",\"pronoun\",\"other\"]\n",
    "multi_first_token = True\n",
    "\n",
    "tv_data = tv_data.head(10)\n",
    "num_samples = 0\n",
    "for i, item in tv_data.iterrows():\n",
    "\n",
    "    for tag in coarse_tags:\n",
    "\n",
    "        item[tag] = ast.literal_eval(item[tag])\n",
    "        \n",
    "        if item[tag] != []:\n",
    "            tag_to_use = tag\n",
    "\n",
    "            clean_prompt = template.format(\n",
    "                sentence=item[\"Sentence\"],\n",
    "                tag=tag_to_use\n",
    "            )\n",
    "            corrupted_prompt = template.format(\n",
    "                sentence=item[\"Sentence\"],\n",
    "                tag=\"null\"\n",
    "            )\n",
    "            source_toks = model.to_tokens(clean_prompt, prepend_bos=False).squeeze(-1)\n",
    "            corr_toks = model.to_tokens(corrupted_prompt, prepend_bos=False).squeeze(-1)\n",
    "\n",
    "            ans_tokens_list = []\n",
    "            \n",
    "            for word in item[tag]:\n",
    "                word_token = model.to_tokens(word, prepend_bos=False).squeeze(-1)\n",
    "                \n",
    "                if word_token.shape != torch.Size([1]):\n",
    "                    if not multi_first_token:\n",
    "                        continue\n",
    "                    else:\n",
    "                        for other_tag in coarse_tags:\n",
    "                            if other_tag != tag:\n",
    "                                for corr in item[other_tag]:\n",
    "                                    corr_token = model.to_tokens(corr, prepend_bos=False).squeeze(-1)\n",
    "                                    w0 = word_token.view(-1)[0].item()\n",
    "                                    c0 = corr_token.view(-1)[0].item()\n",
    "                                    ans_tokens = torch.tensor([w0, c0]).to(device)\n",
    "                                    ans_tokens_list.append(ans_tokens)\n",
    "                else:\n",
    "                    for other_tag in coarse_tags:\n",
    "                            if other_tag != tag:\n",
    "                                for corr in item[other_tag]:\n",
    "                                    corr_token = model.to_tokens(corr, prepend_bos=False).squeeze(-1)\n",
    "                                    if corr_token.shape != torch.Size([1]):\n",
    "                                        continue\n",
    "                                    ans_tokens = torch.stack([torch.tensor((word_token, corr_token))]).to(device)\n",
    "                                    ans_tokens_list.append(ans_tokens)\n",
    "                \n",
    "            ans_tokens = ans_tokens_list\n",
    "            output+=path_patching(model, receiver_nodes, source_toks, corr_toks, ans_tokens, component, position, freeze_mlps, indirect_patch, metric=metric, is_multitoken=allow_multitoken)\n",
    "        else:\n",
    "            continue\n",
    "\n",
    "        num_samples += 1\n",
    "    \n",
    "output/=num_samples\n",
    "print(\"OUTPUT\", output)"
   ]
  },
  {
   "cell_type": "code",
   "execution_count": 7,
   "id": "7eb6db71",
   "metadata": {},
   "outputs": [
    {
     "name": "stdout",
     "output_type": "stream",
     "text": [
      "Saving to deneme.npy\n"
     ]
    }
   ],
   "source": [
    "recv_str = '_'.join(['-'.join([str(si) for si in s if si is not None]) for s in receiver_nodes])\n",
    "print(\"Saving to\", f'{\"deneme\".strip(\".json\") }.npy')\n",
    "np.save(f'{\"deneme\".strip(\".json\") }.npy', output.numpy())"
   ]
  },
  {
   "cell_type": "markdown",
   "id": "a4f2cf2e",
   "metadata": {},
   "source": []
  },
  {
   "cell_type": "code",
   "execution_count": 8,
   "id": "a4498244",
   "metadata": {},
   "outputs": [
    {
     "data": {
      "application/vnd.plotly.v1+json": {
       "config": {
        "plotlyServerURL": "https://plot.ly"
       },
       "data": [
        {
         "coloraxis": "coloraxis",
         "hovertemplate": "x: %{x}<br>y: %{y}<br>% path-patch score: %{z}<extra></extra>",
         "name": "0",
         "type": "heatmap",
         "xaxis": "x",
         "yaxis": "y",
         "z": {
          "bdata": "K1EKvTcQHbsxw5K7oLMvPqt64T6Glaw7BpWuPlhGobujw3U+wn94vwCzGD5qghA+Hl4sP8KKyL7PMzjASslGQK2eUz7l2bE+12gGv641OT+DTo6+a/nivjqLNL0aDGg/WkGUPnbVlz96jpg/bctIv8g/zz5W5Ak/DoGmPmKxED1T4Ri+ro5PQCBFwT3zDNO/6+fpP/50PD+sHLY+LcARvwPhBUCOTNs/fnIiv0bqmr/gqgM9jbLMvkr8R7/mO7u94KMov04IGT4JMSJA9lMFwC72VL6W3vC/Ji84P5ZBNj3mA66/JYkBv/itmECZpDU/2QKWv+rP2T9QxXO/rvCHPj6onz4bZZC/+DuNPyi0/L8AjyXAlk87QGt+AkDArrc9KTs3PyOsLUAN132+c8hzQOhIxUAiyM/AvZuTQLNPx7/74QBByGR5QN6kKz5e+NU/+HKVQLXw2MB66yXAKnytPo29/z90TKfA41lNQCbi/z6GfHTAdigjvxbXCcF2G+tAIWshQLrlpEADnYTArSR4vyl7EUF9HSRBu1mEP1ZkeEA15qjAlLqowBNCWECaSf+8ft5Jv5M7dEBm1Sa/zyW/wIQAPkFQ2hvAqMfTv5aiYsFPBDlBUPiYP3BQx0HFoIBBtXvaQIB/eUCAebzB5iB2Qe4bc8Cu+BjAVeRKQHbu28CuP4BB/qWPQAg7k8CrN7rAltdjwGAniMByHz9Cq+IVweOrjUH9YDhAO/F1vzomBEDdZnlBgkWWwF7Vu0E9SdjB",
          "dtype": "f4",
          "shape": "18, 8"
         }
        }
       ],
       "layout": {
        "coloraxis": {
         "cmax": 47.78070831298828,
         "cmid": 0,
         "cmin": -47.78070831298828,
         "colorbar": {
          "title": {
           "text": "% path-patch score"
          }
         },
         "colorscale": [
          [
           0,
           "rgb(103,0,31)"
          ],
          [
           0.1,
           "rgb(178,24,43)"
          ],
          [
           0.2,
           "rgb(214,96,77)"
          ],
          [
           0.3,
           "rgb(244,165,130)"
          ],
          [
           0.4,
           "rgb(253,219,199)"
          ],
          [
           0.5,
           "rgb(247,247,247)"
          ],
          [
           0.6,
           "rgb(209,229,240)"
          ],
          [
           0.7,
           "rgb(146,197,222)"
          ],
          [
           0.8,
           "rgb(67,147,195)"
          ],
          [
           0.9,
           "rgb(33,102,172)"
          ],
          [
           1,
           "rgb(5,48,97)"
          ]
         ]
        },
        "height": 600,
        "margin": {
         "t": 60
        },
        "template": {
         "data": {
          "bar": [
           {
            "error_x": {
             "color": "#2a3f5f"
            },
            "error_y": {
             "color": "#2a3f5f"
            },
            "marker": {
             "line": {
              "color": "#E5ECF6",
              "width": 0.5
             },
             "pattern": {
              "fillmode": "overlay",
              "size": 10,
              "solidity": 0.2
             }
            },
            "type": "bar"
           }
          ],
          "barpolar": [
           {
            "marker": {
             "line": {
              "color": "#E5ECF6",
              "width": 0.5
             },
             "pattern": {
              "fillmode": "overlay",
              "size": 10,
              "solidity": 0.2
             }
            },
            "type": "barpolar"
           }
          ],
          "carpet": [
           {
            "aaxis": {
             "endlinecolor": "#2a3f5f",
             "gridcolor": "white",
             "linecolor": "white",
             "minorgridcolor": "white",
             "startlinecolor": "#2a3f5f"
            },
            "baxis": {
             "endlinecolor": "#2a3f5f",
             "gridcolor": "white",
             "linecolor": "white",
             "minorgridcolor": "white",
             "startlinecolor": "#2a3f5f"
            },
            "type": "carpet"
           }
          ],
          "choropleth": [
           {
            "colorbar": {
             "outlinewidth": 0,
             "ticks": ""
            },
            "type": "choropleth"
           }
          ],
          "contour": [
           {
            "colorbar": {
             "outlinewidth": 0,
             "ticks": ""
            },
            "colorscale": [
             [
              0,
              "#0d0887"
             ],
             [
              0.1111111111111111,
              "#46039f"
             ],
             [
              0.2222222222222222,
              "#7201a8"
             ],
             [
              0.3333333333333333,
              "#9c179e"
             ],
             [
              0.4444444444444444,
              "#bd3786"
             ],
             [
              0.5555555555555556,
              "#d8576b"
             ],
             [
              0.6666666666666666,
              "#ed7953"
             ],
             [
              0.7777777777777778,
              "#fb9f3a"
             ],
             [
              0.8888888888888888,
              "#fdca26"
             ],
             [
              1,
              "#f0f921"
             ]
            ],
            "type": "contour"
           }
          ],
          "contourcarpet": [
           {
            "colorbar": {
             "outlinewidth": 0,
             "ticks": ""
            },
            "type": "contourcarpet"
           }
          ],
          "heatmap": [
           {
            "colorbar": {
             "outlinewidth": 0,
             "ticks": ""
            },
            "colorscale": [
             [
              0,
              "#0d0887"
             ],
             [
              0.1111111111111111,
              "#46039f"
             ],
             [
              0.2222222222222222,
              "#7201a8"
             ],
             [
              0.3333333333333333,
              "#9c179e"
             ],
             [
              0.4444444444444444,
              "#bd3786"
             ],
             [
              0.5555555555555556,
              "#d8576b"
             ],
             [
              0.6666666666666666,
              "#ed7953"
             ],
             [
              0.7777777777777778,
              "#fb9f3a"
             ],
             [
              0.8888888888888888,
              "#fdca26"
             ],
             [
              1,
              "#f0f921"
             ]
            ],
            "type": "heatmap"
           }
          ],
          "histogram": [
           {
            "marker": {
             "pattern": {
              "fillmode": "overlay",
              "size": 10,
              "solidity": 0.2
             }
            },
            "type": "histogram"
           }
          ],
          "histogram2d": [
           {
            "colorbar": {
             "outlinewidth": 0,
             "ticks": ""
            },
            "colorscale": [
             [
              0,
              "#0d0887"
             ],
             [
              0.1111111111111111,
              "#46039f"
             ],
             [
              0.2222222222222222,
              "#7201a8"
             ],
             [
              0.3333333333333333,
              "#9c179e"
             ],
             [
              0.4444444444444444,
              "#bd3786"
             ],
             [
              0.5555555555555556,
              "#d8576b"
             ],
             [
              0.6666666666666666,
              "#ed7953"
             ],
             [
              0.7777777777777778,
              "#fb9f3a"
             ],
             [
              0.8888888888888888,
              "#fdca26"
             ],
             [
              1,
              "#f0f921"
             ]
            ],
            "type": "histogram2d"
           }
          ],
          "histogram2dcontour": [
           {
            "colorbar": {
             "outlinewidth": 0,
             "ticks": ""
            },
            "colorscale": [
             [
              0,
              "#0d0887"
             ],
             [
              0.1111111111111111,
              "#46039f"
             ],
             [
              0.2222222222222222,
              "#7201a8"
             ],
             [
              0.3333333333333333,
              "#9c179e"
             ],
             [
              0.4444444444444444,
              "#bd3786"
             ],
             [
              0.5555555555555556,
              "#d8576b"
             ],
             [
              0.6666666666666666,
              "#ed7953"
             ],
             [
              0.7777777777777778,
              "#fb9f3a"
             ],
             [
              0.8888888888888888,
              "#fdca26"
             ],
             [
              1,
              "#f0f921"
             ]
            ],
            "type": "histogram2dcontour"
           }
          ],
          "mesh3d": [
           {
            "colorbar": {
             "outlinewidth": 0,
             "ticks": ""
            },
            "type": "mesh3d"
           }
          ],
          "parcoords": [
           {
            "line": {
             "colorbar": {
              "outlinewidth": 0,
              "ticks": ""
             }
            },
            "type": "parcoords"
           }
          ],
          "pie": [
           {
            "automargin": true,
            "type": "pie"
           }
          ],
          "scatter": [
           {
            "fillpattern": {
             "fillmode": "overlay",
             "size": 10,
             "solidity": 0.2
            },
            "type": "scatter"
           }
          ],
          "scatter3d": [
           {
            "line": {
             "colorbar": {
              "outlinewidth": 0,
              "ticks": ""
             }
            },
            "marker": {
             "colorbar": {
              "outlinewidth": 0,
              "ticks": ""
             }
            },
            "type": "scatter3d"
           }
          ],
          "scattercarpet": [
           {
            "marker": {
             "colorbar": {
              "outlinewidth": 0,
              "ticks": ""
             }
            },
            "type": "scattercarpet"
           }
          ],
          "scattergeo": [
           {
            "marker": {
             "colorbar": {
              "outlinewidth": 0,
              "ticks": ""
             }
            },
            "type": "scattergeo"
           }
          ],
          "scattergl": [
           {
            "marker": {
             "colorbar": {
              "outlinewidth": 0,
              "ticks": ""
             }
            },
            "type": "scattergl"
           }
          ],
          "scattermap": [
           {
            "marker": {
             "colorbar": {
              "outlinewidth": 0,
              "ticks": ""
             }
            },
            "type": "scattermap"
           }
          ],
          "scattermapbox": [
           {
            "marker": {
             "colorbar": {
              "outlinewidth": 0,
              "ticks": ""
             }
            },
            "type": "scattermapbox"
           }
          ],
          "scatterpolar": [
           {
            "marker": {
             "colorbar": {
              "outlinewidth": 0,
              "ticks": ""
             }
            },
            "type": "scatterpolar"
           }
          ],
          "scatterpolargl": [
           {
            "marker": {
             "colorbar": {
              "outlinewidth": 0,
              "ticks": ""
             }
            },
            "type": "scatterpolargl"
           }
          ],
          "scatterternary": [
           {
            "marker": {
             "colorbar": {
              "outlinewidth": 0,
              "ticks": ""
             }
            },
            "type": "scatterternary"
           }
          ],
          "surface": [
           {
            "colorbar": {
             "outlinewidth": 0,
             "ticks": ""
            },
            "colorscale": [
             [
              0,
              "#0d0887"
             ],
             [
              0.1111111111111111,
              "#46039f"
             ],
             [
              0.2222222222222222,
              "#7201a8"
             ],
             [
              0.3333333333333333,
              "#9c179e"
             ],
             [
              0.4444444444444444,
              "#bd3786"
             ],
             [
              0.5555555555555556,
              "#d8576b"
             ],
             [
              0.6666666666666666,
              "#ed7953"
             ],
             [
              0.7777777777777778,
              "#fb9f3a"
             ],
             [
              0.8888888888888888,
              "#fdca26"
             ],
             [
              1,
              "#f0f921"
             ]
            ],
            "type": "surface"
           }
          ],
          "table": [
           {
            "cells": {
             "fill": {
              "color": "#EBF0F8"
             },
             "line": {
              "color": "white"
             }
            },
            "header": {
             "fill": {
              "color": "#C8D4E3"
             },
             "line": {
              "color": "white"
             }
            },
            "type": "table"
           }
          ]
         },
         "layout": {
          "annotationdefaults": {
           "arrowcolor": "#2a3f5f",
           "arrowhead": 0,
           "arrowwidth": 1
          },
          "autotypenumbers": "strict",
          "coloraxis": {
           "colorbar": {
            "outlinewidth": 0,
            "ticks": ""
           }
          },
          "colorscale": {
           "diverging": [
            [
             0,
             "#8e0152"
            ],
            [
             0.1,
             "#c51b7d"
            ],
            [
             0.2,
             "#de77ae"
            ],
            [
             0.3,
             "#f1b6da"
            ],
            [
             0.4,
             "#fde0ef"
            ],
            [
             0.5,
             "#f7f7f7"
            ],
            [
             0.6,
             "#e6f5d0"
            ],
            [
             0.7,
             "#b8e186"
            ],
            [
             0.8,
             "#7fbc41"
            ],
            [
             0.9,
             "#4d9221"
            ],
            [
             1,
             "#276419"
            ]
           ],
           "sequential": [
            [
             0,
             "#0d0887"
            ],
            [
             0.1111111111111111,
             "#46039f"
            ],
            [
             0.2222222222222222,
             "#7201a8"
            ],
            [
             0.3333333333333333,
             "#9c179e"
            ],
            [
             0.4444444444444444,
             "#bd3786"
            ],
            [
             0.5555555555555556,
             "#d8576b"
            ],
            [
             0.6666666666666666,
             "#ed7953"
            ],
            [
             0.7777777777777778,
             "#fb9f3a"
            ],
            [
             0.8888888888888888,
             "#fdca26"
            ],
            [
             1,
             "#f0f921"
            ]
           ],
           "sequentialminus": [
            [
             0,
             "#0d0887"
            ],
            [
             0.1111111111111111,
             "#46039f"
            ],
            [
             0.2222222222222222,
             "#7201a8"
            ],
            [
             0.3333333333333333,
             "#9c179e"
            ],
            [
             0.4444444444444444,
             "#bd3786"
            ],
            [
             0.5555555555555556,
             "#d8576b"
            ],
            [
             0.6666666666666666,
             "#ed7953"
            ],
            [
             0.7777777777777778,
             "#fb9f3a"
            ],
            [
             0.8888888888888888,
             "#fdca26"
            ],
            [
             1,
             "#f0f921"
            ]
           ]
          },
          "colorway": [
           "#636efa",
           "#EF553B",
           "#00cc96",
           "#ab63fa",
           "#FFA15A",
           "#19d3f3",
           "#FF6692",
           "#B6E880",
           "#FF97FF",
           "#FECB52"
          ],
          "font": {
           "color": "#2a3f5f"
          },
          "geo": {
           "bgcolor": "white",
           "lakecolor": "white",
           "landcolor": "#E5ECF6",
           "showlakes": true,
           "showland": true,
           "subunitcolor": "white"
          },
          "hoverlabel": {
           "align": "left"
          },
          "hovermode": "closest",
          "mapbox": {
           "style": "light"
          },
          "paper_bgcolor": "white",
          "plot_bgcolor": "#E5ECF6",
          "polar": {
           "angularaxis": {
            "gridcolor": "white",
            "linecolor": "white",
            "ticks": ""
           },
           "bgcolor": "#E5ECF6",
           "radialaxis": {
            "gridcolor": "white",
            "linecolor": "white",
            "ticks": ""
           }
          },
          "scene": {
           "xaxis": {
            "backgroundcolor": "#E5ECF6",
            "gridcolor": "white",
            "gridwidth": 2,
            "linecolor": "white",
            "showbackground": true,
            "ticks": "",
            "zerolinecolor": "white"
           },
           "yaxis": {
            "backgroundcolor": "#E5ECF6",
            "gridcolor": "white",
            "gridwidth": 2,
            "linecolor": "white",
            "showbackground": true,
            "ticks": "",
            "zerolinecolor": "white"
           },
           "zaxis": {
            "backgroundcolor": "#E5ECF6",
            "gridcolor": "white",
            "gridwidth": 2,
            "linecolor": "white",
            "showbackground": true,
            "ticks": "",
            "zerolinecolor": "white"
           }
          },
          "shapedefaults": {
           "line": {
            "color": "#2a3f5f"
           }
          },
          "ternary": {
           "aaxis": {
            "gridcolor": "white",
            "linecolor": "white",
            "ticks": ""
           },
           "baxis": {
            "gridcolor": "white",
            "linecolor": "white",
            "ticks": ""
           },
           "bgcolor": "#E5ECF6",
           "caxis": {
            "gridcolor": "white",
            "linecolor": "white",
            "ticks": ""
           }
          },
          "title": {
           "x": 0.05
          },
          "xaxis": {
           "automargin": true,
           "gridcolor": "white",
           "linecolor": "white",
           "ticks": "",
           "title": {
            "standoff": 15
           },
           "zerolinecolor": "white",
           "zerolinewidth": 2
          },
          "yaxis": {
           "automargin": true,
           "gridcolor": "white",
           "linecolor": "white",
           "ticks": "",
           "title": {
            "standoff": 15
           },
           "zerolinecolor": "white",
           "zerolinewidth": 2
          }
         }
        },
        "title": {
         "text": "Path patching (%) – 17"
        },
        "width": 400,
        "xaxis": {
         "anchor": "y",
         "constrain": "domain",
         "domain": [
          0,
          1
         ],
         "scaleanchor": "y",
         "tickmode": "array",
         "tickvals": [
          0,
          1,
          2,
          3,
          4,
          5,
          6,
          7
         ],
         "title": {
          "text": "Head"
         }
        },
        "yaxis": {
         "anchor": "x",
         "autorange": "reversed",
         "constrain": "domain",
         "domain": [
          0,
          1
         ],
         "tickmode": "array",
         "tickvals": [
          0,
          1,
          2,
          3,
          4,
          5,
          6,
          7,
          8,
          9,
          10,
          11,
          12,
          13,
          14,
          15,
          16,
          17
         ],
         "title": {
          "text": "Layer"
         }
        }
       }
      }
     },
     "metadata": {},
     "output_type": "display_data"
    }
   ],
   "source": [
    "import numpy as np\n",
    "import plotly.express as px\n",
    "from pathlib import Path\n",
    "\n",
    "def show_path_patching_heatmap(arr_or_path, title=None, renderer=None,\n",
    "                               midpoint=0.0, symmetric=True, zmax=None,\n",
    "                               origin=\"upper\", annotate=False, fmt=\".2f\"):\n",
    "    \"\"\"\n",
    "    arr_or_path: np.ndarray of shape (n_layers, n_heads) or path to .npy\n",
    "    origin: \"upper\" puts layer 0 at top; use \"lower\" to put it at bottom\n",
    "    \"\"\"\n",
    "    A = np.load(arr_or_path) if isinstance(arr_or_path, (str, Path)) else np.asarray(arr_or_path)\n",
    "    assert A.ndim == 2, \"Expected (layers, heads) array\"\n",
    "\n",
    "    n_layers, n_heads = A.shape\n",
    "    if symmetric:\n",
    "        vmax = float(np.nanmax(np.abs(A))) if zmax is None else float(zmax)\n",
    "        zmin, zmax = -vmax, vmax\n",
    "    else:\n",
    "        zmin = None\n",
    "\n",
    "    fig = px.imshow(\n",
    "        A,\n",
    "        color_continuous_scale=\"RdBu\",\n",
    "        color_continuous_midpoint=midpoint,\n",
    "        zmin=zmin, zmax=zmax,\n",
    "        origin=origin,\n",
    "        labels=dict(color=\"% path-patch score\")\n",
    "    )\n",
    "    fig.update_xaxes(title=\"Head\", tickmode=\"array\", tickvals=list(range(n_heads)))\n",
    "    fig.update_yaxes(title=\"Layer\", tickmode=\"array\", tickvals=list(range(n_layers)))\n",
    "    fig.update_layout(title=title,\n",
    "                      height=600,                     # keep same vertical size\n",
    "                    width=n_heads * 50)\n",
    "\n",
    "    if annotate:\n",
    "        text = np.vectorize(lambda x: f\"{x:{fmt}}\")(A)\n",
    "        fig.update_traces(text=text, texttemplate=\"%{text}\", textfont_size=10)\n",
    "\n",
    "    fig.show(renderer)\n",
    "\n",
    "# Example use:\n",
    "arr = np.load(\"deneme.npy\")  # you saved output*100\n",
    "# show_path_patching_heatmap(arr, title=f\"Path patching (%) – {recv_str}\", symmetric=True, origin=\"upper\")\n",
    "# or directly:\n",
    "show_path_patching_heatmap(\"deneme.npy\", title=f\"Path patching (%) – {recv_str}\")\n"
   ]
  }
 ],
 "metadata": {
  "kernelspec": {
   "display_name": "fmvalid (3.11.2)",
   "language": "python",
   "name": "python3"
  },
  "language_info": {
   "codemirror_mode": {
    "name": "ipython",
    "version": 3
   },
   "file_extension": ".py",
   "mimetype": "text/x-python",
   "name": "python",
   "nbconvert_exporter": "python",
   "pygments_lexer": "ipython3",
   "version": "3.11.2"
  }
 },
 "nbformat": 4,
 "nbformat_minor": 5
}
